{
 "cells": [
  {
   "cell_type": "code",
   "execution_count": 2,
   "metadata": {},
   "outputs": [],
   "source": [
    "import pandas as pd\n",
    "from sklearn.feature_extraction.text import TfidfVectorizer\n",
    "from sklearn.feature_extraction.text import CountVectorizer\n",
    "from sklearn.cluster import KMeans\n",
    "from sklearn.metrics import adjusted_rand_score\n",
    "import string\n",
    "from nltk.corpus import stopwords\n",
    "import glob\n",
    "import re\n",
    "import os"
   ]
  },
  {
   "cell_type": "code",
   "execution_count": 3,
   "metadata": {},
   "outputs": [],
   "source": [
    "os.chdir('/Users/alisdghnia/Desktop/untitled folder/')"
   ]
  },
  {
   "cell_type": "code",
   "execution_count": 4,
   "metadata": {},
   "outputs": [
    {
     "ename": "FileNotFoundError",
     "evalue": "[Errno 2] No such file or directory: '/Users/alisdghnia/Desktop/untitled folder/bitcoin.pdf'",
     "output_type": "error",
     "traceback": [
      "\u001b[0;31m---------------------------------------------------------------------------\u001b[0m",
      "\u001b[0;31mFileNotFoundError\u001b[0m                         Traceback (most recent call last)",
      "\u001b[1;32m/Users/alisdghnia/Desktop/Crypto Research Repo Folder/Crypto-Whitepaper-Research-1/TF-IDF.ipynb Cell 3\u001b[0m in \u001b[0;36m<cell line: 66>\u001b[0;34m()\u001b[0m\n\u001b[1;32m     <a href='vscode-notebook-cell:/Users/alisdghnia/Desktop/Crypto%20Research%20Repo%20Folder/Crypto-Whitepaper-Research-1/TF-IDF.ipynb#W2sZmlsZQ%3D%3D?line=62'>63</a>\u001b[0m     \u001b[39mreturn\u001b[39;00m text\n\u001b[1;32m     <a href='vscode-notebook-cell:/Users/alisdghnia/Desktop/Crypto%20Research%20Repo%20Folder/Crypto-Whitepaper-Research-1/TF-IDF.ipynb#W2sZmlsZQ%3D%3D?line=64'>65</a>\u001b[0m path_to_pdf \u001b[39m=\u001b[39m \u001b[39m\"\u001b[39m\u001b[39m/Users/alisdghnia/Desktop/untitled folder/bitcoin.pdf\u001b[39m\u001b[39m\"\u001b[39m\n\u001b[0;32m---> <a href='vscode-notebook-cell:/Users/alisdghnia/Desktop/Crypto%20Research%20Repo%20Folder/Crypto-Whitepaper-Research-1/TF-IDF.ipynb#W2sZmlsZQ%3D%3D?line=65'>66</a>\u001b[0m Al\u001b[39m=\u001b[39mget_pdf_file_content(path_to_pdf)\n\u001b[1;32m     <a href='vscode-notebook-cell:/Users/alisdghnia/Desktop/Crypto%20Research%20Repo%20Folder/Crypto-Whitepaper-Research-1/TF-IDF.ipynb#W2sZmlsZQ%3D%3D?line=66'>67</a>\u001b[0m \u001b[39m#print(Al.count(\"¶\"))\u001b[39;00m\n\u001b[1;32m     <a href='vscode-notebook-cell:/Users/alisdghnia/Desktop/Crypto%20Research%20Repo%20Folder/Crypto-Whitepaper-Research-1/TF-IDF.ipynb#W2sZmlsZQ%3D%3D?line=67'>68</a>\u001b[0m \u001b[39m#changer = Al.find(\"¶\")\u001b[39;00m\n\u001b[1;32m     <a href='vscode-notebook-cell:/Users/alisdghnia/Desktop/Crypto%20Research%20Repo%20Folder/Crypto-Whitepaper-Research-1/TF-IDF.ipynb#W2sZmlsZQ%3D%3D?line=68'>69</a>\u001b[0m \u001b[39m##Al = Al.replace(\"¶a\",\"á\")\u001b[39;00m\n\u001b[0;32m   (...)\u001b[0m\n\u001b[1;32m     <a href='vscode-notebook-cell:/Users/alisdghnia/Desktop/Crypto%20Research%20Repo%20Folder/Crypto-Whitepaper-Research-1/TF-IDF.ipynb#W2sZmlsZQ%3D%3D?line=78'>79</a>\u001b[0m \u001b[39m##print(Al.count('\\\\'))\u001b[39;00m\n\u001b[1;32m     <a href='vscode-notebook-cell:/Users/alisdghnia/Desktop/Crypto%20Research%20Repo%20Folder/Crypto-Whitepaper-Research-1/TF-IDF.ipynb#W2sZmlsZQ%3D%3D?line=79'>80</a>\u001b[0m \u001b[39m##print(Al)\u001b[39;00m\n\u001b[1;32m     <a href='vscode-notebook-cell:/Users/alisdghnia/Desktop/Crypto%20Research%20Repo%20Folder/Crypto-Whitepaper-Research-1/TF-IDF.ipynb#W2sZmlsZQ%3D%3D?line=81'>82</a>\u001b[0m words \u001b[39m=\u001b[39m Al\u001b[39m.\u001b[39msplit()\n",
      "\u001b[1;32m/Users/alisdghnia/Desktop/Crypto Research Repo Folder/Crypto-Whitepaper-Research-1/TF-IDF.ipynb Cell 3\u001b[0m in \u001b[0;36mget_pdf_file_content\u001b[0;34m(path_to_pdf)\u001b[0m\n\u001b[1;32m     <a href='vscode-notebook-cell:/Users/alisdghnia/Desktop/Crypto%20Research%20Repo%20Folder/Crypto-Whitepaper-Research-1/TF-IDF.ipynb#W2sZmlsZQ%3D%3D?line=28'>29</a>\u001b[0m \u001b[39m'''\u001b[39;00m\n\u001b[1;32m     <a href='vscode-notebook-cell:/Users/alisdghnia/Desktop/Crypto%20Research%20Repo%20Folder/Crypto-Whitepaper-Research-1/TF-IDF.ipynb#W2sZmlsZQ%3D%3D?line=29'>30</a>\u001b[0m \u001b[39mCreate a TextConverter Object, taking :\u001b[39;00m\n\u001b[1;32m     <a href='vscode-notebook-cell:/Users/alisdghnia/Desktop/Crypto%20Research%20Repo%20Folder/Crypto-Whitepaper-Research-1/TF-IDF.ipynb#W2sZmlsZQ%3D%3D?line=30'>31</a>\u001b[0m \u001b[39m- ressource_manager,\u001b[39;00m\n\u001b[1;32m     <a href='vscode-notebook-cell:/Users/alisdghnia/Desktop/Crypto%20Research%20Repo%20Folder/Crypto-Whitepaper-Research-1/TF-IDF.ipynb#W2sZmlsZQ%3D%3D?line=31'>32</a>\u001b[0m \u001b[39m- out_text \u001b[39;00m\n\u001b[1;32m     <a href='vscode-notebook-cell:/Users/alisdghnia/Desktop/Crypto%20Research%20Repo%20Folder/Crypto-Whitepaper-Research-1/TF-IDF.ipynb#W2sZmlsZQ%3D%3D?line=32'>33</a>\u001b[0m \u001b[39m- layout parameters.\u001b[39;00m\n\u001b[1;32m     <a href='vscode-notebook-cell:/Users/alisdghnia/Desktop/Crypto%20Research%20Repo%20Folder/Crypto-Whitepaper-Research-1/TF-IDF.ipynb#W2sZmlsZQ%3D%3D?line=33'>34</a>\u001b[0m \u001b[39m'''\u001b[39;00m\n\u001b[1;32m     <a href='vscode-notebook-cell:/Users/alisdghnia/Desktop/Crypto%20Research%20Repo%20Folder/Crypto-Whitepaper-Research-1/TF-IDF.ipynb#W2sZmlsZQ%3D%3D?line=34'>35</a>\u001b[0m text_converter \u001b[39m=\u001b[39m TextConverter(resource_manager, out_text, laparams\u001b[39m=\u001b[39mlaParams)\n\u001b[0;32m---> <a href='vscode-notebook-cell:/Users/alisdghnia/Desktop/Crypto%20Research%20Repo%20Folder/Crypto-Whitepaper-Research-1/TF-IDF.ipynb#W2sZmlsZQ%3D%3D?line=35'>36</a>\u001b[0m fp \u001b[39m=\u001b[39m \u001b[39mopen\u001b[39;49m(path_to_pdf, \u001b[39m'\u001b[39;49m\u001b[39mrb\u001b[39;49m\u001b[39m'\u001b[39;49m)\n\u001b[1;32m     <a href='vscode-notebook-cell:/Users/alisdghnia/Desktop/Crypto%20Research%20Repo%20Folder/Crypto-Whitepaper-Research-1/TF-IDF.ipynb#W2sZmlsZQ%3D%3D?line=37'>38</a>\u001b[0m \u001b[39m'''\u001b[39;00m\n\u001b[1;32m     <a href='vscode-notebook-cell:/Users/alisdghnia/Desktop/Crypto%20Research%20Repo%20Folder/Crypto-Whitepaper-Research-1/TF-IDF.ipynb#W2sZmlsZQ%3D%3D?line=38'>39</a>\u001b[0m \u001b[39mCreate a PDF interpreter object taking: \u001b[39;00m\n\u001b[1;32m     <a href='vscode-notebook-cell:/Users/alisdghnia/Desktop/Crypto%20Research%20Repo%20Folder/Crypto-Whitepaper-Research-1/TF-IDF.ipynb#W2sZmlsZQ%3D%3D?line=39'>40</a>\u001b[0m \u001b[39m- ressource_manager \u001b[39;00m\n\u001b[1;32m     <a href='vscode-notebook-cell:/Users/alisdghnia/Desktop/Crypto%20Research%20Repo%20Folder/Crypto-Whitepaper-Research-1/TF-IDF.ipynb#W2sZmlsZQ%3D%3D?line=40'>41</a>\u001b[0m \u001b[39m- text_converter\u001b[39;00m\n\u001b[1;32m     <a href='vscode-notebook-cell:/Users/alisdghnia/Desktop/Crypto%20Research%20Repo%20Folder/Crypto-Whitepaper-Research-1/TF-IDF.ipynb#W2sZmlsZQ%3D%3D?line=41'>42</a>\u001b[0m \u001b[39m'''\u001b[39;00m\n\u001b[1;32m     <a href='vscode-notebook-cell:/Users/alisdghnia/Desktop/Crypto%20Research%20Repo%20Folder/Crypto-Whitepaper-Research-1/TF-IDF.ipynb#W2sZmlsZQ%3D%3D?line=42'>43</a>\u001b[0m interpreter \u001b[39m=\u001b[39m PDFPageInterpreter(resource_manager, text_converter)\n",
      "\u001b[0;31mFileNotFoundError\u001b[0m: [Errno 2] No such file or directory: '/Users/alisdghnia/Desktop/untitled folder/bitcoin.pdf'"
     ]
    }
   ],
   "source": [
    "from pdfminer.pdfinterp import PDFResourceManager, PDFPageInterpreter\n",
    "from pdfminer.layout import LAParams\n",
    "from pdfminer.converter import TextConverter\n",
    "from io import StringIO\n",
    "from pdfminer.pdfpage import PDFPage\n",
    "def get_pdf_file_content(path_to_pdf):\n",
    "    '''\n",
    "    path_to_pdf: is the parameter that will give access to the PDF File \n",
    "    we want to extract the content.\n",
    "    '''\n",
    "    '''\n",
    "    PDFResourceManager is used to store shared resources such as fonts or images that \n",
    "    we might encounter in the files. \n",
    "    '''\n",
    "    resource_manager = PDFResourceManager(caching=True)\n",
    "    '''\n",
    "    create a string object that will contain the final text the representation of the pdf. \n",
    "    '''\n",
    "    out_text = StringIO()\n",
    "    '''\n",
    "    UTF-8 is one of the most commonly used encodings, and Python often defaults to using it.\n",
    "    In our case, we are going to specify in order to avoid some encoding errors.\n",
    "    '''\n",
    "    codec = 'utf-8'\n",
    "    \"\"\"\n",
    "    LAParams is the object containing the Layout parameters with a certain default value. \n",
    "    \"\"\"\n",
    "    laParams = LAParams()\n",
    "    '''\n",
    "    Create a TextConverter Object, taking :\n",
    "    - ressource_manager,\n",
    "    - out_text \n",
    "    - layout parameters.\n",
    "    '''\n",
    "    text_converter = TextConverter(resource_manager, out_text, laparams=laParams)\n",
    "    fp = open(path_to_pdf, 'rb')\n",
    "    \n",
    "    '''\n",
    "    Create a PDF interpreter object taking: \n",
    "    - ressource_manager \n",
    "    - text_converter\n",
    "    '''\n",
    "    interpreter = PDFPageInterpreter(resource_manager, text_converter)\n",
    "    '''\n",
    "    We are going to process the content of each page of the original PDF File\n",
    "    '''\n",
    "    for page in PDFPage.get_pages(fp, pagenos=set(), maxpages=100000, password=\"\", caching=True, check_extractable=False):\n",
    "        interpreter.process_page(page)\n",
    "    '''\n",
    "    Retrieve the entire contents of the “file” at any time \n",
    "    before the StringIO object’s close() method is called.\n",
    "    '''\n",
    "    text = out_text.getvalue()\n",
    "    '''\n",
    "    Closing all the ressources we previously opened\n",
    "    '''\n",
    "    fp.close()\n",
    "    text_converter.close()\n",
    "    out_text.close()\n",
    "    '''\n",
    "    Return the final variable containing all the text of the PDF\n",
    "    '''\n",
    "    return text\n",
    "\n",
    "path_to_pdf = \"/Users/alisdghnia/Desktop/untitled folder/bitcoin.pdf\"\n",
    "Al=get_pdf_file_content(path_to_pdf)\n",
    "#print(Al.count(\"¶\"))\n",
    "#changer = Al.find(\"¶\")\n",
    "##Al = Al.replace(\"¶a\",\"á\")\n",
    "##Al = Al.replace(\"¶e\",\"é\")\n",
    "##Al = Al.replace(\"¶‡\",\"í\")\n",
    "##Al = Al.replace(\"¶o\",\"ó\")\n",
    "##Al = Al.replace(\"¶u\",\"ú\")\n",
    "##Al = Al.replace(\"~n\",\"ñ\")\n",
    "##Al = Al.replace(\"¶A\",\"Á\")\n",
    "##Al = Al.replace(\"\\\\\",'\"')\n",
    "#print(changer)\n",
    "#print(Al)\n",
    "##print(Al.count('\\\\'))\n",
    "##print(Al)\n",
    "\n",
    "words = Al.split()\n",
    "print(len(words))\n",
    "print(Al)"
   ]
  },
  {
   "cell_type": "code",
   "execution_count": 5,
   "metadata": {},
   "outputs": [],
   "source": [
    "os.chdir('/Users/alisdghnia/Desktop/untitled folder')"
   ]
  },
  {
   "cell_type": "code",
   "execution_count": 6,
   "metadata": {},
   "outputs": [],
   "source": [
    "# put bitcoin whitepaper into a dataframe then use in the next code block as vectorizer.fit"
   ]
  },
  {
   "cell_type": "code",
   "execution_count": 7,
   "metadata": {},
   "outputs": [
    {
     "name": "stdout",
     "output_type": "stream",
     "text": [
      "aeternity2 copy.pdf 1784\n",
      "adToken1 copy.pdf 1738\n",
      "aelf1 copy.pdf 1793\n",
      "Cortex1 copy.pdf 3861\n",
      "Aeron1 copy.pdf 1749\n",
      "COSS1 copy.pdf 2757\n",
      "AICHAIN1 copy.pdf 1741\n",
      "Cosmos1 copy.pdf 2207\n",
      "Aditus1 copy.pdf 2160\n",
      "aeternity1 copy.pdf 2210\n",
      "Agrello1 copy.pdf 2656\n",
      "Covesting1 copy.pdf 2325\n"
     ]
    }
   ],
   "source": [
    "tf_idf = []\n",
    "for (dirname, dirs, files) in os.walk('.'):\n",
    "    for filename in files:\n",
    "        if filename.endswith('.pdf'):\n",
    "            path_to_pdf = filename\n",
    "            text = get_pdf_file_content(path_to_pdf)\n",
    "            words = text.split()\n",
    "            vectorizer = TfidfVectorizer()\n",
    "            vectorizer.fit(words)\n",
    "            print(filename, len(vectorizer.idf_))"
   ]
  },
  {
   "cell_type": "code",
   "execution_count": 57,
   "metadata": {},
   "outputs": [],
   "source": [
    "import numpy as np"
   ]
  },
  {
   "cell_type": "code",
   "execution_count": null,
   "metadata": {},
   "outputs": [],
   "source": []
  }
 ],
 "metadata": {
  "kernelspec": {
   "display_name": "Python 3.9.12 ('base')",
   "language": "python",
   "name": "python3"
  },
  "language_info": {
   "codemirror_mode": {
    "name": "ipython",
    "version": 3
   },
   "file_extension": ".py",
   "mimetype": "text/x-python",
   "name": "python",
   "nbconvert_exporter": "python",
   "pygments_lexer": "ipython3",
   "version": "3.9.12"
  },
  "orig_nbformat": 4,
  "vscode": {
   "interpreter": {
    "hash": "2d704a9c14a63e47be2984c875a301cfdf06b9deef3d7b2ea4277add99dfd70d"
   }
  }
 },
 "nbformat": 4,
 "nbformat_minor": 2
}
