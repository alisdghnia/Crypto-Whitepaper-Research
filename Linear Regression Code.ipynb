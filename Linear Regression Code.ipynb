{
 "cells": [
  {
   "cell_type": "code",
   "execution_count": 4,
   "metadata": {},
   "outputs": [],
   "source": [
    "from sklearn.linear_model import LinearRegression\n",
    "import pandas as pd\n",
    "import numpy as np\n",
    "import os"
   ]
  },
  {
   "cell_type": "code",
   "execution_count": 5,
   "metadata": {},
   "outputs": [],
   "source": [
    "os.chdir('/Users/alisdghnia/Desktop/')"
   ]
  },
  {
   "cell_type": "code",
   "execution_count": 98,
   "metadata": {},
   "outputs": [],
   "source": [
    "df = pd.read_excel('Full Dataset Cleaned Numbers Converted.xlsx')"
   ]
  },
  {
   "cell_type": "code",
   "execution_count": 99,
   "metadata": {},
   "outputs": [],
   "source": [
    "df = df.drop(['Unnamed: 0'], axis = 'columns')"
   ]
  },
  {
   "cell_type": "code",
   "execution_count": 100,
   "metadata": {},
   "outputs": [],
   "source": [
    "X = df.drop(['Name','Crypto Name', 'Price (Intraday)', 'Market Cap', 'Volume in Currency (24Hr)',\n",
    "              'Circulating Supply'], axis= 'columns')"
   ]
  },
  {
   "cell_type": "code",
   "execution_count": 101,
   "metadata": {},
   "outputs": [],
   "source": [
    "y = df['Price (Intraday)']\n",
    "y1 = df['Market Cap']\n",
    "y2 = df['Circulating Supply']\n",
    "y3 = df['Volume in Currency (24Hr)']"
   ]
  },
  {
   "cell_type": "code",
   "execution_count": 102,
   "metadata": {},
   "outputs": [],
   "source": [
    "model = LinearRegression()\n",
    "model1 = LinearRegression()\n",
    "model2 = LinearRegression()\n",
    "model3 = LinearRegression()"
   ]
  },
  {
   "cell_type": "code",
   "execution_count": 103,
   "metadata": {},
   "outputs": [
    {
     "data": {
      "text/plain": [
       "LinearRegression()"
      ]
     },
     "execution_count": 103,
     "metadata": {},
     "output_type": "execute_result"
    }
   ],
   "source": [
    "model.fit(X, y)\n",
    "model1.fit(X, y1)\n",
    "model2.fit(X, y2)\n",
    "model3.fit(X, y3)"
   ]
  },
  {
   "cell_type": "code",
   "execution_count": 104,
   "metadata": {},
   "outputs": [],
   "source": [
    "model = LinearRegression().fit(X, y)\n",
    "model1 = LinearRegression().fit(X, y1)\n",
    "model2 = LinearRegression().fit(X, y2)\n",
    "model3 = LinearRegression().fit(X, y3)"
   ]
  },
  {
   "cell_type": "code",
   "execution_count": 105,
   "metadata": {},
   "outputs": [
    {
     "name": "stdout",
     "output_type": "stream",
     "text": [
      "Price ->  coefficient of determination: 0.00967017414368676\n",
      "Market Cap ->  coefficient of determination: -0.012262419771889244\n",
      "Circulating Supply ->  coefficient of determination: -0.005355105216393374\n",
      "Volume (24Hr) ->  coefficient of determination: -0.012473600629915094\n"
     ]
    }
   ],
   "source": [
    "rsquared = model.score(X, y)\n",
    "print('Price -> ',f\"coefficient of determination: {rsquared}\")\n",
    "rsquared1 = model.score(X, y1)\n",
    "print('Market Cap -> ',f\"coefficient of determination: {rsquared1}\")\n",
    "rsquared2 = model.score(X, y2)\n",
    "print('Circulating Supply -> ',f\"coefficient of determination: {rsquared2}\")\n",
    "rsquared3 = model.score(X, y3)\n",
    "print('Volume (24Hr) -> ',f\"coefficient of determination: {rsquared3}\")"
   ]
  },
  {
   "cell_type": "code",
   "execution_count": 106,
   "metadata": {},
   "outputs": [
    {
     "name": "stdout",
     "output_type": "stream",
     "text": [
      "intercept: 129.15029683473566\n",
      "Beta coefficient: [-8.35986484e+00  2.52949219e+00 -8.02210603e-03  5.96670421e-05\n",
      " -2.66824815e+00  1.11954123e+02 -2.45847478e+02  2.67480880e+02]\n"
     ]
    }
   ],
   "source": [
    "print(f\"intercept: {model.intercept_}\")\n",
    "print(f\"Beta coefficient: {model.coef_}\")"
   ]
  },
  {
   "cell_type": "code",
   "execution_count": 107,
   "metadata": {},
   "outputs": [],
   "source": [
    "price_beta = model.coef_\n",
    "market_cap_beta = model1.coef_\n",
    "circ_supply_beta = model2.coef_\n",
    "volume_24hr_beta = model3.coef_"
   ]
  },
  {
   "cell_type": "code",
   "execution_count": 108,
   "metadata": {},
   "outputs": [],
   "source": [
    "price_intercept = model.intercept_\n",
    "market_cap_intercept = model1.intercept_\n",
    "circ_supply_intercept = model2.intercept_\n",
    "volume_24hr_intercept = model3.intercept_"
   ]
  },
  {
   "cell_type": "code",
   "execution_count": 109,
   "metadata": {},
   "outputs": [],
   "source": [
    "price_beta = pd.DataFrame(price_beta, index = ['File Size', 'Number of Pages', 'Word Count',\n",
    "                                                 'FRE', 'NDC', 'Abstract', 'Summary', 'Reference'],\n",
    "                          columns = ['Beta Coefficients in relation to Price'])\n",
    "market_cap_beta = pd.DataFrame(market_cap_beta, index = ['File Size', 'Number of Pages', 'Word Count',\n",
    "                                                 'FRE', 'NDC', 'Abstract', 'Summary', 'Reference'],\n",
    "                          columns = ['Beta Coefficients in relation to Market Cap'])\n",
    "circ_supply_beta = pd.DataFrame(circ_supply_beta, index = ['File Size', 'Number of Pages', 'Word Count',\n",
    "                                                 'FRE', 'NDC', 'Abstract', 'Summary', 'Reference'],\n",
    "                          columns = ['Beta Coefficients in relation to Circulating Supply'])\n",
    "volume_24hr_beta = pd.DataFrame(volume_24hr_beta, index = ['File Size', 'Number of Pages', 'Word Count',\n",
    "                                                 'FRE', 'NDC', 'Abstract', 'Summary', 'Reference'],\n",
    "                          columns = ['Beta Coefficients in relation to Volume'])"
   ]
  },
  {
   "cell_type": "code",
   "execution_count": 114,
   "metadata": {},
   "outputs": [
    {
     "data": {
      "text/html": [
       "<div>\n",
       "<style scoped>\n",
       "    .dataframe tbody tr th:only-of-type {\n",
       "        vertical-align: middle;\n",
       "    }\n",
       "\n",
       "    .dataframe tbody tr th {\n",
       "        vertical-align: top;\n",
       "    }\n",
       "\n",
       "    .dataframe thead th {\n",
       "        text-align: right;\n",
       "    }\n",
       "</style>\n",
       "<table border=\"1\" class=\"dataframe\">\n",
       "  <thead>\n",
       "    <tr style=\"text-align: right;\">\n",
       "      <th></th>\n",
       "      <th>Beta Coefficients in relation to Price</th>\n",
       "    </tr>\n",
       "  </thead>\n",
       "  <tbody>\n",
       "    <tr>\n",
       "      <th>File Size</th>\n",
       "      <td>-8.359865</td>\n",
       "    </tr>\n",
       "    <tr>\n",
       "      <th>Number of Pages</th>\n",
       "      <td>2.529492</td>\n",
       "    </tr>\n",
       "    <tr>\n",
       "      <th>Word Count</th>\n",
       "      <td>-0.008022</td>\n",
       "    </tr>\n",
       "    <tr>\n",
       "      <th>FRE</th>\n",
       "      <td>0.000060</td>\n",
       "    </tr>\n",
       "    <tr>\n",
       "      <th>NDC</th>\n",
       "      <td>-2.668248</td>\n",
       "    </tr>\n",
       "    <tr>\n",
       "      <th>Abstract</th>\n",
       "      <td>111.954123</td>\n",
       "    </tr>\n",
       "    <tr>\n",
       "      <th>Summary</th>\n",
       "      <td>-245.847478</td>\n",
       "    </tr>\n",
       "    <tr>\n",
       "      <th>Reference</th>\n",
       "      <td>267.480880</td>\n",
       "    </tr>\n",
       "  </tbody>\n",
       "</table>\n",
       "</div>"
      ],
      "text/plain": [
       "                 Beta Coefficients in relation to Price\n",
       "File Size                                     -8.359865\n",
       "Number of Pages                                2.529492\n",
       "Word Count                                    -0.008022\n",
       "FRE                                            0.000060\n",
       "NDC                                           -2.668248\n",
       "Abstract                                     111.954123\n",
       "Summary                                     -245.847478\n",
       "Reference                                    267.480880"
      ]
     },
     "execution_count": 114,
     "metadata": {},
     "output_type": "execute_result"
    }
   ],
   "source": [
    "price_beta"
   ]
  },
  {
   "cell_type": "code",
   "execution_count": 111,
   "metadata": {},
   "outputs": [
    {
     "data": {
      "text/html": [
       "<div>\n",
       "<style scoped>\n",
       "    .dataframe tbody tr th:only-of-type {\n",
       "        vertical-align: middle;\n",
       "    }\n",
       "\n",
       "    .dataframe tbody tr th {\n",
       "        vertical-align: top;\n",
       "    }\n",
       "\n",
       "    .dataframe thead th {\n",
       "        text-align: right;\n",
       "    }\n",
       "</style>\n",
       "<table border=\"1\" class=\"dataframe\">\n",
       "  <thead>\n",
       "    <tr style=\"text-align: right;\">\n",
       "      <th></th>\n",
       "      <th>Beta Coefficients in relation to Market Cap</th>\n",
       "    </tr>\n",
       "  </thead>\n",
       "  <tbody>\n",
       "    <tr>\n",
       "      <th>File Size</th>\n",
       "      <td>-8.379218e+07</td>\n",
       "    </tr>\n",
       "    <tr>\n",
       "      <th>Number of Pages</th>\n",
       "      <td>-1.064080e+08</td>\n",
       "    </tr>\n",
       "    <tr>\n",
       "      <th>Word Count</th>\n",
       "      <td>2.000719e+05</td>\n",
       "    </tr>\n",
       "    <tr>\n",
       "      <th>FRE</th>\n",
       "      <td>1.450800e+04</td>\n",
       "    </tr>\n",
       "    <tr>\n",
       "      <th>NDC</th>\n",
       "      <td>1.737337e+07</td>\n",
       "    </tr>\n",
       "    <tr>\n",
       "      <th>Abstract</th>\n",
       "      <td>3.482281e+09</td>\n",
       "    </tr>\n",
       "    <tr>\n",
       "      <th>Summary</th>\n",
       "      <td>-2.989241e+09</td>\n",
       "    </tr>\n",
       "    <tr>\n",
       "      <th>Reference</th>\n",
       "      <td>2.864660e+09</td>\n",
       "    </tr>\n",
       "  </tbody>\n",
       "</table>\n",
       "</div>"
      ],
      "text/plain": [
       "                 Beta Coefficients in relation to Market Cap\n",
       "File Size                                      -8.379218e+07\n",
       "Number of Pages                                -1.064080e+08\n",
       "Word Count                                      2.000719e+05\n",
       "FRE                                             1.450800e+04\n",
       "NDC                                             1.737337e+07\n",
       "Abstract                                        3.482281e+09\n",
       "Summary                                        -2.989241e+09\n",
       "Reference                                       2.864660e+09"
      ]
     },
     "execution_count": 111,
     "metadata": {},
     "output_type": "execute_result"
    }
   ],
   "source": [
    "market_cap_beta"
   ]
  },
  {
   "cell_type": "code",
   "execution_count": 112,
   "metadata": {},
   "outputs": [
    {
     "data": {
      "text/html": [
       "<div>\n",
       "<style scoped>\n",
       "    .dataframe tbody tr th:only-of-type {\n",
       "        vertical-align: middle;\n",
       "    }\n",
       "\n",
       "    .dataframe tbody tr th {\n",
       "        vertical-align: top;\n",
       "    }\n",
       "\n",
       "    .dataframe thead th {\n",
       "        text-align: right;\n",
       "    }\n",
       "</style>\n",
       "<table border=\"1\" class=\"dataframe\">\n",
       "  <thead>\n",
       "    <tr style=\"text-align: right;\">\n",
       "      <th></th>\n",
       "      <th>Beta Coefficients in relation to Circulating Supply</th>\n",
       "    </tr>\n",
       "  </thead>\n",
       "  <tbody>\n",
       "    <tr>\n",
       "      <th>File Size</th>\n",
       "      <td>3.314233e+08</td>\n",
       "    </tr>\n",
       "    <tr>\n",
       "      <th>Number of Pages</th>\n",
       "      <td>-3.812024e+07</td>\n",
       "    </tr>\n",
       "    <tr>\n",
       "      <th>Word Count</th>\n",
       "      <td>-2.860642e+05</td>\n",
       "    </tr>\n",
       "    <tr>\n",
       "      <th>FRE</th>\n",
       "      <td>-1.355039e+05</td>\n",
       "    </tr>\n",
       "    <tr>\n",
       "      <th>NDC</th>\n",
       "      <td>-3.666388e+08</td>\n",
       "    </tr>\n",
       "    <tr>\n",
       "      <th>Abstract</th>\n",
       "      <td>1.651415e+10</td>\n",
       "    </tr>\n",
       "    <tr>\n",
       "      <th>Summary</th>\n",
       "      <td>-2.892992e+09</td>\n",
       "    </tr>\n",
       "    <tr>\n",
       "      <th>Reference</th>\n",
       "      <td>2.791158e+10</td>\n",
       "    </tr>\n",
       "  </tbody>\n",
       "</table>\n",
       "</div>"
      ],
      "text/plain": [
       "                 Beta Coefficients in relation to Circulating Supply\n",
       "File Size                                             3.314233e+08  \n",
       "Number of Pages                                      -3.812024e+07  \n",
       "Word Count                                           -2.860642e+05  \n",
       "FRE                                                  -1.355039e+05  \n",
       "NDC                                                  -3.666388e+08  \n",
       "Abstract                                              1.651415e+10  \n",
       "Summary                                              -2.892992e+09  \n",
       "Reference                                             2.791158e+10  "
      ]
     },
     "execution_count": 112,
     "metadata": {},
     "output_type": "execute_result"
    }
   ],
   "source": [
    "circ_supply_beta"
   ]
  },
  {
   "cell_type": "code",
   "execution_count": 113,
   "metadata": {},
   "outputs": [
    {
     "data": {
      "text/html": [
       "<div>\n",
       "<style scoped>\n",
       "    .dataframe tbody tr th:only-of-type {\n",
       "        vertical-align: middle;\n",
       "    }\n",
       "\n",
       "    .dataframe tbody tr th {\n",
       "        vertical-align: top;\n",
       "    }\n",
       "\n",
       "    .dataframe thead th {\n",
       "        text-align: right;\n",
       "    }\n",
       "</style>\n",
       "<table border=\"1\" class=\"dataframe\">\n",
       "  <thead>\n",
       "    <tr style=\"text-align: right;\">\n",
       "      <th></th>\n",
       "      <th>Beta Coefficients in relation to Volume</th>\n",
       "    </tr>\n",
       "  </thead>\n",
       "  <tbody>\n",
       "    <tr>\n",
       "      <th>File Size</th>\n",
       "      <td>-1.109770e+07</td>\n",
       "    </tr>\n",
       "    <tr>\n",
       "      <th>Number of Pages</th>\n",
       "      <td>-6.371739e+06</td>\n",
       "    </tr>\n",
       "    <tr>\n",
       "      <th>Word Count</th>\n",
       "      <td>1.066966e+04</td>\n",
       "    </tr>\n",
       "    <tr>\n",
       "      <th>FRE</th>\n",
       "      <td>1.217414e+03</td>\n",
       "    </tr>\n",
       "    <tr>\n",
       "      <th>NDC</th>\n",
       "      <td>1.198970e+06</td>\n",
       "    </tr>\n",
       "    <tr>\n",
       "      <th>Abstract</th>\n",
       "      <td>2.785139e+08</td>\n",
       "    </tr>\n",
       "    <tr>\n",
       "      <th>Summary</th>\n",
       "      <td>-2.926514e+08</td>\n",
       "    </tr>\n",
       "    <tr>\n",
       "      <th>Reference</th>\n",
       "      <td>4.130389e+08</td>\n",
       "    </tr>\n",
       "  </tbody>\n",
       "</table>\n",
       "</div>"
      ],
      "text/plain": [
       "                 Beta Coefficients in relation to Volume\n",
       "File Size                                  -1.109770e+07\n",
       "Number of Pages                            -6.371739e+06\n",
       "Word Count                                  1.066966e+04\n",
       "FRE                                         1.217414e+03\n",
       "NDC                                         1.198970e+06\n",
       "Abstract                                    2.785139e+08\n",
       "Summary                                    -2.926514e+08\n",
       "Reference                                   4.130389e+08"
      ]
     },
     "execution_count": 113,
     "metadata": {},
     "output_type": "execute_result"
    }
   ],
   "source": [
    "volume_24hr_beta"
   ]
  },
  {
   "cell_type": "code",
   "execution_count": null,
   "metadata": {},
   "outputs": [],
   "source": []
  }
 ],
 "metadata": {
  "kernelspec": {
   "display_name": "Python 3.9.12 ('base')",
   "language": "python",
   "name": "python3"
  },
  "language_info": {
   "codemirror_mode": {
    "name": "ipython",
    "version": 3
   },
   "file_extension": ".py",
   "mimetype": "text/x-python",
   "name": "python",
   "nbconvert_exporter": "python",
   "pygments_lexer": "ipython3",
   "version": "3.9.12"
  },
  "orig_nbformat": 4,
  "vscode": {
   "interpreter": {
    "hash": "2d704a9c14a63e47be2984c875a301cfdf06b9deef3d7b2ea4277add99dfd70d"
   }
  }
 },
 "nbformat": 4,
 "nbformat_minor": 2
}
