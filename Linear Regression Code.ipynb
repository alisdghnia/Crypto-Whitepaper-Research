{
 "cells": [
  {
   "cell_type": "code",
   "execution_count": 2,
   "metadata": {},
   "outputs": [],
   "source": [
    "from sklearn.linear_model import LinearRegression\n",
    "import pandas as pd\n",
    "import numpy as np\n",
    "import os"
   ]
  },
  {
   "cell_type": "code",
   "execution_count": 3,
   "metadata": {},
   "outputs": [],
   "source": [
    "os.chdir('/Users/alisdghnia/Desktop/')"
   ]
  },
  {
   "cell_type": "code",
   "execution_count": 4,
   "metadata": {},
   "outputs": [],
   "source": [
    "df = pd.read_excel('Full Dataset Cleaned Numbers Converted.xlsx')"
   ]
  },
  {
   "cell_type": "code",
   "execution_count": 5,
   "metadata": {},
   "outputs": [],
   "source": [
    "df = df.drop(['Unnamed: 0'], axis = 'columns')"
   ]
  },
  {
   "cell_type": "code",
   "execution_count": 6,
   "metadata": {},
   "outputs": [],
   "source": [
    "X = df.drop(['Name','Crypto Name', 'Price (Intraday)', 'Market Cap', 'Volume in Currency (24Hr)',\n",
    "              'Circulating Supply'], axis= 'columns')"
   ]
  },
  {
   "cell_type": "code",
   "execution_count": 7,
   "metadata": {},
   "outputs": [],
   "source": [
    "y = df['Price (Intraday)']\n",
    "y1 = df['Market Cap']\n",
    "y2 = df['Circulating Supply']\n",
    "y3 = df['Volume in Currency (24Hr)']"
   ]
  },
  {
   "cell_type": "code",
   "execution_count": 8,
   "metadata": {},
   "outputs": [],
   "source": [
    "model = LinearRegression()\n",
    "model1 = LinearRegression()\n",
    "model2 = LinearRegression()\n",
    "model3 = LinearRegression()"
   ]
  },
  {
   "cell_type": "code",
   "execution_count": 9,
   "metadata": {},
   "outputs": [
    {
     "data": {
      "text/plain": [
       "LinearRegression()"
      ]
     },
     "execution_count": 9,
     "metadata": {},
     "output_type": "execute_result"
    }
   ],
   "source": [
    "model.fit(X, y)\n",
    "model1.fit(X, y1)\n",
    "model2.fit(X, y2)\n",
    "model3.fit(X, y3)"
   ]
  },
  {
   "cell_type": "code",
   "execution_count": 10,
   "metadata": {},
   "outputs": [],
   "source": [
    "model = LinearRegression().fit(X, y)\n",
    "model1 = LinearRegression().fit(X, y1)\n",
    "model2 = LinearRegression().fit(X, y2)\n",
    "model3 = LinearRegression().fit(X, y3)"
   ]
  },
  {
   "cell_type": "code",
   "execution_count": 11,
   "metadata": {},
   "outputs": [
    {
     "name": "stdout",
     "output_type": "stream",
     "text": [
      "Price ->  coefficient of determination: 0.011519149494195413\n",
      "Market Cap ->  coefficient of determination: -0.012307174350585148\n",
      "Circulating Supply ->  coefficient of determination: -0.005372172327545055\n",
      "Volume (24Hr) ->  coefficient of determination: -0.012518610750489545\n"
     ]
    }
   ],
   "source": [
    "rsquared = model.score(X, y)\n",
    "print('Price -> ',f\"coefficient of determination: {rsquared}\")\n",
    "rsquared1 = model.score(X, y1)\n",
    "print('Market Cap -> ',f\"coefficient of determination: {rsquared1}\")\n",
    "rsquared2 = model.score(X, y2)\n",
    "print('Circulating Supply -> ',f\"coefficient of determination: {rsquared2}\")\n",
    "rsquared3 = model.score(X, y3)\n",
    "print('Volume (24Hr) -> ',f\"coefficient of determination: {rsquared3}\")"
   ]
  },
  {
   "cell_type": "code",
   "execution_count": 12,
   "metadata": {},
   "outputs": [
    {
     "name": "stdout",
     "output_type": "stream",
     "text": [
      "intercept: 247.30854987562404\n",
      "Beta coefficient: [-7.14900909e+00  2.85043983e+00 -2.25470201e-02 -1.73446960e-03\n",
      " -7.38231720e+00  1.27466415e+02 -2.33474268e+02  3.03309227e+02]\n"
     ]
    }
   ],
   "source": [
    "print(f\"intercept: {model.intercept_}\")\n",
    "print(f\"Beta coefficient: {model.coef_}\")"
   ]
  },
  {
   "cell_type": "code",
   "execution_count": 13,
   "metadata": {},
   "outputs": [],
   "source": [
    "price_beta = model.coef_\n",
    "market_cap_beta = model1.coef_\n",
    "circ_supply_beta = model2.coef_\n",
    "volume_24hr_beta = model3.coef_"
   ]
  },
  {
   "cell_type": "code",
   "execution_count": 14,
   "metadata": {},
   "outputs": [],
   "source": [
    "price_intercept = model.intercept_\n",
    "market_cap_intercept = model1.intercept_\n",
    "circ_supply_intercept = model2.intercept_\n",
    "volume_24hr_intercept = model3.intercept_"
   ]
  },
  {
   "cell_type": "code",
   "execution_count": 15,
   "metadata": {},
   "outputs": [],
   "source": [
    "price_beta = pd.DataFrame(price_beta, index = ['File Size', 'Number of Pages', 'Word Count',\n",
    "                                                 'FRE', 'NDC', 'Abstract', 'Summary', 'Reference'],\n",
    "                          columns = ['Beta Coefficients in relation to Price'])\n",
    "market_cap_beta = pd.DataFrame(market_cap_beta, index = ['File Size', 'Number of Pages', 'Word Count',\n",
    "                                                 'FRE', 'NDC', 'Abstract', 'Summary', 'Reference'],\n",
    "                          columns = ['Beta Coefficients in relation to Market Cap'])\n",
    "circ_supply_beta = pd.DataFrame(circ_supply_beta, index = ['File Size', 'Number of Pages', 'Word Count',\n",
    "                                                 'FRE', 'NDC', 'Abstract', 'Summary', 'Reference'],\n",
    "                          columns = ['Beta Coefficients in relation to Circulating Supply'])\n",
    "volume_24hr_beta = pd.DataFrame(volume_24hr_beta, index = ['File Size', 'Number of Pages', 'Word Count',\n",
    "                                                 'FRE', 'NDC', 'Abstract', 'Summary', 'Reference'],\n",
    "                          columns = ['Beta Coefficients in relation to Volume'])"
   ]
  },
  {
   "cell_type": "code",
   "execution_count": 16,
   "metadata": {},
   "outputs": [
    {
     "data": {
      "text/html": [
       "<div>\n",
       "<style scoped>\n",
       "    .dataframe tbody tr th:only-of-type {\n",
       "        vertical-align: middle;\n",
       "    }\n",
       "\n",
       "    .dataframe tbody tr th {\n",
       "        vertical-align: top;\n",
       "    }\n",
       "\n",
       "    .dataframe thead th {\n",
       "        text-align: right;\n",
       "    }\n",
       "</style>\n",
       "<table border=\"1\" class=\"dataframe\">\n",
       "  <thead>\n",
       "    <tr style=\"text-align: right;\">\n",
       "      <th></th>\n",
       "      <th>Beta Coefficients in relation to Price</th>\n",
       "    </tr>\n",
       "  </thead>\n",
       "  <tbody>\n",
       "    <tr>\n",
       "      <th>File Size</th>\n",
       "      <td>-7.149009</td>\n",
       "    </tr>\n",
       "    <tr>\n",
       "      <th>Number of Pages</th>\n",
       "      <td>2.850440</td>\n",
       "    </tr>\n",
       "    <tr>\n",
       "      <th>Word Count</th>\n",
       "      <td>-0.022547</td>\n",
       "    </tr>\n",
       "    <tr>\n",
       "      <th>FRE</th>\n",
       "      <td>-0.001734</td>\n",
       "    </tr>\n",
       "    <tr>\n",
       "      <th>NDC</th>\n",
       "      <td>-7.382317</td>\n",
       "    </tr>\n",
       "    <tr>\n",
       "      <th>Abstract</th>\n",
       "      <td>127.466415</td>\n",
       "    </tr>\n",
       "    <tr>\n",
       "      <th>Summary</th>\n",
       "      <td>-233.474268</td>\n",
       "    </tr>\n",
       "    <tr>\n",
       "      <th>Reference</th>\n",
       "      <td>303.309227</td>\n",
       "    </tr>\n",
       "  </tbody>\n",
       "</table>\n",
       "</div>"
      ],
      "text/plain": [
       "                 Beta Coefficients in relation to Price\n",
       "File Size                                     -7.149009\n",
       "Number of Pages                                2.850440\n",
       "Word Count                                    -0.022547\n",
       "FRE                                           -0.001734\n",
       "NDC                                           -7.382317\n",
       "Abstract                                     127.466415\n",
       "Summary                                     -233.474268\n",
       "Reference                                    303.309227"
      ]
     },
     "execution_count": 16,
     "metadata": {},
     "output_type": "execute_result"
    }
   ],
   "source": [
    "price_beta"
   ]
  },
  {
   "cell_type": "code",
   "execution_count": 17,
   "metadata": {},
   "outputs": [
    {
     "data": {
      "text/html": [
       "<div>\n",
       "<style scoped>\n",
       "    .dataframe tbody tr th:only-of-type {\n",
       "        vertical-align: middle;\n",
       "    }\n",
       "\n",
       "    .dataframe tbody tr th {\n",
       "        vertical-align: top;\n",
       "    }\n",
       "\n",
       "    .dataframe thead th {\n",
       "        text-align: right;\n",
       "    }\n",
       "</style>\n",
       "<table border=\"1\" class=\"dataframe\">\n",
       "  <thead>\n",
       "    <tr style=\"text-align: right;\">\n",
       "      <th></th>\n",
       "      <th>Beta Coefficients in relation to Market Cap</th>\n",
       "    </tr>\n",
       "  </thead>\n",
       "  <tbody>\n",
       "    <tr>\n",
       "      <th>File Size</th>\n",
       "      <td>-8.488400e+07</td>\n",
       "    </tr>\n",
       "    <tr>\n",
       "      <th>Number of Pages</th>\n",
       "      <td>-1.059966e+08</td>\n",
       "    </tr>\n",
       "    <tr>\n",
       "      <th>Word Count</th>\n",
       "      <td>2.057756e+05</td>\n",
       "    </tr>\n",
       "    <tr>\n",
       "      <th>FRE</th>\n",
       "      <td>1.515379e+04</td>\n",
       "    </tr>\n",
       "    <tr>\n",
       "      <th>NDC</th>\n",
       "      <td>1.910578e+07</td>\n",
       "    </tr>\n",
       "    <tr>\n",
       "      <th>Abstract</th>\n",
       "      <td>3.476643e+09</td>\n",
       "    </tr>\n",
       "    <tr>\n",
       "      <th>Summary</th>\n",
       "      <td>-3.007238e+09</td>\n",
       "    </tr>\n",
       "    <tr>\n",
       "      <th>Reference</th>\n",
       "      <td>2.851317e+09</td>\n",
       "    </tr>\n",
       "  </tbody>\n",
       "</table>\n",
       "</div>"
      ],
      "text/plain": [
       "                 Beta Coefficients in relation to Market Cap\n",
       "File Size                                      -8.488400e+07\n",
       "Number of Pages                                -1.059966e+08\n",
       "Word Count                                      2.057756e+05\n",
       "FRE                                             1.515379e+04\n",
       "NDC                                             1.910578e+07\n",
       "Abstract                                        3.476643e+09\n",
       "Summary                                        -3.007238e+09\n",
       "Reference                                       2.851317e+09"
      ]
     },
     "execution_count": 17,
     "metadata": {},
     "output_type": "execute_result"
    }
   ],
   "source": [
    "market_cap_beta"
   ]
  },
  {
   "cell_type": "code",
   "execution_count": 18,
   "metadata": {},
   "outputs": [
    {
     "data": {
      "text/html": [
       "<div>\n",
       "<style scoped>\n",
       "    .dataframe tbody tr th:only-of-type {\n",
       "        vertical-align: middle;\n",
       "    }\n",
       "\n",
       "    .dataframe tbody tr th {\n",
       "        vertical-align: top;\n",
       "    }\n",
       "\n",
       "    .dataframe thead th {\n",
       "        text-align: right;\n",
       "    }\n",
       "</style>\n",
       "<table border=\"1\" class=\"dataframe\">\n",
       "  <thead>\n",
       "    <tr style=\"text-align: right;\">\n",
       "      <th></th>\n",
       "      <th>Beta Coefficients in relation to Circulating Supply</th>\n",
       "    </tr>\n",
       "  </thead>\n",
       "  <tbody>\n",
       "    <tr>\n",
       "      <th>File Size</th>\n",
       "      <td>4.796378e+08</td>\n",
       "    </tr>\n",
       "    <tr>\n",
       "      <th>Number of Pages</th>\n",
       "      <td>-1.045243e+07</td>\n",
       "    </tr>\n",
       "    <tr>\n",
       "      <th>Word Count</th>\n",
       "      <td>-1.941432e+06</td>\n",
       "    </tr>\n",
       "    <tr>\n",
       "      <th>FRE</th>\n",
       "      <td>-3.390035e+05</td>\n",
       "    </tr>\n",
       "    <tr>\n",
       "      <th>NDC</th>\n",
       "      <td>-9.019212e+08</td>\n",
       "    </tr>\n",
       "    <tr>\n",
       "      <th>Abstract</th>\n",
       "      <td>1.827453e+10</td>\n",
       "    </tr>\n",
       "    <tr>\n",
       "      <th>Summary</th>\n",
       "      <td>-1.265068e+09</td>\n",
       "    </tr>\n",
       "    <tr>\n",
       "      <th>Reference</th>\n",
       "      <td>3.198280e+10</td>\n",
       "    </tr>\n",
       "  </tbody>\n",
       "</table>\n",
       "</div>"
      ],
      "text/plain": [
       "                 Beta Coefficients in relation to Circulating Supply\n",
       "File Size                                             4.796378e+08  \n",
       "Number of Pages                                      -1.045243e+07  \n",
       "Word Count                                           -1.941432e+06  \n",
       "FRE                                                  -3.390035e+05  \n",
       "NDC                                                  -9.019212e+08  \n",
       "Abstract                                              1.827453e+10  \n",
       "Summary                                              -1.265068e+09  \n",
       "Reference                                             3.198280e+10  "
      ]
     },
     "execution_count": 18,
     "metadata": {},
     "output_type": "execute_result"
    }
   ],
   "source": [
    "circ_supply_beta"
   ]
  },
  {
   "cell_type": "code",
   "execution_count": 19,
   "metadata": {},
   "outputs": [
    {
     "data": {
      "text/html": [
       "<div>\n",
       "<style scoped>\n",
       "    .dataframe tbody tr th:only-of-type {\n",
       "        vertical-align: middle;\n",
       "    }\n",
       "\n",
       "    .dataframe tbody tr th {\n",
       "        vertical-align: top;\n",
       "    }\n",
       "\n",
       "    .dataframe thead th {\n",
       "        text-align: right;\n",
       "    }\n",
       "</style>\n",
       "<table border=\"1\" class=\"dataframe\">\n",
       "  <thead>\n",
       "    <tr style=\"text-align: right;\">\n",
       "      <th></th>\n",
       "      <th>Beta Coefficients in relation to Volume</th>\n",
       "    </tr>\n",
       "  </thead>\n",
       "  <tbody>\n",
       "    <tr>\n",
       "      <th>File Size</th>\n",
       "      <td>-1.085461e+07</td>\n",
       "    </tr>\n",
       "    <tr>\n",
       "      <th>Number of Pages</th>\n",
       "      <td>-6.231991e+06</td>\n",
       "    </tr>\n",
       "    <tr>\n",
       "      <th>Word Count</th>\n",
       "      <td>6.959184e+03</td>\n",
       "    </tr>\n",
       "    <tr>\n",
       "      <th>FRE</th>\n",
       "      <td>7.527796e+02</td>\n",
       "    </tr>\n",
       "    <tr>\n",
       "      <th>NDC</th>\n",
       "      <td>-1.802466e+04</td>\n",
       "    </tr>\n",
       "    <tr>\n",
       "      <th>Abstract</th>\n",
       "      <td>2.825253e+08</td>\n",
       "    </tr>\n",
       "    <tr>\n",
       "      <th>Summary</th>\n",
       "      <td>-2.909024e+08</td>\n",
       "    </tr>\n",
       "    <tr>\n",
       "      <th>Reference</th>\n",
       "      <td>4.222695e+08</td>\n",
       "    </tr>\n",
       "  </tbody>\n",
       "</table>\n",
       "</div>"
      ],
      "text/plain": [
       "                 Beta Coefficients in relation to Volume\n",
       "File Size                                  -1.085461e+07\n",
       "Number of Pages                            -6.231991e+06\n",
       "Word Count                                  6.959184e+03\n",
       "FRE                                         7.527796e+02\n",
       "NDC                                        -1.802466e+04\n",
       "Abstract                                    2.825253e+08\n",
       "Summary                                    -2.909024e+08\n",
       "Reference                                   4.222695e+08"
      ]
     },
     "execution_count": 19,
     "metadata": {},
     "output_type": "execute_result"
    }
   ],
   "source": [
    "volume_24hr_beta"
   ]
  },
  {
   "cell_type": "code",
   "execution_count": 20,
   "metadata": {},
   "outputs": [
    {
     "data": {
      "text/html": [
       "<div>\n",
       "<style scoped>\n",
       "    .dataframe tbody tr th:only-of-type {\n",
       "        vertical-align: middle;\n",
       "    }\n",
       "\n",
       "    .dataframe tbody tr th {\n",
       "        vertical-align: top;\n",
       "    }\n",
       "\n",
       "    .dataframe thead th {\n",
       "        text-align: right;\n",
       "    }\n",
       "</style>\n",
       "<table border=\"1\" class=\"dataframe\">\n",
       "  <thead>\n",
       "    <tr style=\"text-align: right;\">\n",
       "      <th></th>\n",
       "      <th>File Size (MB)</th>\n",
       "      <th>Number of Pages</th>\n",
       "      <th>Word Count</th>\n",
       "      <th>Flesch Reading Ease</th>\n",
       "      <th>New Dale-Chall</th>\n",
       "      <th>Abstract Section</th>\n",
       "      <th>Summary Section</th>\n",
       "      <th>Reference Section</th>\n",
       "    </tr>\n",
       "  </thead>\n",
       "  <tbody>\n",
       "    <tr>\n",
       "      <th>0</th>\n",
       "      <td>1.342260</td>\n",
       "      <td>40</td>\n",
       "      <td>12504</td>\n",
       "      <td>43.02</td>\n",
       "      <td>7.33</td>\n",
       "      <td>1</td>\n",
       "      <td>0</td>\n",
       "      <td>1</td>\n",
       "    </tr>\n",
       "    <tr>\n",
       "      <th>1</th>\n",
       "      <td>0.293671</td>\n",
       "      <td>41</td>\n",
       "      <td>17474</td>\n",
       "      <td>54.42</td>\n",
       "      <td>6.51</td>\n",
       "      <td>1</td>\n",
       "      <td>0</td>\n",
       "      <td>1</td>\n",
       "    </tr>\n",
       "    <tr>\n",
       "      <th>2</th>\n",
       "      <td>15.404950</td>\n",
       "      <td>42</td>\n",
       "      <td>1</td>\n",
       "      <td>121.22</td>\n",
       "      <td>19.48</td>\n",
       "      <td>0</td>\n",
       "      <td>0</td>\n",
       "      <td>0</td>\n",
       "    </tr>\n",
       "    <tr>\n",
       "      <th>3</th>\n",
       "      <td>0.374002</td>\n",
       "      <td>17</td>\n",
       "      <td>4536</td>\n",
       "      <td>34.15</td>\n",
       "      <td>7.79</td>\n",
       "      <td>1</td>\n",
       "      <td>0</td>\n",
       "      <td>1</td>\n",
       "    </tr>\n",
       "    <tr>\n",
       "      <th>4</th>\n",
       "      <td>1.123809</td>\n",
       "      <td>37</td>\n",
       "      <td>15509</td>\n",
       "      <td>42.92</td>\n",
       "      <td>7.08</td>\n",
       "      <td>0</td>\n",
       "      <td>0</td>\n",
       "      <td>0</td>\n",
       "    </tr>\n",
       "    <tr>\n",
       "      <th>...</th>\n",
       "      <td>...</td>\n",
       "      <td>...</td>\n",
       "      <td>...</td>\n",
       "      <td>...</td>\n",
       "      <td>...</td>\n",
       "      <td>...</td>\n",
       "      <td>...</td>\n",
       "      <td>...</td>\n",
       "    </tr>\n",
       "    <tr>\n",
       "      <th>549</th>\n",
       "      <td>1.195266</td>\n",
       "      <td>34</td>\n",
       "      <td>7203</td>\n",
       "      <td>40.28</td>\n",
       "      <td>6.96</td>\n",
       "      <td>0</td>\n",
       "      <td>0</td>\n",
       "      <td>0</td>\n",
       "    </tr>\n",
       "    <tr>\n",
       "      <th>550</th>\n",
       "      <td>5.291211</td>\n",
       "      <td>39</td>\n",
       "      <td>12904</td>\n",
       "      <td>41.70</td>\n",
       "      <td>7.16</td>\n",
       "      <td>1</td>\n",
       "      <td>0</td>\n",
       "      <td>0</td>\n",
       "    </tr>\n",
       "    <tr>\n",
       "      <th>551</th>\n",
       "      <td>0.624846</td>\n",
       "      <td>34</td>\n",
       "      <td>5508</td>\n",
       "      <td>37.13</td>\n",
       "      <td>9.05</td>\n",
       "      <td>1</td>\n",
       "      <td>1</td>\n",
       "      <td>0</td>\n",
       "    </tr>\n",
       "    <tr>\n",
       "      <th>552</th>\n",
       "      <td>3.355893</td>\n",
       "      <td>31</td>\n",
       "      <td>13640</td>\n",
       "      <td>49.04</td>\n",
       "      <td>7.00</td>\n",
       "      <td>0</td>\n",
       "      <td>0</td>\n",
       "      <td>0</td>\n",
       "    </tr>\n",
       "    <tr>\n",
       "      <th>553</th>\n",
       "      <td>0.900639</td>\n",
       "      <td>1</td>\n",
       "      <td>409</td>\n",
       "      <td>36.12</td>\n",
       "      <td>12.53</td>\n",
       "      <td>0</td>\n",
       "      <td>0</td>\n",
       "      <td>0</td>\n",
       "    </tr>\n",
       "  </tbody>\n",
       "</table>\n",
       "<p>554 rows × 8 columns</p>\n",
       "</div>"
      ],
      "text/plain": [
       "     File Size (MB)  Number of Pages  Word Count  Flesch Reading Ease  \\\n",
       "0          1.342260               40       12504                43.02   \n",
       "1          0.293671               41       17474                54.42   \n",
       "2         15.404950               42           1               121.22   \n",
       "3          0.374002               17        4536                34.15   \n",
       "4          1.123809               37       15509                42.92   \n",
       "..              ...              ...         ...                  ...   \n",
       "549        1.195266               34        7203                40.28   \n",
       "550        5.291211               39       12904                41.70   \n",
       "551        0.624846               34        5508                37.13   \n",
       "552        3.355893               31       13640                49.04   \n",
       "553        0.900639                1         409                36.12   \n",
       "\n",
       "     New Dale-Chall  Abstract Section  Summary Section  Reference Section  \n",
       "0              7.33                 1                0                  1  \n",
       "1              6.51                 1                0                  1  \n",
       "2             19.48                 0                0                  0  \n",
       "3              7.79                 1                0                  1  \n",
       "4              7.08                 0                0                  0  \n",
       "..              ...               ...              ...                ...  \n",
       "549            6.96                 0                0                  0  \n",
       "550            7.16                 1                0                  0  \n",
       "551            9.05                 1                1                  0  \n",
       "552            7.00                 0                0                  0  \n",
       "553           12.53                 0                0                  0  \n",
       "\n",
       "[554 rows x 8 columns]"
      ]
     },
     "execution_count": 20,
     "metadata": {},
     "output_type": "execute_result"
    }
   ],
   "source": [
    "X"
   ]
  },
  {
   "cell_type": "code",
   "execution_count": null,
   "metadata": {},
   "outputs": [],
   "source": []
  }
 ],
 "metadata": {
  "kernelspec": {
   "display_name": "Python 3.9.12 ('base')",
   "language": "python",
   "name": "python3"
  },
  "language_info": {
   "codemirror_mode": {
    "name": "ipython",
    "version": 3
   },
   "file_extension": ".py",
   "mimetype": "text/x-python",
   "name": "python",
   "nbconvert_exporter": "python",
   "pygments_lexer": "ipython3",
   "version": "3.9.12"
  },
  "orig_nbformat": 4,
  "vscode": {
   "interpreter": {
    "hash": "2d704a9c14a63e47be2984c875a301cfdf06b9deef3d7b2ea4277add99dfd70d"
   }
  }
 },
 "nbformat": 4,
 "nbformat_minor": 2
}
