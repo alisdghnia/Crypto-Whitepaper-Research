{
 "cells": [
  {
   "cell_type": "code",
   "execution_count": 5,
   "metadata": {},
   "outputs": [],
   "source": [
    "import PyPDF2\n",
    "import pandas as pd\n",
    "import os\n",
    "import io\n",
    "import numpy as np\n",
    "import spacy\n",
    "import re"
   ]
  },
  {
   "cell_type": "code",
   "execution_count": 8,
   "metadata": {},
   "outputs": [],
   "source": [
    "def getfilesize(pdf_file):\n",
    "    filesize = os.path.getsize(pdf_file)\n",
    "    \n",
    "    return filesize / (1024*1024)"
   ]
  },
  {
   "cell_type": "code",
   "execution_count": 9,
   "metadata": {},
   "outputs": [],
   "source": [
    "os.chdir('/Users/alisdghnia/Desktop/PDF Whitepapers')\n",
    "filesize = []\n",
    "for (dirname,dirs,files) in os.walk('.'):\n",
    "    for filename in files:\n",
    "        if filename.endswith('.pdf'):\n",
    "            file_size = getfilesize(filename)\n",
    "            filesize.append([filename, file_size])"
   ]
  },
  {
   "cell_type": "code",
   "execution_count": 10,
   "metadata": {},
   "outputs": [],
   "source": [
    "df = pd.DataFrame(filesize, columns = ('Name', 'Size (MB)'))\n"
   ]
  },
  {
   "cell_type": "code",
   "execution_count": 11,
   "metadata": {},
   "outputs": [
    {
     "name": "stdout",
     "output_type": "stream",
     "text": [
      "                                   Name  Size (MB)\n",
      "0                     en_whitepaper.pdf   0.532971\n",
      "1                               216.pdf   0.486962\n",
      "2                SWIRLDS-TR-2016-01.pdf   0.421091\n",
      "3                        1910.11143.pdf   0.863376\n",
      "4                              1153.pdf   0.272202\n",
      "..                                  ...        ...\n",
      "473                   whitepaper 42.pdf   3.584682\n",
      "474                      whitepaper.pdf   4.249630\n",
      "475                           gilad.pdf   1.183571\n",
      "476               envion_whitepaper.pdf   3.746427\n",
      "477  GNX Token Allocation Statement.pdf   0.361596\n",
      "\n",
      "[478 rows x 2 columns]\n"
     ]
    }
   ],
   "source": [
    "print(df)"
   ]
  },
  {
   "cell_type": "code",
   "execution_count": 30,
   "metadata": {},
   "outputs": [],
   "source": [
    "os.chdir('/Users/alisdghnia/Desktop/Data CSV Files/')\n",
    "df.to_csv('New File Size.csv', index = False)"
   ]
  },
  {
   "cell_type": "code",
   "execution_count": null,
   "metadata": {},
   "outputs": [],
   "source": []
  }
 ],
 "metadata": {
  "kernelspec": {
   "display_name": "Python 3.8.9 64-bit",
   "language": "python",
   "name": "python3"
  },
  "language_info": {
   "codemirror_mode": {
    "name": "ipython",
    "version": 3
   },
   "file_extension": ".py",
   "mimetype": "text/x-python",
   "name": "python",
   "nbconvert_exporter": "python",
   "pygments_lexer": "ipython3",
   "version": "3.8.9"
  },
  "orig_nbformat": 4,
  "vscode": {
   "interpreter": {
    "hash": "31f2aee4e71d21fbe5cf8b01ff0e069b9275f58929596ceb00d14d90e3e16cd6"
   }
  }
 },
 "nbformat": 4,
 "nbformat_minor": 2
}
