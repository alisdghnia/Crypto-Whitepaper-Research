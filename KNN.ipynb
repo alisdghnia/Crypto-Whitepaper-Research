{
 "cells": [
  {
   "cell_type": "code",
   "execution_count": 22,
   "metadata": {},
   "outputs": [],
   "source": [
    "import pandas as pd\n",
    "import numpy as np\n",
    "import os\n",
    "from sklearn.model_selection import train_test_split\n",
    "from sklearn.neighbors import KNeighborsClassifier"
   ]
  },
  {
   "cell_type": "code",
   "execution_count": 2,
   "metadata": {},
   "outputs": [],
   "source": [
    "os.chdir('/Users/alisdghnia/Desktop/')"
   ]
  },
  {
   "cell_type": "code",
   "execution_count": 8,
   "metadata": {},
   "outputs": [],
   "source": [
    "df = pd.read_excel('Full Dataset with Independent and dependent variables.xlsx')"
   ]
  },
  {
   "cell_type": "code",
   "execution_count": 5,
   "metadata": {},
   "outputs": [
    {
     "data": {
      "text/plain": [
       "Unnamed: 0                               int64\n",
       "Name                                    object\n",
       "File Size (MB)                         float64\n",
       "Number of Pages                          int64\n",
       "Word Count                               int64\n",
       "Flesch Reading Ease                    float64\n",
       "New Dale-Chall                         float64\n",
       "Abstract Section                          bool\n",
       "Summary Section                           bool\n",
       "Reference Section                         bool\n",
       "Crypto Name                             object\n",
       "Price (Intraday)                       float64\n",
       "% Change                               float64\n",
       "Market Cap                              object\n",
       "Volume in Currency (Since 0:00 UTC)     object\n",
       "Volume in Currency (24Hr)               object\n",
       "Total Volume All Currencies (24Hr)      object\n",
       "Circulating Supply                      object\n",
       "dtype: object"
      ]
     },
     "execution_count": 5,
     "metadata": {},
     "output_type": "execute_result"
    }
   ],
   "source": [
    "df.dtypes"
   ]
  },
  {
   "cell_type": "code",
   "execution_count": 24,
   "metadata": {},
   "outputs": [],
   "source": [
    "X = df.drop(['Unnamed: 0','Name','Crypto Name', 'Price (Intraday)','% Change', 'Market Cap', 'Volume in Currency (Since 0:00 UTC)', 'Volume in Currency (24Hr)',\n",
    "             'Total Volume All Currencies (24Hr)', 'Circulating Supply'], axis= 'columns')\n",
    "y = df['Price (Intraday)']"
   ]
  },
  {
   "cell_type": "code",
   "execution_count": 25,
   "metadata": {},
   "outputs": [
    {
     "data": {
      "text/html": [
       "<div>\n",
       "<style scoped>\n",
       "    .dataframe tbody tr th:only-of-type {\n",
       "        vertical-align: middle;\n",
       "    }\n",
       "\n",
       "    .dataframe tbody tr th {\n",
       "        vertical-align: top;\n",
       "    }\n",
       "\n",
       "    .dataframe thead th {\n",
       "        text-align: right;\n",
       "    }\n",
       "</style>\n",
       "<table border=\"1\" class=\"dataframe\">\n",
       "  <thead>\n",
       "    <tr style=\"text-align: right;\">\n",
       "      <th></th>\n",
       "      <th>File Size (MB)</th>\n",
       "      <th>Number of Pages</th>\n",
       "      <th>Word Count</th>\n",
       "      <th>Flesch Reading Ease</th>\n",
       "      <th>New Dale-Chall</th>\n",
       "      <th>Abstract Section</th>\n",
       "      <th>Summary Section</th>\n",
       "      <th>Reference Section</th>\n",
       "    </tr>\n",
       "  </thead>\n",
       "  <tbody>\n",
       "    <tr>\n",
       "      <th>0</th>\n",
       "      <td>1.342260</td>\n",
       "      <td>40</td>\n",
       "      <td>12504</td>\n",
       "      <td>43.02</td>\n",
       "      <td>7.33</td>\n",
       "      <td>True</td>\n",
       "      <td>False</td>\n",
       "      <td>True</td>\n",
       "    </tr>\n",
       "    <tr>\n",
       "      <th>1</th>\n",
       "      <td>0.293671</td>\n",
       "      <td>41</td>\n",
       "      <td>17474</td>\n",
       "      <td>54.42</td>\n",
       "      <td>6.51</td>\n",
       "      <td>True</td>\n",
       "      <td>False</td>\n",
       "      <td>True</td>\n",
       "    </tr>\n",
       "    <tr>\n",
       "      <th>2</th>\n",
       "      <td>15.404950</td>\n",
       "      <td>42</td>\n",
       "      <td>1</td>\n",
       "      <td>121.22</td>\n",
       "      <td>19.48</td>\n",
       "      <td>False</td>\n",
       "      <td>False</td>\n",
       "      <td>False</td>\n",
       "    </tr>\n",
       "    <tr>\n",
       "      <th>3</th>\n",
       "      <td>0.374002</td>\n",
       "      <td>17</td>\n",
       "      <td>4536</td>\n",
       "      <td>34.15</td>\n",
       "      <td>7.79</td>\n",
       "      <td>True</td>\n",
       "      <td>False</td>\n",
       "      <td>True</td>\n",
       "    </tr>\n",
       "    <tr>\n",
       "      <th>4</th>\n",
       "      <td>1.123809</td>\n",
       "      <td>37</td>\n",
       "      <td>15509</td>\n",
       "      <td>42.92</td>\n",
       "      <td>7.08</td>\n",
       "      <td>False</td>\n",
       "      <td>False</td>\n",
       "      <td>False</td>\n",
       "    </tr>\n",
       "    <tr>\n",
       "      <th>...</th>\n",
       "      <td>...</td>\n",
       "      <td>...</td>\n",
       "      <td>...</td>\n",
       "      <td>...</td>\n",
       "      <td>...</td>\n",
       "      <td>...</td>\n",
       "      <td>...</td>\n",
       "      <td>...</td>\n",
       "    </tr>\n",
       "    <tr>\n",
       "      <th>551</th>\n",
       "      <td>1.195266</td>\n",
       "      <td>34</td>\n",
       "      <td>7203</td>\n",
       "      <td>40.28</td>\n",
       "      <td>6.96</td>\n",
       "      <td>False</td>\n",
       "      <td>False</td>\n",
       "      <td>False</td>\n",
       "    </tr>\n",
       "    <tr>\n",
       "      <th>552</th>\n",
       "      <td>5.291211</td>\n",
       "      <td>39</td>\n",
       "      <td>12904</td>\n",
       "      <td>41.70</td>\n",
       "      <td>7.16</td>\n",
       "      <td>True</td>\n",
       "      <td>False</td>\n",
       "      <td>False</td>\n",
       "    </tr>\n",
       "    <tr>\n",
       "      <th>553</th>\n",
       "      <td>0.624846</td>\n",
       "      <td>34</td>\n",
       "      <td>5508</td>\n",
       "      <td>37.13</td>\n",
       "      <td>9.05</td>\n",
       "      <td>True</td>\n",
       "      <td>True</td>\n",
       "      <td>False</td>\n",
       "    </tr>\n",
       "    <tr>\n",
       "      <th>554</th>\n",
       "      <td>3.355893</td>\n",
       "      <td>31</td>\n",
       "      <td>13640</td>\n",
       "      <td>49.04</td>\n",
       "      <td>7.00</td>\n",
       "      <td>False</td>\n",
       "      <td>False</td>\n",
       "      <td>False</td>\n",
       "    </tr>\n",
       "    <tr>\n",
       "      <th>555</th>\n",
       "      <td>0.900639</td>\n",
       "      <td>1</td>\n",
       "      <td>409</td>\n",
       "      <td>36.12</td>\n",
       "      <td>12.53</td>\n",
       "      <td>False</td>\n",
       "      <td>False</td>\n",
       "      <td>False</td>\n",
       "    </tr>\n",
       "  </tbody>\n",
       "</table>\n",
       "<p>556 rows × 8 columns</p>\n",
       "</div>"
      ],
      "text/plain": [
       "     File Size (MB)  Number of Pages  Word Count  Flesch Reading Ease  \\\n",
       "0          1.342260               40       12504                43.02   \n",
       "1          0.293671               41       17474                54.42   \n",
       "2         15.404950               42           1               121.22   \n",
       "3          0.374002               17        4536                34.15   \n",
       "4          1.123809               37       15509                42.92   \n",
       "..              ...              ...         ...                  ...   \n",
       "551        1.195266               34        7203                40.28   \n",
       "552        5.291211               39       12904                41.70   \n",
       "553        0.624846               34        5508                37.13   \n",
       "554        3.355893               31       13640                49.04   \n",
       "555        0.900639                1         409                36.12   \n",
       "\n",
       "     New Dale-Chall  Abstract Section  Summary Section  Reference Section  \n",
       "0              7.33              True            False               True  \n",
       "1              6.51              True            False               True  \n",
       "2             19.48             False            False              False  \n",
       "3              7.79              True            False               True  \n",
       "4              7.08             False            False              False  \n",
       "..              ...               ...              ...                ...  \n",
       "551            6.96             False            False              False  \n",
       "552            7.16              True            False              False  \n",
       "553            9.05              True             True              False  \n",
       "554            7.00             False            False              False  \n",
       "555           12.53             False            False              False  \n",
       "\n",
       "[556 rows x 8 columns]"
      ]
     },
     "execution_count": 25,
     "metadata": {},
     "output_type": "execute_result"
    }
   ],
   "source": [
    "X"
   ]
  },
  {
   "cell_type": "code",
   "execution_count": 19,
   "metadata": {},
   "outputs": [
    {
     "data": {
      "text/plain": [
       "0      2.483000e-03\n",
       "1      4.740480e-01\n",
       "2      6.870000e-04\n",
       "3      1.237500e-02\n",
       "4      6.710000e-04\n",
       "           ...     \n",
       "551    3.619000e-03\n",
       "552    8.353100e-02\n",
       "553    4.600000e-07\n",
       "554    2.440000e-03\n",
       "555    2.341660e-01\n",
       "Name: Price (Intraday), Length: 556, dtype: float64"
      ]
     },
     "execution_count": 19,
     "metadata": {},
     "output_type": "execute_result"
    }
   ],
   "source": [
    "y"
   ]
  },
  {
   "cell_type": "code",
   "execution_count": 31,
   "metadata": {},
   "outputs": [],
   "source": [
    "X_train, X_test, y_train, y_test = train_test_split(X, y, test_size= 0.3, random_state= 1)"
   ]
  },
  {
   "cell_type": "code",
   "execution_count": 32,
   "metadata": {},
   "outputs": [
    {
     "ename": "ValueError",
     "evalue": "Unknown label type: 'continuous'",
     "output_type": "error",
     "traceback": [
      "\u001b[0;31m---------------------------------------------------------------------------\u001b[0m",
      "\u001b[0;31mValueError\u001b[0m                                Traceback (most recent call last)",
      "\u001b[1;32m/Users/alisdghnia/Desktop/Crypto Research Repo Folder/Crypto-Whitepaper-Research-1/KNN.ipynb Cell 9\u001b[0m in \u001b[0;36m<cell line: 2>\u001b[0;34m()\u001b[0m\n\u001b[1;32m      <a href='vscode-notebook-cell:/Users/alisdghnia/Desktop/Crypto%20Research%20Repo%20Folder/Crypto-Whitepaper-Research-1/KNN.ipynb#X16sZmlsZQ%3D%3D?line=0'>1</a>\u001b[0m knn \u001b[39m=\u001b[39m KNeighborsClassifier(n_neighbors\u001b[39m=\u001b[39m \u001b[39m3\u001b[39m)\n\u001b[0;32m----> <a href='vscode-notebook-cell:/Users/alisdghnia/Desktop/Crypto%20Research%20Repo%20Folder/Crypto-Whitepaper-Research-1/KNN.ipynb#X16sZmlsZQ%3D%3D?line=1'>2</a>\u001b[0m knn\u001b[39m.\u001b[39;49mfit(X_train, y_train)\n",
      "File \u001b[0;32m~/opt/anaconda3/lib/python3.9/site-packages/sklearn/neighbors/_classification.py:198\u001b[0m, in \u001b[0;36mKNeighborsClassifier.fit\u001b[0;34m(self, X, y)\u001b[0m\n\u001b[1;32m    179\u001b[0m \u001b[39m\"\"\"Fit the k-nearest neighbors classifier from the training dataset.\u001b[39;00m\n\u001b[1;32m    180\u001b[0m \n\u001b[1;32m    181\u001b[0m \u001b[39mParameters\u001b[39;00m\n\u001b[0;32m   (...)\u001b[0m\n\u001b[1;32m    194\u001b[0m \u001b[39m    The fitted k-nearest neighbors classifier.\u001b[39;00m\n\u001b[1;32m    195\u001b[0m \u001b[39m\"\"\"\u001b[39;00m\n\u001b[1;32m    196\u001b[0m \u001b[39mself\u001b[39m\u001b[39m.\u001b[39mweights \u001b[39m=\u001b[39m _check_weights(\u001b[39mself\u001b[39m\u001b[39m.\u001b[39mweights)\n\u001b[0;32m--> 198\u001b[0m \u001b[39mreturn\u001b[39;00m \u001b[39mself\u001b[39;49m\u001b[39m.\u001b[39;49m_fit(X, y)\n",
      "File \u001b[0;32m~/opt/anaconda3/lib/python3.9/site-packages/sklearn/neighbors/_base.py:420\u001b[0m, in \u001b[0;36mNeighborsBase._fit\u001b[0;34m(self, X, y)\u001b[0m\n\u001b[1;32m    417\u001b[0m \u001b[39melse\u001b[39;00m:\n\u001b[1;32m    418\u001b[0m     \u001b[39mself\u001b[39m\u001b[39m.\u001b[39moutputs_2d_ \u001b[39m=\u001b[39m \u001b[39mTrue\u001b[39;00m\n\u001b[0;32m--> 420\u001b[0m check_classification_targets(y)\n\u001b[1;32m    421\u001b[0m \u001b[39mself\u001b[39m\u001b[39m.\u001b[39mclasses_ \u001b[39m=\u001b[39m []\n\u001b[1;32m    422\u001b[0m \u001b[39mself\u001b[39m\u001b[39m.\u001b[39m_y \u001b[39m=\u001b[39m np\u001b[39m.\u001b[39mempty(y\u001b[39m.\u001b[39mshape, dtype\u001b[39m=\u001b[39m\u001b[39mint\u001b[39m)\n",
      "File \u001b[0;32m~/opt/anaconda3/lib/python3.9/site-packages/sklearn/utils/multiclass.py:197\u001b[0m, in \u001b[0;36mcheck_classification_targets\u001b[0;34m(y)\u001b[0m\n\u001b[1;32m    189\u001b[0m y_type \u001b[39m=\u001b[39m type_of_target(y)\n\u001b[1;32m    190\u001b[0m \u001b[39mif\u001b[39;00m y_type \u001b[39mnot\u001b[39;00m \u001b[39min\u001b[39;00m [\n\u001b[1;32m    191\u001b[0m     \u001b[39m\"\u001b[39m\u001b[39mbinary\u001b[39m\u001b[39m\"\u001b[39m,\n\u001b[1;32m    192\u001b[0m     \u001b[39m\"\u001b[39m\u001b[39mmulticlass\u001b[39m\u001b[39m\"\u001b[39m,\n\u001b[0;32m   (...)\u001b[0m\n\u001b[1;32m    195\u001b[0m     \u001b[39m\"\u001b[39m\u001b[39mmultilabel-sequences\u001b[39m\u001b[39m\"\u001b[39m,\n\u001b[1;32m    196\u001b[0m ]:\n\u001b[0;32m--> 197\u001b[0m     \u001b[39mraise\u001b[39;00m \u001b[39mValueError\u001b[39;00m(\u001b[39m\"\u001b[39m\u001b[39mUnknown label type: \u001b[39m\u001b[39m%r\u001b[39;00m\u001b[39m\"\u001b[39m \u001b[39m%\u001b[39m y_type)\n",
      "\u001b[0;31mValueError\u001b[0m: Unknown label type: 'continuous'"
     ]
    }
   ],
   "source": [
    "knn = KNeighborsClassifier(n_neighbors= 3)\n",
    "knn.fit(X_train, y_train)"
   ]
  },
  {
   "cell_type": "code",
   "execution_count": null,
   "metadata": {},
   "outputs": [],
   "source": []
  }
 ],
 "metadata": {
  "kernelspec": {
   "display_name": "Python 3.9.12 ('base')",
   "language": "python",
   "name": "python3"
  },
  "language_info": {
   "codemirror_mode": {
    "name": "ipython",
    "version": 3
   },
   "file_extension": ".py",
   "mimetype": "text/x-python",
   "name": "python",
   "nbconvert_exporter": "python",
   "pygments_lexer": "ipython3",
   "version": "3.9.12"
  },
  "orig_nbformat": 4,
  "vscode": {
   "interpreter": {
    "hash": "2d704a9c14a63e47be2984c875a301cfdf06b9deef3d7b2ea4277add99dfd70d"
   }
  }
 },
 "nbformat": 4,
 "nbformat_minor": 2
}
