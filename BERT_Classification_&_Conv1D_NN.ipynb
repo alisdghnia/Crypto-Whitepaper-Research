{
  "nbformat": 4,
  "nbformat_minor": 0,
  "metadata": {
    "colab": {
      "provenance": [],
      "authorship_tag": "ABX9TyMqt+b3FlrK5TvGJOGcmOjQ",
      "include_colab_link": true
    },
    "kernelspec": {
      "name": "python3",
      "display_name": "Python 3"
    },
    "language_info": {
      "name": "python"
    }
  },
  "cells": [
    {
      "cell_type": "markdown",
      "metadata": {
        "id": "view-in-github",
        "colab_type": "text"
      },
      "source": [
        "<a href=\"https://colab.research.google.com/github/alisdghnia/Crypto-Whitepaper-Research/blob/main/BERT_Classification_%26_Conv1D_NN.ipynb\" target=\"_parent\"><img src=\"https://colab.research.google.com/assets/colab-badge.svg\" alt=\"Open In Colab\"/></a>"
      ]
    },
    {
      "cell_type": "code",
      "execution_count": 2,
      "metadata": {
        "id": "xucyL0gzWvuI"
      },
      "outputs": [],
      "source": [
        "import tensorflow as tf\n",
        "import tensorflow_hub as hub\n",
        "import tensorflow_text as text\n",
        "\n",
        "import pandas as pd\n",
        "import numpy as np\n",
        "import seaborn as sns\n",
        "import matplotlib.pyplot as plt\n",
        "from io import StringIO\n",
        "\n",
        "from sklearn.feature_extraction.text import TfidfVectorizer\n",
        "from sklearn.feature_extraction.text import CountVectorizer\n",
        "from sklearn.feature_extraction.text import TfidfTransformer\n",
        "\n",
        "from sklearn.model_selection import train_test_split\n",
        "from sklearn.pipeline import Pipeline\n",
        "from sklearn.preprocessing import StandardScaler\n",
        "from sklearn.preprocessing import MinMaxScaler\n",
        "from sklearn.preprocessing import Normalizer\n",
        "from sklearn.preprocessing import normalize\n",
        "\n",
        "from sklearn.neighbors import KNeighborsClassifier\n",
        "from sklearn.naive_bayes import MultinomialNB\n",
        "from sklearn.tree import DecisionTreeClassifier\n",
        "from sklearn.linear_model import SGDClassifier\n",
        "from sklearn.neural_network import MLPClassifier\n",
        "from sklearn.linear_model import LogisticRegression\n",
        "from sklearn.svm import SVC\n",
        "\n",
        "from sklearn.neural_network import MLPRegressor\n",
        "from sklearn.linear_model import SGDRegressor\n",
        "\n",
        "from sklearn import metrics\n",
        "from sklearn.cluster import KMeans\n",
        "from sklearn.metrics import adjusted_rand_score\n",
        "\n",
        "from nltk.corpus import stopwords\n",
        "from nltk.tokenize import word_tokenize\n",
        "from nltk.tokenize import sent_tokenize\n",
        "\n",
        "import re\n",
        "import os\n",
        "import tqdm\n",
        "import string"
      ]
    },
    {
      "cell_type": "code",
      "source": [
        "try:\n",
        "    from google.colab import drive\n",
        "    drive.mount('/content/drive/')\n",
        "    ROOT_PATH = '/content/drive/MyDrive/'\n",
        "except ImportError:\n",
        "    ROOT_PATH = '../'\n",
        "DATA_FOLDER = os.path.join(ROOT_PATH, 'data/public')"
      ],
      "metadata": {
        "colab": {
          "base_uri": "https://localhost:8080/"
        },
        "id": "qL6rlW4OXJYK",
        "outputId": "d82ff05a-54c1-44dc-80f7-dd449a113596"
      },
      "execution_count": 3,
      "outputs": [
        {
          "output_type": "stream",
          "name": "stdout",
          "text": [
            "Mounted at /content/drive/\n"
          ]
        }
      ]
    },
    {
      "cell_type": "code",
      "source": [
        "research_path = DATA_FOLDER + '/CryptoData/'"
      ],
      "metadata": {
        "id": "y7V6DbxXYb9k"
      },
      "execution_count": 4,
      "outputs": []
    },
    {
      "cell_type": "code",
      "source": [
        "text_data = pd.read_hdf(os.path.join(research_path,'all text.h5'))\n",
        "meta_data = pd.read_csv(os.path.join(research_path,'Metadata 1838 Whitepapers.csv'))\n",
        "success = pd.read_csv(os.path.join(research_path, 'Coin-Price-Match 0-1838 - ALL.csv'))"
      ],
      "metadata": {
        "id": "oWaT1sRXYosL"
      },
      "execution_count": 5,
      "outputs": []
    },
    {
      "cell_type": "code",
      "source": [
        "text_data.reset_index(inplace=True)\n",
        "text_data.rename(columns= {'index' : 'Name'}, inplace=True)"
      ],
      "metadata": {
        "id": "u_YgcLlraMgz"
      },
      "execution_count": 6,
      "outputs": []
    },
    {
      "cell_type": "code",
      "source": [
        "wordCount = []\n",
        "for i in range(len(text_data)):\n",
        "    wordCount.append(len(text_data.test[i]))\n",
        "\n",
        "meta_data['Word Count'] = wordCount\n",
        "meta_data.Name = meta_data.Name.apply(lambda x: x.replace('.pdf', ''))"
      ],
      "metadata": {
        "id": "s7pChrvYajVx"
      },
      "execution_count": 7,
      "outputs": []
    },
    {
      "cell_type": "code",
      "source": [
        "df_meta_text = pd.merge(meta_data, text_data, left_on= 'Name', right_on= 'Name')"
      ],
      "metadata": {
        "id": "5HgHcZHva5QD"
      },
      "execution_count": 8,
      "outputs": []
    },
    {
      "cell_type": "code",
      "source": [
        "df_meta_text = df_meta_text[df_meta_text['Flesch Reading Ease'] > 0]\n",
        "df_meta_text = df_meta_text[df_meta_text['Flesch Reading Ease'] < 100]"
      ],
      "metadata": {
        "id": "vM3YYu0GbIPE"
      },
      "execution_count": 9,
      "outputs": []
    },
    {
      "cell_type": "code",
      "source": [
        "df_meta_text = df_meta_text[df_meta_text['New Dale-Chall'] > 0]\n",
        "df_meta_text = df_meta_text[df_meta_text['New Dale-Chall'] < 10]"
      ],
      "metadata": {
        "id": "nzlTfSLZbLWK"
      },
      "execution_count": 10,
      "outputs": []
    },
    {
      "cell_type": "code",
      "source": [
        "df_meta_text.reset_index(inplace=True)\n",
        "df_meta_text.drop(columns = ['Unnamed: 0'], inplace=True)"
      ],
      "metadata": {
        "id": "73btrgsLbOLx"
      },
      "execution_count": 11,
      "outputs": []
    },
    {
      "cell_type": "code",
      "source": [
        "df_meta_text.drop(columns = ['index'], inplace=True)"
      ],
      "metadata": {
        "id": "xEuVvVSRbRPu"
      },
      "execution_count": 12,
      "outputs": []
    },
    {
      "cell_type": "code",
      "source": [
        "success.drop(columns= 'Unnamed: 0', inplace=True)\n",
        "success.coin_whitepaper_name = success.coin_whitepaper_name.apply(lambda x: x.replace('.pdf', ''))"
      ],
      "metadata": {
        "id": "CAvZYudJbUG2"
      },
      "execution_count": 13,
      "outputs": []
    },
    {
      "cell_type": "code",
      "source": [
        "def ConvertInt(x):\n",
        "    try:\n",
        "        if type(x) == str:\n",
        "            x = x.replace('$','')\n",
        "            x = x.replace(',','')\n",
        "            x = x.replace('Nan', '0')\n",
        "            x = x.replace(\"- -\", '0')\n",
        "            x = x.strip()\n",
        "            x = float(x)\n",
        "    except Exception:\n",
        "        x = 0\n",
        "\n",
        "    return x"
      ],
      "metadata": {
        "id": "eA6Mvwu1b2vL"
      },
      "execution_count": 14,
      "outputs": []
    },
    {
      "cell_type": "code",
      "source": [
        "success_copy = success.copy()"
      ],
      "metadata": {
        "id": "nk9Huicgb5sK"
      },
      "execution_count": 15,
      "outputs": []
    },
    {
      "cell_type": "code",
      "source": [
        "success_copy.market_cap = success_copy.market_cap.apply(lambda x: ConvertInt(x))\n",
        "success_copy.market_cap.fillna(value=0, inplace=True)\n",
        "success_copy.market_cap = pd.to_numeric(success_copy.market_cap)"
      ],
      "metadata": {
        "id": "3mXhGitJb8cQ"
      },
      "execution_count": 16,
      "outputs": []
    },
    {
      "cell_type": "code",
      "source": [
        "success_copy.volume = success_copy.volume.apply(lambda x: ConvertInt(x))\n",
        "success_copy.volume.fillna(value=0, inplace=True)\n",
        "success_copy.volume = pd.to_numeric(success_copy.volume)"
      ],
      "metadata": {
        "id": "MUtL7Cp5cBC9"
      },
      "execution_count": 17,
      "outputs": []
    },
    {
      "cell_type": "code",
      "source": [
        "success_copy.info()"
      ],
      "metadata": {
        "colab": {
          "base_uri": "https://localhost:8080/"
        },
        "id": "bLNrb0mBcBiI",
        "outputId": "5644f272-8c8a-4be2-98d2-16184757d357"
      },
      "execution_count": 18,
      "outputs": [
        {
          "output_type": "stream",
          "name": "stdout",
          "text": [
            "<class 'pandas.core.frame.DataFrame'>\n",
            "RangeIndex: 1838 entries, 0 to 1837\n",
            "Data columns (total 9 columns):\n",
            " #   Column                    Non-Null Count  Dtype  \n",
            "---  ------                    --------------  -----  \n",
            " 0   coin_whitepaper_name      1838 non-null   object \n",
            " 1   coin_name_on_web          1820 non-null   object \n",
            " 2   coin_symbol               1820 non-null   object \n",
            " 3   coin_price                1838 non-null   object \n",
            " 4   market_cap                1838 non-null   float64\n",
            " 5   volume                    1838 non-null   float64\n",
            " 6   max_supply                1286 non-null   object \n",
            " 7   total_supply              1286 non-null   object \n",
            " 8   fully_diluted_market_cap  1298 non-null   object \n",
            "dtypes: float64(2), object(7)\n",
            "memory usage: 129.4+ KB\n"
          ]
        }
      ]
    },
    {
      "cell_type": "code",
      "source": [
        "all_df = pd.merge(df_meta_text, success_copy, left_on = 'Name', right_on = 'coin_whitepaper_name')"
      ],
      "metadata": {
        "id": "VowbhEyqcabu"
      },
      "execution_count": 19,
      "outputs": []
    },
    {
      "cell_type": "code",
      "source": [
        "mc_median = np.median(all_df.market_cap)\n",
        "mc_median"
      ],
      "metadata": {
        "colab": {
          "base_uri": "https://localhost:8080/"
        },
        "id": "SgM_KOKmcEEc",
        "outputId": "0eafe8ba-1207-462e-cc04-59a424d06dc6"
      },
      "execution_count": 20,
      "outputs": [
        {
          "output_type": "execute_result",
          "data": {
            "text/plain": [
              "168140.5"
            ]
          },
          "metadata": {},
          "execution_count": 20
        }
      ]
    },
    {
      "cell_type": "code",
      "source": [
        "volume_median = np.median(all_df.volume)\n",
        "volume_median"
      ],
      "metadata": {
        "colab": {
          "base_uri": "https://localhost:8080/"
        },
        "id": "LwJOpUaRcNlm",
        "outputId": "c7b8fa81-7eca-486d-fd4c-a46850a9ecd6"
      },
      "execution_count": 21,
      "outputs": [
        {
          "output_type": "execute_result",
          "data": {
            "text/plain": [
              "80.5"
            ]
          },
          "metadata": {},
          "execution_count": 21
        }
      ]
    },
    {
      "cell_type": "code",
      "source": [
        "all_df['success_marketcap_median'] = np.where(all_df.market_cap < mc_median, 0, 1)\n",
        "# all_df['success_price_median'] = np.where(all_df.coin_price <= price_median, 0, 1)\n",
        "all_df['success_volume_median'] = np.where(all_df.volume < volume_median, 0, 1)"
      ],
      "metadata": {
        "id": "Jfk8gxnAcSPN"
      },
      "execution_count": 22,
      "outputs": []
    },
    {
      "cell_type": "code",
      "source": [
        "df = all_df.loc[:, ['test', 'success_marketcap_median']]"
      ],
      "metadata": {
        "id": "G4Z_iowJcl6s"
      },
      "execution_count": 23,
      "outputs": []
    },
    {
      "cell_type": "code",
      "source": [
        "df"
      ],
      "metadata": {
        "colab": {
          "base_uri": "https://localhost:8080/",
          "height": 424
        },
        "id": "tBLadOvTcyCY",
        "outputId": "c2c6a49b-e8c9-4f9c-fb0c-cafdcc1389ab"
      },
      "execution_count": 24,
      "outputs": [
        {
          "output_type": "execute_result",
          "data": {
            "text/plain": [
              "                                                   test  \\\n",
              "0     ​v bitbase​ ​whitepaper​ ​ new​ ​escrow​ ​bloc...   \n",
              "1     table of contents abstract introduction nrp to...   \n",
              "2     idena concept paper idena concept paper draft ...   \n",
              "3     w t p a p r november version new generation we...   \n",
              "4     chain decentralizing storage saswata basu tom ...   \n",
              "...                                                 ...   \n",
              "1695  version the core of cartesi augusto teixeira d...   \n",
              "1696  bitcoen white paper contents short description...   \n",
              "1697  social betting networkpowered by blockchain ta...   \n",
              "1698  white paper introduccidon blockchain review ma...   \n",
              "1699  qbic manifesto an open source initiative elect...   \n",
              "\n",
              "      success_marketcap_median  \n",
              "0                            0  \n",
              "1                            0  \n",
              "2                            1  \n",
              "3                            0  \n",
              "4                            1  \n",
              "...                        ...  \n",
              "1695                         1  \n",
              "1696                         1  \n",
              "1697                         0  \n",
              "1698                         0  \n",
              "1699                         0  \n",
              "\n",
              "[1700 rows x 2 columns]"
            ],
            "text/html": [
              "\n",
              "  <div id=\"df-2bf918c3-b61b-491a-ac8d-87d4dd6e41fd\">\n",
              "    <div class=\"colab-df-container\">\n",
              "      <div>\n",
              "<style scoped>\n",
              "    .dataframe tbody tr th:only-of-type {\n",
              "        vertical-align: middle;\n",
              "    }\n",
              "\n",
              "    .dataframe tbody tr th {\n",
              "        vertical-align: top;\n",
              "    }\n",
              "\n",
              "    .dataframe thead th {\n",
              "        text-align: right;\n",
              "    }\n",
              "</style>\n",
              "<table border=\"1\" class=\"dataframe\">\n",
              "  <thead>\n",
              "    <tr style=\"text-align: right;\">\n",
              "      <th></th>\n",
              "      <th>test</th>\n",
              "      <th>success_marketcap_median</th>\n",
              "    </tr>\n",
              "  </thead>\n",
              "  <tbody>\n",
              "    <tr>\n",
              "      <th>0</th>\n",
              "      <td>​v bitbase​ ​whitepaper​ ​ new​ ​escrow​ ​bloc...</td>\n",
              "      <td>0</td>\n",
              "    </tr>\n",
              "    <tr>\n",
              "      <th>1</th>\n",
              "      <td>table of contents abstract introduction nrp to...</td>\n",
              "      <td>0</td>\n",
              "    </tr>\n",
              "    <tr>\n",
              "      <th>2</th>\n",
              "      <td>idena concept paper idena concept paper draft ...</td>\n",
              "      <td>1</td>\n",
              "    </tr>\n",
              "    <tr>\n",
              "      <th>3</th>\n",
              "      <td>w t p a p r november version new generation we...</td>\n",
              "      <td>0</td>\n",
              "    </tr>\n",
              "    <tr>\n",
              "      <th>4</th>\n",
              "      <td>chain decentralizing storage saswata basu tom ...</td>\n",
              "      <td>1</td>\n",
              "    </tr>\n",
              "    <tr>\n",
              "      <th>...</th>\n",
              "      <td>...</td>\n",
              "      <td>...</td>\n",
              "    </tr>\n",
              "    <tr>\n",
              "      <th>1695</th>\n",
              "      <td>version the core of cartesi augusto teixeira d...</td>\n",
              "      <td>1</td>\n",
              "    </tr>\n",
              "    <tr>\n",
              "      <th>1696</th>\n",
              "      <td>bitcoen white paper contents short description...</td>\n",
              "      <td>1</td>\n",
              "    </tr>\n",
              "    <tr>\n",
              "      <th>1697</th>\n",
              "      <td>social betting networkpowered by blockchain ta...</td>\n",
              "      <td>0</td>\n",
              "    </tr>\n",
              "    <tr>\n",
              "      <th>1698</th>\n",
              "      <td>white paper introduccidon blockchain review ma...</td>\n",
              "      <td>0</td>\n",
              "    </tr>\n",
              "    <tr>\n",
              "      <th>1699</th>\n",
              "      <td>qbic manifesto an open source initiative elect...</td>\n",
              "      <td>0</td>\n",
              "    </tr>\n",
              "  </tbody>\n",
              "</table>\n",
              "<p>1700 rows × 2 columns</p>\n",
              "</div>\n",
              "      <button class=\"colab-df-convert\" onclick=\"convertToInteractive('df-2bf918c3-b61b-491a-ac8d-87d4dd6e41fd')\"\n",
              "              title=\"Convert this dataframe to an interactive table.\"\n",
              "              style=\"display:none;\">\n",
              "        \n",
              "  <svg xmlns=\"http://www.w3.org/2000/svg\" height=\"24px\"viewBox=\"0 0 24 24\"\n",
              "       width=\"24px\">\n",
              "    <path d=\"M0 0h24v24H0V0z\" fill=\"none\"/>\n",
              "    <path d=\"M18.56 5.44l.94 2.06.94-2.06 2.06-.94-2.06-.94-.94-2.06-.94 2.06-2.06.94zm-11 1L8.5 8.5l.94-2.06 2.06-.94-2.06-.94L8.5 2.5l-.94 2.06-2.06.94zm10 10l.94 2.06.94-2.06 2.06-.94-2.06-.94-.94-2.06-.94 2.06-2.06.94z\"/><path d=\"M17.41 7.96l-1.37-1.37c-.4-.4-.92-.59-1.43-.59-.52 0-1.04.2-1.43.59L10.3 9.45l-7.72 7.72c-.78.78-.78 2.05 0 2.83L4 21.41c.39.39.9.59 1.41.59.51 0 1.02-.2 1.41-.59l7.78-7.78 2.81-2.81c.8-.78.8-2.07 0-2.86zM5.41 20L4 18.59l7.72-7.72 1.47 1.35L5.41 20z\"/>\n",
              "  </svg>\n",
              "      </button>\n",
              "      \n",
              "  <style>\n",
              "    .colab-df-container {\n",
              "      display:flex;\n",
              "      flex-wrap:wrap;\n",
              "      gap: 12px;\n",
              "    }\n",
              "\n",
              "    .colab-df-convert {\n",
              "      background-color: #E8F0FE;\n",
              "      border: none;\n",
              "      border-radius: 50%;\n",
              "      cursor: pointer;\n",
              "      display: none;\n",
              "      fill: #1967D2;\n",
              "      height: 32px;\n",
              "      padding: 0 0 0 0;\n",
              "      width: 32px;\n",
              "    }\n",
              "\n",
              "    .colab-df-convert:hover {\n",
              "      background-color: #E2EBFA;\n",
              "      box-shadow: 0px 1px 2px rgba(60, 64, 67, 0.3), 0px 1px 3px 1px rgba(60, 64, 67, 0.15);\n",
              "      fill: #174EA6;\n",
              "    }\n",
              "\n",
              "    [theme=dark] .colab-df-convert {\n",
              "      background-color: #3B4455;\n",
              "      fill: #D2E3FC;\n",
              "    }\n",
              "\n",
              "    [theme=dark] .colab-df-convert:hover {\n",
              "      background-color: #434B5C;\n",
              "      box-shadow: 0px 1px 3px 1px rgba(0, 0, 0, 0.15);\n",
              "      filter: drop-shadow(0px 1px 2px rgba(0, 0, 0, 0.3));\n",
              "      fill: #FFFFFF;\n",
              "    }\n",
              "  </style>\n",
              "\n",
              "      <script>\n",
              "        const buttonEl =\n",
              "          document.querySelector('#df-2bf918c3-b61b-491a-ac8d-87d4dd6e41fd button.colab-df-convert');\n",
              "        buttonEl.style.display =\n",
              "          google.colab.kernel.accessAllowed ? 'block' : 'none';\n",
              "\n",
              "        async function convertToInteractive(key) {\n",
              "          const element = document.querySelector('#df-2bf918c3-b61b-491a-ac8d-87d4dd6e41fd');\n",
              "          const dataTable =\n",
              "            await google.colab.kernel.invokeFunction('convertToInteractive',\n",
              "                                                     [key], {});\n",
              "          if (!dataTable) return;\n",
              "\n",
              "          const docLinkHtml = 'Like what you see? Visit the ' +\n",
              "            '<a target=\"_blank\" href=https://colab.research.google.com/notebooks/data_table.ipynb>data table notebook</a>'\n",
              "            + ' to learn more about interactive tables.';\n",
              "          element.innerHTML = '';\n",
              "          dataTable['output_type'] = 'display_data';\n",
              "          await google.colab.output.renderOutput(dataTable, element);\n",
              "          const docLink = document.createElement('div');\n",
              "          docLink.innerHTML = docLinkHtml;\n",
              "          element.appendChild(docLink);\n",
              "        }\n",
              "      </script>\n",
              "    </div>\n",
              "  </div>\n",
              "  "
            ]
          },
          "metadata": {},
          "execution_count": 24
        }
      ]
    },
    {
      "cell_type": "code",
      "source": [
        "df.groupby('success_marketcap_median').describe()"
      ],
      "metadata": {
        "colab": {
          "base_uri": "https://localhost:8080/",
          "height": 175
        },
        "id": "dBUjJDhndAY_",
        "outputId": "f719dd03-d8b7-4a53-d592-558622263452"
      },
      "execution_count": 25,
      "outputs": [
        {
          "output_type": "execute_result",
          "data": {
            "text/plain": [
              "                          test         \\\n",
              "                         count unique   \n",
              "success_marketcap_median                \n",
              "0                          850    792   \n",
              "1                          850    789   \n",
              "\n",
              "                                                                             \\\n",
              "                                                                        top   \n",
              "success_marketcap_median                                                      \n",
              "0                         white paper v abstract in the white paper we a...   \n",
              "1                         bitcoin a peertopeer electronic cash system sa...   \n",
              "\n",
              "                               \n",
              "                         freq  \n",
              "success_marketcap_median       \n",
              "0                           3  \n",
              "1                           6  "
            ],
            "text/html": [
              "\n",
              "  <div id=\"df-02148e49-8085-4527-878f-6f69816e2972\">\n",
              "    <div class=\"colab-df-container\">\n",
              "      <div>\n",
              "<style scoped>\n",
              "    .dataframe tbody tr th:only-of-type {\n",
              "        vertical-align: middle;\n",
              "    }\n",
              "\n",
              "    .dataframe tbody tr th {\n",
              "        vertical-align: top;\n",
              "    }\n",
              "\n",
              "    .dataframe thead tr th {\n",
              "        text-align: left;\n",
              "    }\n",
              "\n",
              "    .dataframe thead tr:last-of-type th {\n",
              "        text-align: right;\n",
              "    }\n",
              "</style>\n",
              "<table border=\"1\" class=\"dataframe\">\n",
              "  <thead>\n",
              "    <tr>\n",
              "      <th></th>\n",
              "      <th colspan=\"4\" halign=\"left\">test</th>\n",
              "    </tr>\n",
              "    <tr>\n",
              "      <th></th>\n",
              "      <th>count</th>\n",
              "      <th>unique</th>\n",
              "      <th>top</th>\n",
              "      <th>freq</th>\n",
              "    </tr>\n",
              "    <tr>\n",
              "      <th>success_marketcap_median</th>\n",
              "      <th></th>\n",
              "      <th></th>\n",
              "      <th></th>\n",
              "      <th></th>\n",
              "    </tr>\n",
              "  </thead>\n",
              "  <tbody>\n",
              "    <tr>\n",
              "      <th>0</th>\n",
              "      <td>850</td>\n",
              "      <td>792</td>\n",
              "      <td>white paper v abstract in the white paper we a...</td>\n",
              "      <td>3</td>\n",
              "    </tr>\n",
              "    <tr>\n",
              "      <th>1</th>\n",
              "      <td>850</td>\n",
              "      <td>789</td>\n",
              "      <td>bitcoin a peertopeer electronic cash system sa...</td>\n",
              "      <td>6</td>\n",
              "    </tr>\n",
              "  </tbody>\n",
              "</table>\n",
              "</div>\n",
              "      <button class=\"colab-df-convert\" onclick=\"convertToInteractive('df-02148e49-8085-4527-878f-6f69816e2972')\"\n",
              "              title=\"Convert this dataframe to an interactive table.\"\n",
              "              style=\"display:none;\">\n",
              "        \n",
              "  <svg xmlns=\"http://www.w3.org/2000/svg\" height=\"24px\"viewBox=\"0 0 24 24\"\n",
              "       width=\"24px\">\n",
              "    <path d=\"M0 0h24v24H0V0z\" fill=\"none\"/>\n",
              "    <path d=\"M18.56 5.44l.94 2.06.94-2.06 2.06-.94-2.06-.94-.94-2.06-.94 2.06-2.06.94zm-11 1L8.5 8.5l.94-2.06 2.06-.94-2.06-.94L8.5 2.5l-.94 2.06-2.06.94zm10 10l.94 2.06.94-2.06 2.06-.94-2.06-.94-.94-2.06-.94 2.06-2.06.94z\"/><path d=\"M17.41 7.96l-1.37-1.37c-.4-.4-.92-.59-1.43-.59-.52 0-1.04.2-1.43.59L10.3 9.45l-7.72 7.72c-.78.78-.78 2.05 0 2.83L4 21.41c.39.39.9.59 1.41.59.51 0 1.02-.2 1.41-.59l7.78-7.78 2.81-2.81c.8-.78.8-2.07 0-2.86zM5.41 20L4 18.59l7.72-7.72 1.47 1.35L5.41 20z\"/>\n",
              "  </svg>\n",
              "      </button>\n",
              "      \n",
              "  <style>\n",
              "    .colab-df-container {\n",
              "      display:flex;\n",
              "      flex-wrap:wrap;\n",
              "      gap: 12px;\n",
              "    }\n",
              "\n",
              "    .colab-df-convert {\n",
              "      background-color: #E8F0FE;\n",
              "      border: none;\n",
              "      border-radius: 50%;\n",
              "      cursor: pointer;\n",
              "      display: none;\n",
              "      fill: #1967D2;\n",
              "      height: 32px;\n",
              "      padding: 0 0 0 0;\n",
              "      width: 32px;\n",
              "    }\n",
              "\n",
              "    .colab-df-convert:hover {\n",
              "      background-color: #E2EBFA;\n",
              "      box-shadow: 0px 1px 2px rgba(60, 64, 67, 0.3), 0px 1px 3px 1px rgba(60, 64, 67, 0.15);\n",
              "      fill: #174EA6;\n",
              "    }\n",
              "\n",
              "    [theme=dark] .colab-df-convert {\n",
              "      background-color: #3B4455;\n",
              "      fill: #D2E3FC;\n",
              "    }\n",
              "\n",
              "    [theme=dark] .colab-df-convert:hover {\n",
              "      background-color: #434B5C;\n",
              "      box-shadow: 0px 1px 3px 1px rgba(0, 0, 0, 0.15);\n",
              "      filter: drop-shadow(0px 1px 2px rgba(0, 0, 0, 0.3));\n",
              "      fill: #FFFFFF;\n",
              "    }\n",
              "  </style>\n",
              "\n",
              "      <script>\n",
              "        const buttonEl =\n",
              "          document.querySelector('#df-02148e49-8085-4527-878f-6f69816e2972 button.colab-df-convert');\n",
              "        buttonEl.style.display =\n",
              "          google.colab.kernel.accessAllowed ? 'block' : 'none';\n",
              "\n",
              "        async function convertToInteractive(key) {\n",
              "          const element = document.querySelector('#df-02148e49-8085-4527-878f-6f69816e2972');\n",
              "          const dataTable =\n",
              "            await google.colab.kernel.invokeFunction('convertToInteractive',\n",
              "                                                     [key], {});\n",
              "          if (!dataTable) return;\n",
              "\n",
              "          const docLinkHtml = 'Like what you see? Visit the ' +\n",
              "            '<a target=\"_blank\" href=https://colab.research.google.com/notebooks/data_table.ipynb>data table notebook</a>'\n",
              "            + ' to learn more about interactive tables.';\n",
              "          element.innerHTML = '';\n",
              "          dataTable['output_type'] = 'display_data';\n",
              "          await google.colab.output.renderOutput(dataTable, element);\n",
              "          const docLink = document.createElement('div');\n",
              "          docLink.innerHTML = docLinkHtml;\n",
              "          element.appendChild(docLink);\n",
              "        }\n",
              "      </script>\n",
              "    </div>\n",
              "  </div>\n",
              "  "
            ]
          },
          "metadata": {},
          "execution_count": 25
        }
      ]
    },
    {
      "cell_type": "code",
      "source": [
        "df['success_marketcap_median'].value_counts()"
      ],
      "metadata": {
        "colab": {
          "base_uri": "https://localhost:8080/"
        },
        "id": "1PQdqjDVdI3c",
        "outputId": "415c68ea-0e0a-4131-9927-bebf36d5093e"
      },
      "execution_count": 26,
      "outputs": [
        {
          "output_type": "execute_result",
          "data": {
            "text/plain": [
              "0    850\n",
              "1    850\n",
              "Name: success_marketcap_median, dtype: int64"
            ]
          },
          "metadata": {},
          "execution_count": 26
        }
      ]
    },
    {
      "cell_type": "code",
      "source": [
        "X_train, X_test, y_train, y_test = train_test_split(df['test'],df['success_marketcap_median'])"
      ],
      "metadata": {
        "id": "_6YA8Nx6dmOH"
      },
      "execution_count": 93,
      "outputs": []
    },
    {
      "cell_type": "code",
      "source": [
        "bert_preprocess = hub.KerasLayer(\"https://tfhub.dev/tensorflow/bert_en_uncased_preprocess/3\")\n",
        "bert_encoder = hub.KerasLayer(\"https://tfhub.dev/tensorflow/bert_en_uncased_L-12_H-768_A-12/4\")"
      ],
      "metadata": {
        "colab": {
          "base_uri": "https://localhost:8080/"
        },
        "id": "1WJMcJNBeUnj",
        "outputId": "22be27bb-9d8c-488a-a499-e45683e7896e"
      },
      "execution_count": 47,
      "outputs": [
        {
          "output_type": "stream",
          "name": "stderr",
          "text": [
            "WARNING:tensorflow:Please fix your imports. Module tensorflow.python.training.tracking.data_structures has been moved to tensorflow.python.trackable.data_structures. The old module will be deleted in version 2.11.\n"
          ]
        }
      ]
    },
    {
      "cell_type": "code",
      "source": [
        "# Bert layers\n",
        "text_input = tf.keras.layers.Input(shape=(), dtype=tf.string, name='text')\n",
        "preprocessed_text = bert_preprocess(text_input)\n",
        "outputs = bert_encoder(preprocessed_text)\n",
        "\n",
        "# Neural network layers\n",
        "l = tf.keras.layers.Dropout(0.1, name=\"dropout\")(outputs['pooled_output'])\n",
        "l = tf.keras.layers.Dense(1, activation='sigmoid', name=\"output\")(l)\n",
        "\n",
        "# Use inputs and outputs to construct a final model\n",
        "model = tf.keras.Model(inputs=[text_input], outputs = [l])"
      ],
      "metadata": {
        "colab": {
          "base_uri": "https://localhost:8080/"
        },
        "id": "vIqKZNxMeYis",
        "outputId": "dca21f6b-2787-473f-e4b7-d0e3e1aadc91"
      },
      "execution_count": 48,
      "outputs": [
        {
          "output_type": "stream",
          "name": "stderr",
          "text": [
            "WARNING:tensorflow:From /usr/local/lib/python3.8/dist-packages/tensorflow/python/autograph/pyct/static_analysis/liveness.py:83: Analyzer.lamba_check (from tensorflow.python.autograph.pyct.static_analysis.liveness) is deprecated and will be removed after 2023-09-23.\n",
            "Instructions for updating:\n",
            "Lambda fuctions will be no more assumed to be used in the statement where they are used, or at least in the same block. https://github.com/tensorflow/tensorflow/issues/56089\n"
          ]
        }
      ]
    },
    {
      "cell_type": "code",
      "source": [
        "model.summary()"
      ],
      "metadata": {
        "colab": {
          "base_uri": "https://localhost:8080/"
        },
        "id": "2EfzYncNewTU",
        "outputId": "76bbd3e1-145b-4137-dd91-8f8f4a01c05c"
      },
      "execution_count": 49,
      "outputs": [
        {
          "output_type": "stream",
          "name": "stdout",
          "text": [
            "Model: \"model\"\n",
            "__________________________________________________________________________________________________\n",
            " Layer (type)                   Output Shape         Param #     Connected to                     \n",
            "==================================================================================================\n",
            " text (InputLayer)              [(None,)]            0           []                               \n",
            "                                                                                                  \n",
            " keras_layer (KerasLayer)       {'input_word_ids':   0           ['text[0][0]']                   \n",
            "                                (None, 128),                                                      \n",
            "                                 'input_mask': (Non                                               \n",
            "                                e, 128),                                                          \n",
            "                                 'input_type_ids':                                                \n",
            "                                (None, 128)}                                                      \n",
            "                                                                                                  \n",
            " keras_layer_1 (KerasLayer)     {'sequence_output':  109482241   ['keras_layer[0][0]',            \n",
            "                                 (None, 128, 768),                'keras_layer[0][1]',            \n",
            "                                 'default': (None,                'keras_layer[0][2]']            \n",
            "                                768),                                                             \n",
            "                                 'pooled_output': (                                               \n",
            "                                None, 768),                                                       \n",
            "                                 'encoder_outputs':                                               \n",
            "                                 [(None, 128, 768),                                               \n",
            "                                 (None, 128, 768),                                                \n",
            "                                 (None, 128, 768),                                                \n",
            "                                 (None, 128, 768),                                                \n",
            "                                 (None, 128, 768),                                                \n",
            "                                 (None, 128, 768),                                                \n",
            "                                 (None, 128, 768),                                                \n",
            "                                 (None, 128, 768),                                                \n",
            "                                 (None, 128, 768),                                                \n",
            "                                 (None, 128, 768),                                                \n",
            "                                 (None, 128, 768),                                                \n",
            "                                 (None, 128, 768)]}                                               \n",
            "                                                                                                  \n",
            " dropout (Dropout)              (None, 768)          0           ['keras_layer_1[0][13]']         \n",
            "                                                                                                  \n",
            " output (Dense)                 (None, 1)            769         ['dropout[0][0]']                \n",
            "                                                                                                  \n",
            "==================================================================================================\n",
            "Total params: 109,483,010\n",
            "Trainable params: 769\n",
            "Non-trainable params: 109,482,241\n",
            "__________________________________________________________________________________________________\n"
          ]
        }
      ]
    },
    {
      "cell_type": "code",
      "source": [
        "METRICS = [\n",
        "      tf.keras.metrics.BinaryAccuracy(name='accuracy'),\n",
        "      tf.keras.metrics.Precision(name='precision'),\n",
        "      tf.keras.metrics.Recall(name='recall')\n",
        "]\n",
        "\n",
        "model.compile(optimizer='adam',\n",
        "              loss='binary_crossentropy',\n",
        "              metrics=METRICS)"
      ],
      "metadata": {
        "id": "rM_mqUxGeyDY"
      },
      "execution_count": 50,
      "outputs": []
    },
    {
      "cell_type": "code",
      "source": [
        "model.fit(X_train, y_train, epochs=10)"
      ],
      "metadata": {
        "colab": {
          "base_uri": "https://localhost:8080/"
        },
        "id": "QSkBIxs6e6es",
        "outputId": "aac2c9c6-bec6-4114-ad38-575f50cf31fe"
      },
      "execution_count": 51,
      "outputs": [
        {
          "output_type": "stream",
          "name": "stdout",
          "text": [
            "Epoch 1/10\n",
            "40/40 [==============================] - 619s 15s/step - loss: 0.7240 - accuracy: 0.5122 - precision: 0.5157 - recall: 0.4609\n",
            "Epoch 2/10\n",
            "40/40 [==============================] - 596s 15s/step - loss: 0.7021 - accuracy: 0.4996 - precision: 0.5014 - recall: 0.5453\n",
            "Epoch 3/10\n",
            "40/40 [==============================] - 581s 15s/step - loss: 0.7020 - accuracy: 0.5129 - precision: 0.5154 - recall: 0.4969\n",
            "Epoch 4/10\n",
            "40/40 [==============================] - 581s 15s/step - loss: 0.7020 - accuracy: 0.5129 - precision: 0.5147 - recall: 0.5203\n",
            "Epoch 5/10\n",
            "40/40 [==============================] - 581s 15s/step - loss: 0.6959 - accuracy: 0.5396 - precision: 0.5372 - recall: 0.5984\n",
            "Epoch 6/10\n",
            "40/40 [==============================] - 581s 15s/step - loss: 0.6994 - accuracy: 0.5247 - precision: 0.5272 - recall: 0.5141\n",
            "Epoch 7/10\n",
            "40/40 [==============================] - 580s 15s/step - loss: 0.6947 - accuracy: 0.5396 - precision: 0.5415 - recall: 0.5406\n",
            "Epoch 8/10\n",
            "40/40 [==============================] - 592s 15s/step - loss: 0.6911 - accuracy: 0.5373 - precision: 0.5357 - recall: 0.5859\n",
            "Epoch 9/10\n",
            "40/40 [==============================] - 581s 15s/step - loss: 0.6963 - accuracy: 0.5310 - precision: 0.5349 - recall: 0.5031\n",
            "Epoch 10/10\n",
            "40/40 [==============================] - 582s 15s/step - loss: 0.6910 - accuracy: 0.5420 - precision: 0.5433 - recall: 0.5484\n"
          ]
        },
        {
          "output_type": "execute_result",
          "data": {
            "text/plain": [
              "<keras.callbacks.History at 0x7fd72e8041c0>"
            ]
          },
          "metadata": {},
          "execution_count": 51
        }
      ]
    },
    {
      "cell_type": "code",
      "source": [
        "model.evaluate(X_test, y_test)"
      ],
      "metadata": {
        "colab": {
          "base_uri": "https://localhost:8080/"
        },
        "id": "fzhD7NqPe86H",
        "outputId": "92bee331-73f5-40b3-d631-78dc89faf6e2"
      },
      "execution_count": 52,
      "outputs": [
        {
          "output_type": "stream",
          "name": "stdout",
          "text": [
            "14/14 [==============================] - 198s 14s/step - loss: 0.6861 - accuracy: 0.5224 - precision: 0.5096 - recall: 0.8810\n"
          ]
        },
        {
          "output_type": "execute_result",
          "data": {
            "text/plain": [
              "[0.6861155033111572, 0.522352933883667, 0.5096418857574463, 0.8809523582458496]"
            ]
          },
          "metadata": {},
          "execution_count": 52
        }
      ]
    },
    {
      "cell_type": "code",
      "source": [
        "from sklearn.metrics import accuracy_score, confusion_matrix, classification_report, precision_score"
      ],
      "metadata": {
        "id": "OZ8-awQ0feIw"
      },
      "execution_count": 31,
      "outputs": []
    },
    {
      "cell_type": "code",
      "source": [
        "y_predicted = model.predict(X_test)\n",
        "y_predicted = y_predicted.flatten()\n",
        "y_predicted = np.where(y_predicted > 0.5, 1, 0)\n",
        "y_predicted\n",
        "cm = confusion_matrix(y_test, y_predicted)\n",
        "cm"
      ],
      "metadata": {
        "colab": {
          "base_uri": "https://localhost:8080/"
        },
        "id": "b86BZBDZfTGe",
        "outputId": "bf5c6a58-0357-499d-f638-0ddb2d5ddc86"
      },
      "execution_count": 54,
      "outputs": [
        {
          "output_type": "stream",
          "name": "stdout",
          "text": [
            "14/14 [==============================] - 196s 14s/step\n"
          ]
        },
        {
          "output_type": "execute_result",
          "data": {
            "text/plain": [
              "array([[ 37, 178],\n",
              "       [ 25, 185]])"
            ]
          },
          "metadata": {},
          "execution_count": 54
        }
      ]
    },
    {
      "cell_type": "code",
      "source": [
        "print(classification_report(y_test, y_predicted))"
      ],
      "metadata": {
        "colab": {
          "base_uri": "https://localhost:8080/"
        },
        "id": "JX2TZlH1ffwJ",
        "outputId": "54a09d66-d570-4819-f21f-ff86e1f2daef"
      },
      "execution_count": 61,
      "outputs": [
        {
          "output_type": "stream",
          "name": "stdout",
          "text": [
            "              precision    recall  f1-score   support\n",
            "\n",
            "           0       0.34      0.10      0.16       204\n",
            "           1       0.50      0.81      0.62       221\n",
            "\n",
            "    accuracy                           0.47       425\n",
            "   macro avg       0.42      0.46      0.39       425\n",
            "weighted avg       0.42      0.47      0.40       425\n",
            "\n"
          ]
        }
      ]
    },
    {
      "cell_type": "code",
      "source": [
        "from keras.layers import Dense, Reshape, Input, Concatenate, BatchNormalization, Dropout, Conv1D, Flatten, MaxPooling1D, Activation, LeakyReLU, LSTM, Bidirectional\n",
        "from keras.models import Model\n",
        "from tqdm import tqdm"
      ],
      "metadata": {
        "id": "pJ-iLiFB-ZQQ"
      },
      "execution_count": 30,
      "outputs": []
    },
    {
      "cell_type": "code",
      "source": [
        "tfidf = TfidfVectorizer(max_df=5, min_df=5, lowercase= True, stop_words='english')\n",
        "features = tfidf.fit_transform(df_meta_text['test']).toarray()\n",
        "words = tfidf.get_feature_names()\n",
        "# labels = df.category_id\n",
        "print(features.shape)\n",
        "\n",
        "tfidf_df = pd.DataFrame(features, columns=words)"
      ],
      "metadata": {
        "colab": {
          "base_uri": "https://localhost:8080/"
        },
        "id": "JK8zHmRr1mET",
        "outputId": "49ce150d-eaa9-4027-8c9e-1287cc1cd68e"
      },
      "execution_count": 62,
      "outputs": [
        {
          "output_type": "stream",
          "name": "stdout",
          "text": [
            "(1700, 2690)\n"
          ]
        },
        {
          "output_type": "stream",
          "name": "stderr",
          "text": [
            "/usr/local/lib/python3.8/dist-packages/sklearn/utils/deprecation.py:87: FutureWarning: Function get_feature_names is deprecated; get_feature_names is deprecated in 1.0 and will be removed in 1.2. Please use get_feature_names_out instead.\n",
            "  warnings.warn(msg, category=FutureWarning)\n"
          ]
        }
      ]
    },
    {
      "cell_type": "code",
      "source": [
        "X = tfidf_df"
      ],
      "metadata": {
        "id": "siY7jhJGHt6p"
      },
      "execution_count": 94,
      "outputs": []
    },
    {
      "cell_type": "code",
      "source": [
        "X_train, X_test, y_train, y_test = train_test_split(X,df['success_marketcap_median'])"
      ],
      "metadata": {
        "id": "XO4bM-pAH0rb"
      },
      "execution_count": 121,
      "outputs": []
    },
    {
      "cell_type": "code",
      "source": [
        "features = features.reshape(features.shape[0], features.shape[1], 1)"
      ],
      "metadata": {
        "id": "0GbnU81VFRUs"
      },
      "execution_count": 81,
      "outputs": []
    },
    {
      "cell_type": "code",
      "source": [
        "features.shape"
      ],
      "metadata": {
        "colab": {
          "base_uri": "https://localhost:8080/"
        },
        "id": "1owj92CpFf3a",
        "outputId": "706d68bc-325c-44f5-8dba-fc45863dd47c"
      },
      "execution_count": 83,
      "outputs": [
        {
          "output_type": "execute_result",
          "data": {
            "text/plain": [
              "(1700, 2690, 1)"
            ]
          },
          "metadata": {},
          "execution_count": 83
        }
      ]
    },
    {
      "cell_type": "code",
      "source": [
        "model = tf.keras.Sequential()\n",
        "\n",
        "model.add(Conv1D(32, kernel_size = 3, activation = 'relu', input_shape = (2690,1)))\n",
        "model.add(Dropout(0.2))\n",
        "\n",
        "model.add(Conv1D(64, kernel_size = 3, activation = 'relu', input_shape = (1,)))\n",
        "model.add(MaxPooling1D())\n",
        "model.add(Dropout(0.2))\n",
        "\n",
        "model.add(Conv1D(32, kernel_size = 3, activation = 'relu', input_shape = (1,)))\n",
        "model.add(Dense(16, activation = 'relu'))\n",
        "model.add(MaxPooling1D())\n",
        "model.add(Dropout(0.2))\n",
        "\n",
        "model.add(Flatten())\n",
        "\n",
        "model.add(Dense(1, activation= 'sigmoid'))\n",
        "\n",
        "model.compile(loss = 'binary_crossentropy', optimizer='adam', metrics= METRICS)"
      ],
      "metadata": {
        "id": "-uT4nTLlDqH-"
      },
      "execution_count": 110,
      "outputs": []
    },
    {
      "cell_type": "code",
      "source": [
        "model.summary()"
      ],
      "metadata": {
        "colab": {
          "base_uri": "https://localhost:8080/"
        },
        "id": "djOIhHLCHARW",
        "outputId": "aacd5824-27cc-42cb-89c0-d70d884ad346"
      },
      "execution_count": 111,
      "outputs": [
        {
          "output_type": "stream",
          "name": "stdout",
          "text": [
            "Model: \"sequential_10\"\n",
            "_________________________________________________________________\n",
            " Layer (type)                Output Shape              Param #   \n",
            "=================================================================\n",
            " conv1d_26 (Conv1D)          (None, 2688, 32)          128       \n",
            "                                                                 \n",
            " dropout_3 (Dropout)         (None, 2688, 32)          0         \n",
            "                                                                 \n",
            " conv1d_27 (Conv1D)          (None, 2686, 64)          6208      \n",
            "                                                                 \n",
            " max_pooling1d_13 (MaxPoolin  (None, 1343, 64)         0         \n",
            " g1D)                                                            \n",
            "                                                                 \n",
            " dropout_4 (Dropout)         (None, 1343, 64)          0         \n",
            "                                                                 \n",
            " conv1d_28 (Conv1D)          (None, 1341, 32)          6176      \n",
            "                                                                 \n",
            " dense_12 (Dense)            (None, 1341, 16)          528       \n",
            "                                                                 \n",
            " max_pooling1d_14 (MaxPoolin  (None, 670, 16)          0         \n",
            " g1D)                                                            \n",
            "                                                                 \n",
            " dropout_5 (Dropout)         (None, 670, 16)           0         \n",
            "                                                                 \n",
            " flatten_7 (Flatten)         (None, 10720)             0         \n",
            "                                                                 \n",
            " dense_13 (Dense)            (None, 1)                 10721     \n",
            "                                                                 \n",
            "=================================================================\n",
            "Total params: 23,761\n",
            "Trainable params: 23,761\n",
            "Non-trainable params: 0\n",
            "_________________________________________________________________\n"
          ]
        }
      ]
    },
    {
      "cell_type": "code",
      "source": [
        "model.fit(X_train, y_train, epochs=5)"
      ],
      "metadata": {
        "colab": {
          "base_uri": "https://localhost:8080/"
        },
        "id": "e5bnoetQHfod",
        "outputId": "ecba340b-1971-4c3f-a919-8d663f8458e4"
      },
      "execution_count": 122,
      "outputs": [
        {
          "output_type": "stream",
          "name": "stdout",
          "text": [
            "Epoch 1/5\n",
            "40/40 [==============================] - 13s 321ms/step - loss: 0.3653 - accuracy: 0.8557 - precision: 0.8771 - recall: 0.8276\n",
            "Epoch 2/5\n",
            "40/40 [==============================] - 13s 320ms/step - loss: 0.2792 - accuracy: 0.8831 - precision: 0.8976 - recall: 0.8652\n",
            "Epoch 3/5\n",
            "40/40 [==============================] - 13s 322ms/step - loss: 0.2418 - accuracy: 0.8957 - precision: 0.9092 - recall: 0.8793\n",
            "Epoch 4/5\n",
            "40/40 [==============================] - 15s 376ms/step - loss: 0.2195 - accuracy: 0.9012 - precision: 0.9051 - recall: 0.8966\n",
            "Epoch 5/5\n",
            "40/40 [==============================] - 21s 521ms/step - loss: 0.1977 - accuracy: 0.9176 - precision: 0.9210 - recall: 0.9138\n"
          ]
        },
        {
          "output_type": "execute_result",
          "data": {
            "text/plain": [
              "<keras.callbacks.History at 0x7fd72382a580>"
            ]
          },
          "metadata": {},
          "execution_count": 122
        }
      ]
    },
    {
      "cell_type": "code",
      "source": [
        "model.evaluate(X_test, y_test)"
      ],
      "metadata": {
        "colab": {
          "base_uri": "https://localhost:8080/"
        },
        "id": "NuQTdlHAH5Jz",
        "outputId": "c938efea-fbd2-45f6-c9dc-76400276caa5"
      },
      "execution_count": 123,
      "outputs": [
        {
          "output_type": "stream",
          "name": "stdout",
          "text": [
            "14/14 [==============================] - 1s 75ms/step - loss: 0.5091 - accuracy: 0.7835 - precision: 0.8061 - recall: 0.7453\n"
          ]
        },
        {
          "output_type": "execute_result",
          "data": {
            "text/plain": [
              "[0.509105384349823, 0.7835294008255005, 0.8061224222183228, 0.7452830076217651]"
            ]
          },
          "metadata": {},
          "execution_count": 123
        }
      ]
    },
    {
      "cell_type": "code",
      "source": [
        "y_predicted = model.predict(X_test)\n",
        "y_predicted = y_predicted.flatten()\n",
        "y_predicted = np.where(y_predicted > 0.5, 1, 0)\n",
        "y_predicted\n",
        "cm = confusion_matrix(y_test, y_predicted)\n",
        "cm"
      ],
      "metadata": {
        "colab": {
          "base_uri": "https://localhost:8080/"
        },
        "id": "xavzy5JaIboZ",
        "outputId": "23480f71-04eb-4549-fa72-e8c9739563e2"
      },
      "execution_count": 124,
      "outputs": [
        {
          "output_type": "stream",
          "name": "stdout",
          "text": [
            "14/14 [==============================] - 2s 120ms/step\n"
          ]
        },
        {
          "output_type": "execute_result",
          "data": {
            "text/plain": [
              "array([[175,  38],\n",
              "       [ 54, 158]])"
            ]
          },
          "metadata": {},
          "execution_count": 124
        }
      ]
    },
    {
      "cell_type": "code",
      "source": [
        "print(classification_report(y_test, y_predicted))"
      ],
      "metadata": {
        "colab": {
          "base_uri": "https://localhost:8080/"
        },
        "id": "wHBrkccLIdm9",
        "outputId": "9df27afe-1668-4ce3-b2b8-a16905fcdb81"
      },
      "execution_count": 125,
      "outputs": [
        {
          "output_type": "stream",
          "name": "stdout",
          "text": [
            "              precision    recall  f1-score   support\n",
            "\n",
            "           0       0.76      0.82      0.79       213\n",
            "           1       0.81      0.75      0.77       212\n",
            "\n",
            "    accuracy                           0.78       425\n",
            "   macro avg       0.79      0.78      0.78       425\n",
            "weighted avg       0.79      0.78      0.78       425\n",
            "\n"
          ]
        }
      ]
    },
    {
      "cell_type": "code",
      "source": [
        "X_train, X_test, y_train, y_test = train_test_split(X.iloc[:1200, :],df.loc[:1199, 'success_marketcap_median'])"
      ],
      "metadata": {
        "id": "UVulVb_jLMpr"
      },
      "execution_count": 136,
      "outputs": []
    },
    {
      "cell_type": "code",
      "source": [
        "model = tf.keras.Sequential()\n",
        "\n",
        "model.add(Conv1D(32, kernel_size = 3, activation = 'relu', input_shape = (2690,1)))\n",
        "model.add(Dropout(0.2))\n",
        "\n",
        "model.add(Conv1D(64, kernel_size = 3, activation = 'relu', input_shape = (1,)))\n",
        "model.add(MaxPooling1D())\n",
        "model.add(Dropout(0.2))\n",
        "\n",
        "model.add(Conv1D(32, kernel_size = 3, activation = 'relu', input_shape = (1,)))\n",
        "model.add(Dense(16, activation = 'relu'))\n",
        "model.add(MaxPooling1D())\n",
        "model.add(Dropout(0.2))\n",
        "\n",
        "model.add(Flatten())\n",
        "\n",
        "model.add(Dense(1, activation= 'sigmoid'))\n",
        "\n",
        "model.compile(loss = 'binary_crossentropy', optimizer='adam', metrics= METRICS)"
      ],
      "metadata": {
        "id": "m-P-W4OpMtsA"
      },
      "execution_count": 137,
      "outputs": []
    },
    {
      "cell_type": "code",
      "source": [
        "model.summary()"
      ],
      "metadata": {
        "colab": {
          "base_uri": "https://localhost:8080/"
        },
        "id": "DESInCmgNTmB",
        "outputId": "b4c1ee63-01bb-406e-ea46-2b2674443000"
      },
      "execution_count": 138,
      "outputs": [
        {
          "output_type": "stream",
          "name": "stdout",
          "text": [
            "Model: \"sequential_11\"\n",
            "_________________________________________________________________\n",
            " Layer (type)                Output Shape              Param #   \n",
            "=================================================================\n",
            " conv1d_29 (Conv1D)          (None, 2688, 32)          128       \n",
            "                                                                 \n",
            " dropout_6 (Dropout)         (None, 2688, 32)          0         \n",
            "                                                                 \n",
            " conv1d_30 (Conv1D)          (None, 2686, 64)          6208      \n",
            "                                                                 \n",
            " max_pooling1d_15 (MaxPoolin  (None, 1343, 64)         0         \n",
            " g1D)                                                            \n",
            "                                                                 \n",
            " dropout_7 (Dropout)         (None, 1343, 64)          0         \n",
            "                                                                 \n",
            " conv1d_31 (Conv1D)          (None, 1341, 32)          6176      \n",
            "                                                                 \n",
            " dense_14 (Dense)            (None, 1341, 16)          528       \n",
            "                                                                 \n",
            " max_pooling1d_16 (MaxPoolin  (None, 670, 16)          0         \n",
            " g1D)                                                            \n",
            "                                                                 \n",
            " dropout_8 (Dropout)         (None, 670, 16)           0         \n",
            "                                                                 \n",
            " flatten_8 (Flatten)         (None, 10720)             0         \n",
            "                                                                 \n",
            " dense_15 (Dense)            (None, 1)                 10721     \n",
            "                                                                 \n",
            "=================================================================\n",
            "Total params: 23,761\n",
            "Trainable params: 23,761\n",
            "Non-trainable params: 0\n",
            "_________________________________________________________________\n"
          ]
        }
      ]
    },
    {
      "cell_type": "code",
      "source": [
        "for i in range(3):\n",
        "    X_train, X_test, y_train, y_test = train_test_split(X.iloc[:1200, :],df.loc[:1199, 'success_marketcap_median'])\n",
        "    model.fit(X_train, y_train, epochs=5)\n",
        "    model.evaluate(X_test, y_test)\n",
        "    i+=1"
      ],
      "metadata": {
        "colab": {
          "base_uri": "https://localhost:8080/"
        },
        "id": "nkyBWq4xNUNY",
        "outputId": "d4aa1f6c-b760-4896-bc18-3eca189ced59"
      },
      "execution_count": 139,
      "outputs": [
        {
          "output_type": "stream",
          "name": "stdout",
          "text": [
            "Epoch 1/5\n",
            "29/29 [==============================] - 11s 312ms/step - loss: 0.6935 - accuracy: 0.5804 - precision: 0.5673 - recall: 0.7228\n",
            "Epoch 2/5\n",
            "29/29 [==============================] - 9s 314ms/step - loss: 0.6901 - accuracy: 0.5711 - precision: 0.5486 - recall: 0.8976\n",
            "Epoch 3/5\n",
            "29/29 [==============================] - 9s 316ms/step - loss: 0.6491 - accuracy: 0.6733 - precision: 0.6486 - recall: 0.7843\n",
            "Epoch 4/5\n",
            "29/29 [==============================] - 9s 308ms/step - loss: 0.5527 - accuracy: 0.7300 - precision: 0.7466 - recall: 0.7124\n",
            "Epoch 5/5\n",
            "29/29 [==============================] - 9s 319ms/step - loss: 0.4758 - accuracy: 0.7611 - precision: 0.7552 - recall: 0.7865\n",
            "10/10 [==============================] - 1s 68ms/step - loss: 1.0344 - accuracy: 0.5400 - precision: 0.5212 - recall: 0.5931\n",
            "Epoch 1/5\n",
            "29/29 [==============================] - 9s 319ms/step - loss: 0.5527 - accuracy: 0.7511 - precision: 0.7517 - recall: 0.7483\n",
            "Epoch 2/5\n",
            "29/29 [==============================] - 9s 319ms/step - loss: 0.4606 - accuracy: 0.7744 - precision: 0.7808 - recall: 0.7617\n",
            "Epoch 3/5\n",
            "29/29 [==============================] - 11s 383ms/step - loss: 0.3801 - accuracy: 0.8267 - precision: 0.8248 - recall: 0.8285\n",
            "Epoch 4/5\n",
            "29/29 [==============================] - 9s 319ms/step - loss: 0.3193 - accuracy: 0.8567 - precision: 0.8670 - recall: 0.8419\n",
            "Epoch 5/5\n",
            "29/29 [==============================] - 13s 443ms/step - loss: 0.2588 - accuracy: 0.8689 - precision: 0.8637 - recall: 0.8753\n",
            "10/10 [==============================] - 1s 69ms/step - loss: 1.2509 - accuracy: 0.5767 - precision: 0.6129 - recall: 0.4903\n",
            "Epoch 1/5\n",
            "29/29 [==============================] - 9s 313ms/step - loss: 0.4679 - accuracy: 0.8256 - precision: 0.8505 - recall: 0.7965\n",
            "Epoch 2/5\n",
            "29/29 [==============================] - 10s 332ms/step - loss: 0.3557 - accuracy: 0.8633 - precision: 0.8866 - recall: 0.8381\n",
            "Epoch 3/5\n",
            "29/29 [==============================] - 12s 403ms/step - loss: 0.3070 - accuracy: 0.8589 - precision: 0.8855 - recall: 0.8293\n",
            "Epoch 4/5\n",
            "29/29 [==============================] - 9s 320ms/step - loss: 0.2640 - accuracy: 0.8933 - precision: 0.9112 - recall: 0.8753\n",
            "Epoch 5/5\n",
            "29/29 [==============================] - 13s 465ms/step - loss: 0.2390 - accuracy: 0.8989 - precision: 0.8944 - recall: 0.9081\n",
            "10/10 [==============================] - 1s 67ms/step - loss: 0.8173 - accuracy: 0.7200 - precision: 0.7405 - recall: 0.6599\n"
          ]
        }
      ]
    },
    {
      "cell_type": "code",
      "source": [
        "y_predicted = model.predict(X.iloc[1200:, :])\n",
        "y_predicted = y_predicted.flatten()\n",
        "y_predicted = np.where(y_predicted > 0.5, 1, 0)\n",
        "y_predicted\n",
        "cm = confusion_matrix(df.loc[1200:, 'success_marketcap_median'], y_predicted)\n",
        "cm"
      ],
      "metadata": {
        "colab": {
          "base_uri": "https://localhost:8080/"
        },
        "id": "RHeS8r0dNi7y",
        "outputId": "1782eedd-9fc1-4b4d-b9b1-85b056c8283e"
      },
      "execution_count": 146,
      "outputs": [
        {
          "output_type": "stream",
          "name": "stdout",
          "text": [
            "16/16 [==============================] - 2s 117ms/step\n"
          ]
        },
        {
          "output_type": "execute_result",
          "data": {
            "text/plain": [
              "array([[133, 121],\n",
              "       [135, 111]])"
            ]
          },
          "metadata": {},
          "execution_count": 146
        }
      ]
    },
    {
      "cell_type": "code",
      "source": [
        "print(classification_report(df.loc[1200:, 'success_marketcap_median'], y_predicted))"
      ],
      "metadata": {
        "colab": {
          "base_uri": "https://localhost:8080/"
        },
        "id": "kzXEN_TROojJ",
        "outputId": "410668d7-4c7c-45d6-cf16-7122984fbab6"
      },
      "execution_count": 148,
      "outputs": [
        {
          "output_type": "stream",
          "name": "stdout",
          "text": [
            "              precision    recall  f1-score   support\n",
            "\n",
            "           0       0.50      0.52      0.51       254\n",
            "           1       0.48      0.45      0.46       246\n",
            "\n",
            "    accuracy                           0.49       500\n",
            "   macro avg       0.49      0.49      0.49       500\n",
            "weighted avg       0.49      0.49      0.49       500\n",
            "\n"
          ]
        }
      ]
    },
    {
      "cell_type": "code",
      "source": [
        "all_df"
      ],
      "metadata": {
        "colab": {
          "base_uri": "https://localhost:8080/",
          "height": 1000
        },
        "id": "Wa5rIsSeJBX9",
        "outputId": "3ca93ecc-bcff-4172-e59a-92b5ad4bfee7"
      },
      "execution_count": 27,
      "outputs": [
        {
          "output_type": "execute_result",
          "data": {
            "text/plain": [
              "                              Name  File Size (MB)  Number of Pages  \\\n",
              "0             Bitbase - Whitepaper        0.471933               10   \n",
              "1     Neural Protocol - Whitepaper        0.900510               15   \n",
              "2               Idena - Whitepaper        0.839485               14   \n",
              "3           LiveStars - Whitepaper        9.600061               25   \n",
              "4              0chain - Whitepaper        3.299664               19   \n",
              "...                            ...             ...              ...   \n",
              "1695          Cartesi - Whitepaper        0.491359               16   \n",
              "1696          BitCoen - Whitepaper        0.236475               27   \n",
              "1697       Marginless - Whitepaper        4.778409               36   \n",
              "1698        Cryptonex - Whitepaper        1.225157               17   \n",
              "1699             Qbic - Whitepaper        0.581980               16   \n",
              "\n",
              "      Word Count  Flesch Reading Ease  New Dale-Chall  Abstract Section  \\\n",
              "0          11043                62.88            7.35             False   \n",
              "1           6505                52.90            7.93             False   \n",
              "2          16993                42.61            8.20              True   \n",
              "3          31355                53.10            7.40             False   \n",
              "4          66676                49.04            6.88              True   \n",
              "...          ...                  ...             ...               ...   \n",
              "1695       86751                55.13            6.96              True   \n",
              "1696       38798                44.03            7.58             False   \n",
              "1697       47039                50.57            7.02             False   \n",
              "1698       31894                53.71            7.86             False   \n",
              "1699       25649                48.13            7.80             False   \n",
              "\n",
              "      Summary Section  Reference Section  \\\n",
              "0               False              False   \n",
              "1               False              False   \n",
              "2               False              False   \n",
              "3               False              False   \n",
              "4               False              False   \n",
              "...               ...                ...   \n",
              "1695            False               True   \n",
              "1696            False              False   \n",
              "1697            False              False   \n",
              "1698            False              False   \n",
              "1699            False               True   \n",
              "\n",
              "                                                   test  ... coin_name_on_web  \\\n",
              "0     ​v bitbase​ ​whitepaper​ ​ new​ ​escrow​ ​bloc...  ...    BitBase Token   \n",
              "1     table of contents abstract introduction nrp to...  ...  Neural Protocol   \n",
              "2     idena concept paper idena concept paper draft ...  ...            Idena   \n",
              "3     w t p a p r november version new generation we...  ...       Live Stars   \n",
              "4     chain decentralizing storage saswata basu tom ...  ...           0Chain   \n",
              "...                                                 ...  ...              ...   \n",
              "1695  version the core of cartesi augusto teixeira d...  ...          Cartesi   \n",
              "1696  bitcoen white paper contents short description...  ...          Bitcoin   \n",
              "1697  social betting networkpowered by blockchain ta...  ...       Marginless   \n",
              "1698  white paper introduccidon blockchain review ma...  ...        Cryptonex   \n",
              "1699  qbic manifesto an open source initiative elect...  ...             Qbic   \n",
              "\n",
              "     coin_symbol   coin_price    market_cap        volume     max_supply  \\\n",
              "0           BTBS       $0.18   0.000000e+00  1.420400e+04    100,000,000   \n",
              "1            NRP       $0.00   1.074150e+05  0.000000e+00             --   \n",
              "2           IDNA       $0.01   7.561350e+05  2.432000e+04             --   \n",
              "3           LIVE       $0.00   0.000000e+00  0.000000e+00             --   \n",
              "4            ZCN       $0.18   8.702623e+06  9.034700e+04    400,000,000   \n",
              "...          ...          ...           ...           ...            ...   \n",
              "1695        CTSI       $0.10   6.410724e+07  4.180223e+06  1,000,000,000   \n",
              "1696         BTC  $16,174.04   3.107533e+11  2.723213e+10     21,000,000   \n",
              "1697         MRS          Nan  0.000000e+00  0.000000e+00            NaN   \n",
              "1698         CNX          Nan  0.000000e+00  0.000000e+00            NaN   \n",
              "1699        QBIC          Nan  0.000000e+00  0.000000e+00            NaN   \n",
              "\n",
              "       total_supply fully_diluted_market_cap success_marketcap_median  \\\n",
              "0                --             $18,152,576                         0   \n",
              "1     9,500,000,000                $107,437                         0   \n",
              "2        92,458,524              $1,121,725                         1   \n",
              "3        54,722,996                      - -                        0   \n",
              "4       200,000,000             $71,921,043                         1   \n",
              "...             ...                      ...                      ...   \n",
              "1695  1,000,000,000             $99,072,300                         1   \n",
              "1696     19,213,087        $339,654,858,021                         1   \n",
              "1697            NaN                      NaN                        0   \n",
              "1698            NaN                      NaN                        0   \n",
              "1699            NaN                      NaN                        0   \n",
              "\n",
              "      success_volume_median  \n",
              "0                         1  \n",
              "1                         0  \n",
              "2                         1  \n",
              "3                         0  \n",
              "4                         1  \n",
              "...                     ...  \n",
              "1695                      1  \n",
              "1696                      1  \n",
              "1697                      0  \n",
              "1698                      0  \n",
              "1699                      0  \n",
              "\n",
              "[1700 rows x 21 columns]"
            ],
            "text/html": [
              "\n",
              "  <div id=\"df-f1d2fa3e-dd6e-40f2-b702-c1e81a2a4d21\">\n",
              "    <div class=\"colab-df-container\">\n",
              "      <div>\n",
              "<style scoped>\n",
              "    .dataframe tbody tr th:only-of-type {\n",
              "        vertical-align: middle;\n",
              "    }\n",
              "\n",
              "    .dataframe tbody tr th {\n",
              "        vertical-align: top;\n",
              "    }\n",
              "\n",
              "    .dataframe thead th {\n",
              "        text-align: right;\n",
              "    }\n",
              "</style>\n",
              "<table border=\"1\" class=\"dataframe\">\n",
              "  <thead>\n",
              "    <tr style=\"text-align: right;\">\n",
              "      <th></th>\n",
              "      <th>Name</th>\n",
              "      <th>File Size (MB)</th>\n",
              "      <th>Number of Pages</th>\n",
              "      <th>Word Count</th>\n",
              "      <th>Flesch Reading Ease</th>\n",
              "      <th>New Dale-Chall</th>\n",
              "      <th>Abstract Section</th>\n",
              "      <th>Summary Section</th>\n",
              "      <th>Reference Section</th>\n",
              "      <th>test</th>\n",
              "      <th>...</th>\n",
              "      <th>coin_name_on_web</th>\n",
              "      <th>coin_symbol</th>\n",
              "      <th>coin_price</th>\n",
              "      <th>market_cap</th>\n",
              "      <th>volume</th>\n",
              "      <th>max_supply</th>\n",
              "      <th>total_supply</th>\n",
              "      <th>fully_diluted_market_cap</th>\n",
              "      <th>success_marketcap_median</th>\n",
              "      <th>success_volume_median</th>\n",
              "    </tr>\n",
              "  </thead>\n",
              "  <tbody>\n",
              "    <tr>\n",
              "      <th>0</th>\n",
              "      <td>Bitbase - Whitepaper</td>\n",
              "      <td>0.471933</td>\n",
              "      <td>10</td>\n",
              "      <td>11043</td>\n",
              "      <td>62.88</td>\n",
              "      <td>7.35</td>\n",
              "      <td>False</td>\n",
              "      <td>False</td>\n",
              "      <td>False</td>\n",
              "      <td>​v bitbase​ ​whitepaper​ ​ new​ ​escrow​ ​bloc...</td>\n",
              "      <td>...</td>\n",
              "      <td>BitBase Token</td>\n",
              "      <td>BTBS</td>\n",
              "      <td>$0.18</td>\n",
              "      <td>0.000000e+00</td>\n",
              "      <td>1.420400e+04</td>\n",
              "      <td>100,000,000</td>\n",
              "      <td>--</td>\n",
              "      <td>$18,152,576</td>\n",
              "      <td>0</td>\n",
              "      <td>1</td>\n",
              "    </tr>\n",
              "    <tr>\n",
              "      <th>1</th>\n",
              "      <td>Neural Protocol - Whitepaper</td>\n",
              "      <td>0.900510</td>\n",
              "      <td>15</td>\n",
              "      <td>6505</td>\n",
              "      <td>52.90</td>\n",
              "      <td>7.93</td>\n",
              "      <td>False</td>\n",
              "      <td>False</td>\n",
              "      <td>False</td>\n",
              "      <td>table of contents abstract introduction nrp to...</td>\n",
              "      <td>...</td>\n",
              "      <td>Neural Protocol</td>\n",
              "      <td>NRP</td>\n",
              "      <td>$0.00</td>\n",
              "      <td>1.074150e+05</td>\n",
              "      <td>0.000000e+00</td>\n",
              "      <td>--</td>\n",
              "      <td>9,500,000,000</td>\n",
              "      <td>$107,437</td>\n",
              "      <td>0</td>\n",
              "      <td>0</td>\n",
              "    </tr>\n",
              "    <tr>\n",
              "      <th>2</th>\n",
              "      <td>Idena - Whitepaper</td>\n",
              "      <td>0.839485</td>\n",
              "      <td>14</td>\n",
              "      <td>16993</td>\n",
              "      <td>42.61</td>\n",
              "      <td>8.20</td>\n",
              "      <td>True</td>\n",
              "      <td>False</td>\n",
              "      <td>False</td>\n",
              "      <td>idena concept paper idena concept paper draft ...</td>\n",
              "      <td>...</td>\n",
              "      <td>Idena</td>\n",
              "      <td>IDNA</td>\n",
              "      <td>$0.01</td>\n",
              "      <td>7.561350e+05</td>\n",
              "      <td>2.432000e+04</td>\n",
              "      <td>--</td>\n",
              "      <td>92,458,524</td>\n",
              "      <td>$1,121,725</td>\n",
              "      <td>1</td>\n",
              "      <td>1</td>\n",
              "    </tr>\n",
              "    <tr>\n",
              "      <th>3</th>\n",
              "      <td>LiveStars - Whitepaper</td>\n",
              "      <td>9.600061</td>\n",
              "      <td>25</td>\n",
              "      <td>31355</td>\n",
              "      <td>53.10</td>\n",
              "      <td>7.40</td>\n",
              "      <td>False</td>\n",
              "      <td>False</td>\n",
              "      <td>False</td>\n",
              "      <td>w t p a p r november version new generation we...</td>\n",
              "      <td>...</td>\n",
              "      <td>Live Stars</td>\n",
              "      <td>LIVE</td>\n",
              "      <td>$0.00</td>\n",
              "      <td>0.000000e+00</td>\n",
              "      <td>0.000000e+00</td>\n",
              "      <td>--</td>\n",
              "      <td>54,722,996</td>\n",
              "      <td>- -</td>\n",
              "      <td>0</td>\n",
              "      <td>0</td>\n",
              "    </tr>\n",
              "    <tr>\n",
              "      <th>4</th>\n",
              "      <td>0chain - Whitepaper</td>\n",
              "      <td>3.299664</td>\n",
              "      <td>19</td>\n",
              "      <td>66676</td>\n",
              "      <td>49.04</td>\n",
              "      <td>6.88</td>\n",
              "      <td>True</td>\n",
              "      <td>False</td>\n",
              "      <td>False</td>\n",
              "      <td>chain decentralizing storage saswata basu tom ...</td>\n",
              "      <td>...</td>\n",
              "      <td>0Chain</td>\n",
              "      <td>ZCN</td>\n",
              "      <td>$0.18</td>\n",
              "      <td>8.702623e+06</td>\n",
              "      <td>9.034700e+04</td>\n",
              "      <td>400,000,000</td>\n",
              "      <td>200,000,000</td>\n",
              "      <td>$71,921,043</td>\n",
              "      <td>1</td>\n",
              "      <td>1</td>\n",
              "    </tr>\n",
              "    <tr>\n",
              "      <th>...</th>\n",
              "      <td>...</td>\n",
              "      <td>...</td>\n",
              "      <td>...</td>\n",
              "      <td>...</td>\n",
              "      <td>...</td>\n",
              "      <td>...</td>\n",
              "      <td>...</td>\n",
              "      <td>...</td>\n",
              "      <td>...</td>\n",
              "      <td>...</td>\n",
              "      <td>...</td>\n",
              "      <td>...</td>\n",
              "      <td>...</td>\n",
              "      <td>...</td>\n",
              "      <td>...</td>\n",
              "      <td>...</td>\n",
              "      <td>...</td>\n",
              "      <td>...</td>\n",
              "      <td>...</td>\n",
              "      <td>...</td>\n",
              "      <td>...</td>\n",
              "    </tr>\n",
              "    <tr>\n",
              "      <th>1695</th>\n",
              "      <td>Cartesi - Whitepaper</td>\n",
              "      <td>0.491359</td>\n",
              "      <td>16</td>\n",
              "      <td>86751</td>\n",
              "      <td>55.13</td>\n",
              "      <td>6.96</td>\n",
              "      <td>True</td>\n",
              "      <td>False</td>\n",
              "      <td>True</td>\n",
              "      <td>version the core of cartesi augusto teixeira d...</td>\n",
              "      <td>...</td>\n",
              "      <td>Cartesi</td>\n",
              "      <td>CTSI</td>\n",
              "      <td>$0.10</td>\n",
              "      <td>6.410724e+07</td>\n",
              "      <td>4.180223e+06</td>\n",
              "      <td>1,000,000,000</td>\n",
              "      <td>1,000,000,000</td>\n",
              "      <td>$99,072,300</td>\n",
              "      <td>1</td>\n",
              "      <td>1</td>\n",
              "    </tr>\n",
              "    <tr>\n",
              "      <th>1696</th>\n",
              "      <td>BitCoen - Whitepaper</td>\n",
              "      <td>0.236475</td>\n",
              "      <td>27</td>\n",
              "      <td>38798</td>\n",
              "      <td>44.03</td>\n",
              "      <td>7.58</td>\n",
              "      <td>False</td>\n",
              "      <td>False</td>\n",
              "      <td>False</td>\n",
              "      <td>bitcoen white paper contents short description...</td>\n",
              "      <td>...</td>\n",
              "      <td>Bitcoin</td>\n",
              "      <td>BTC</td>\n",
              "      <td>$16,174.04</td>\n",
              "      <td>3.107533e+11</td>\n",
              "      <td>2.723213e+10</td>\n",
              "      <td>21,000,000</td>\n",
              "      <td>19,213,087</td>\n",
              "      <td>$339,654,858,021</td>\n",
              "      <td>1</td>\n",
              "      <td>1</td>\n",
              "    </tr>\n",
              "    <tr>\n",
              "      <th>1697</th>\n",
              "      <td>Marginless - Whitepaper</td>\n",
              "      <td>4.778409</td>\n",
              "      <td>36</td>\n",
              "      <td>47039</td>\n",
              "      <td>50.57</td>\n",
              "      <td>7.02</td>\n",
              "      <td>False</td>\n",
              "      <td>False</td>\n",
              "      <td>False</td>\n",
              "      <td>social betting networkpowered by blockchain ta...</td>\n",
              "      <td>...</td>\n",
              "      <td>Marginless</td>\n",
              "      <td>MRS</td>\n",
              "      <td>Nan</td>\n",
              "      <td>0.000000e+00</td>\n",
              "      <td>0.000000e+00</td>\n",
              "      <td>NaN</td>\n",
              "      <td>NaN</td>\n",
              "      <td>NaN</td>\n",
              "      <td>0</td>\n",
              "      <td>0</td>\n",
              "    </tr>\n",
              "    <tr>\n",
              "      <th>1698</th>\n",
              "      <td>Cryptonex - Whitepaper</td>\n",
              "      <td>1.225157</td>\n",
              "      <td>17</td>\n",
              "      <td>31894</td>\n",
              "      <td>53.71</td>\n",
              "      <td>7.86</td>\n",
              "      <td>False</td>\n",
              "      <td>False</td>\n",
              "      <td>False</td>\n",
              "      <td>white paper introduccidon blockchain review ma...</td>\n",
              "      <td>...</td>\n",
              "      <td>Cryptonex</td>\n",
              "      <td>CNX</td>\n",
              "      <td>Nan</td>\n",
              "      <td>0.000000e+00</td>\n",
              "      <td>0.000000e+00</td>\n",
              "      <td>NaN</td>\n",
              "      <td>NaN</td>\n",
              "      <td>NaN</td>\n",
              "      <td>0</td>\n",
              "      <td>0</td>\n",
              "    </tr>\n",
              "    <tr>\n",
              "      <th>1699</th>\n",
              "      <td>Qbic - Whitepaper</td>\n",
              "      <td>0.581980</td>\n",
              "      <td>16</td>\n",
              "      <td>25649</td>\n",
              "      <td>48.13</td>\n",
              "      <td>7.80</td>\n",
              "      <td>False</td>\n",
              "      <td>False</td>\n",
              "      <td>True</td>\n",
              "      <td>qbic manifesto an open source initiative elect...</td>\n",
              "      <td>...</td>\n",
              "      <td>Qbic</td>\n",
              "      <td>QBIC</td>\n",
              "      <td>Nan</td>\n",
              "      <td>0.000000e+00</td>\n",
              "      <td>0.000000e+00</td>\n",
              "      <td>NaN</td>\n",
              "      <td>NaN</td>\n",
              "      <td>NaN</td>\n",
              "      <td>0</td>\n",
              "      <td>0</td>\n",
              "    </tr>\n",
              "  </tbody>\n",
              "</table>\n",
              "<p>1700 rows × 21 columns</p>\n",
              "</div>\n",
              "      <button class=\"colab-df-convert\" onclick=\"convertToInteractive('df-f1d2fa3e-dd6e-40f2-b702-c1e81a2a4d21')\"\n",
              "              title=\"Convert this dataframe to an interactive table.\"\n",
              "              style=\"display:none;\">\n",
              "        \n",
              "  <svg xmlns=\"http://www.w3.org/2000/svg\" height=\"24px\"viewBox=\"0 0 24 24\"\n",
              "       width=\"24px\">\n",
              "    <path d=\"M0 0h24v24H0V0z\" fill=\"none\"/>\n",
              "    <path d=\"M18.56 5.44l.94 2.06.94-2.06 2.06-.94-2.06-.94-.94-2.06-.94 2.06-2.06.94zm-11 1L8.5 8.5l.94-2.06 2.06-.94-2.06-.94L8.5 2.5l-.94 2.06-2.06.94zm10 10l.94 2.06.94-2.06 2.06-.94-2.06-.94-.94-2.06-.94 2.06-2.06.94z\"/><path d=\"M17.41 7.96l-1.37-1.37c-.4-.4-.92-.59-1.43-.59-.52 0-1.04.2-1.43.59L10.3 9.45l-7.72 7.72c-.78.78-.78 2.05 0 2.83L4 21.41c.39.39.9.59 1.41.59.51 0 1.02-.2 1.41-.59l7.78-7.78 2.81-2.81c.8-.78.8-2.07 0-2.86zM5.41 20L4 18.59l7.72-7.72 1.47 1.35L5.41 20z\"/>\n",
              "  </svg>\n",
              "      </button>\n",
              "      \n",
              "  <style>\n",
              "    .colab-df-container {\n",
              "      display:flex;\n",
              "      flex-wrap:wrap;\n",
              "      gap: 12px;\n",
              "    }\n",
              "\n",
              "    .colab-df-convert {\n",
              "      background-color: #E8F0FE;\n",
              "      border: none;\n",
              "      border-radius: 50%;\n",
              "      cursor: pointer;\n",
              "      display: none;\n",
              "      fill: #1967D2;\n",
              "      height: 32px;\n",
              "      padding: 0 0 0 0;\n",
              "      width: 32px;\n",
              "    }\n",
              "\n",
              "    .colab-df-convert:hover {\n",
              "      background-color: #E2EBFA;\n",
              "      box-shadow: 0px 1px 2px rgba(60, 64, 67, 0.3), 0px 1px 3px 1px rgba(60, 64, 67, 0.15);\n",
              "      fill: #174EA6;\n",
              "    }\n",
              "\n",
              "    [theme=dark] .colab-df-convert {\n",
              "      background-color: #3B4455;\n",
              "      fill: #D2E3FC;\n",
              "    }\n",
              "\n",
              "    [theme=dark] .colab-df-convert:hover {\n",
              "      background-color: #434B5C;\n",
              "      box-shadow: 0px 1px 3px 1px rgba(0, 0, 0, 0.15);\n",
              "      filter: drop-shadow(0px 1px 2px rgba(0, 0, 0, 0.3));\n",
              "      fill: #FFFFFF;\n",
              "    }\n",
              "  </style>\n",
              "\n",
              "      <script>\n",
              "        const buttonEl =\n",
              "          document.querySelector('#df-f1d2fa3e-dd6e-40f2-b702-c1e81a2a4d21 button.colab-df-convert');\n",
              "        buttonEl.style.display =\n",
              "          google.colab.kernel.accessAllowed ? 'block' : 'none';\n",
              "\n",
              "        async function convertToInteractive(key) {\n",
              "          const element = document.querySelector('#df-f1d2fa3e-dd6e-40f2-b702-c1e81a2a4d21');\n",
              "          const dataTable =\n",
              "            await google.colab.kernel.invokeFunction('convertToInteractive',\n",
              "                                                     [key], {});\n",
              "          if (!dataTable) return;\n",
              "\n",
              "          const docLinkHtml = 'Like what you see? Visit the ' +\n",
              "            '<a target=\"_blank\" href=https://colab.research.google.com/notebooks/data_table.ipynb>data table notebook</a>'\n",
              "            + ' to learn more about interactive tables.';\n",
              "          element.innerHTML = '';\n",
              "          dataTable['output_type'] = 'display_data';\n",
              "          await google.colab.output.renderOutput(dataTable, element);\n",
              "          const docLink = document.createElement('div');\n",
              "          docLink.innerHTML = docLinkHtml;\n",
              "          element.appendChild(docLink);\n",
              "        }\n",
              "      </script>\n",
              "    </div>\n",
              "  </div>\n",
              "  "
            ]
          },
          "metadata": {},
          "execution_count": 27
        }
      ]
    },
    {
      "cell_type": "code",
      "source": [
        "metadata = all_df.iloc[:, 1:9]\n",
        "metadata.iloc[:, 5:] = metadata.iloc[:, 5:]*1"
      ],
      "metadata": {
        "id": "gT_nedWpJhqX"
      },
      "execution_count": 84,
      "outputs": []
    },
    {
      "cell_type": "code",
      "source": [
        "X_train, X_test, y_train, y_test = train_test_split(metadata.iloc[:1200, :],all_df.loc[:1199, 'success_marketcap_median'])"
      ],
      "metadata": {
        "id": "PIpo19xjPDQF"
      },
      "execution_count": 53,
      "outputs": []
    },
    {
      "cell_type": "code",
      "source": [
        "METRICS = [\n",
        "      tf.keras.metrics.BinaryAccuracy(name='accuracy'),\n",
        "      tf.keras.metrics.Precision(name='precision'),\n",
        "      tf.keras.metrics.Recall(name='recall')\n",
        "]"
      ],
      "metadata": {
        "id": "vOGNL7Q5LI9D"
      },
      "execution_count": 54,
      "outputs": []
    },
    {
      "cell_type": "code",
      "source": [
        "model = tf.keras.Sequential()\n",
        "\n",
        "model.add(Conv1D(32, kernel_size = 3, activation = 'relu', input_shape = (8,1)))\n",
        "model.add(Dropout(0.2))\n",
        "\n",
        "model.add(Conv1D(64, kernel_size = 3, activation = 'relu', input_shape = (1,)))\n",
        "model.add(MaxPooling1D())\n",
        "model.add(Dropout(0.2))\n",
        "\n",
        "# model.add(Conv1D(32, kernel_size = 3, activation = 'relu', input_shape = (1,)))\n",
        "model.add(Dense(16, activation = 'relu'))\n",
        "model.add(MaxPooling1D())\n",
        "model.add(Dropout(0.2))\n",
        "\n",
        "model.add(Flatten())\n",
        "\n",
        "model.add(Dense(1, activation= 'sigmoid'))\n",
        "\n",
        "model.compile(loss = 'binary_crossentropy', optimizer='adam', metrics= METRICS)"
      ],
      "metadata": {
        "id": "Vb4yoB2OJKrk"
      },
      "execution_count": 89,
      "outputs": []
    },
    {
      "cell_type": "code",
      "source": [
        "model.summary()"
      ],
      "metadata": {
        "colab": {
          "base_uri": "https://localhost:8080/"
        },
        "id": "gfwVLq4wJPGA",
        "outputId": "4744cd2e-f243-42eb-8079-8868f9876bf4"
      },
      "execution_count": 90,
      "outputs": [
        {
          "output_type": "stream",
          "name": "stdout",
          "text": [
            "Model: \"sequential_12\"\n",
            "_________________________________________________________________\n",
            " Layer (type)                Output Shape              Param #   \n",
            "=================================================================\n",
            " conv1d_21 (Conv1D)          (None, 6, 32)             128       \n",
            "                                                                 \n",
            " dropout_25 (Dropout)        (None, 6, 32)             0         \n",
            "                                                                 \n",
            " conv1d_22 (Conv1D)          (None, 4, 64)             6208      \n",
            "                                                                 \n",
            " max_pooling1d_14 (MaxPoolin  (None, 2, 64)            0         \n",
            " g1D)                                                            \n",
            "                                                                 \n",
            " dropout_26 (Dropout)        (None, 2, 64)             0         \n",
            "                                                                 \n",
            " dense_15 (Dense)            (None, 2, 16)             1040      \n",
            "                                                                 \n",
            " max_pooling1d_15 (MaxPoolin  (None, 1, 16)            0         \n",
            " g1D)                                                            \n",
            "                                                                 \n",
            " dropout_27 (Dropout)        (None, 1, 16)             0         \n",
            "                                                                 \n",
            " flatten_7 (Flatten)         (None, 16)                0         \n",
            "                                                                 \n",
            " dense_16 (Dense)            (None, 1)                 17        \n",
            "                                                                 \n",
            "=================================================================\n",
            "Total params: 7,393\n",
            "Trainable params: 7,393\n",
            "Non-trainable params: 0\n",
            "_________________________________________________________________\n"
          ]
        }
      ]
    },
    {
      "cell_type": "code",
      "source": [
        "metadata"
      ],
      "metadata": {
        "colab": {
          "base_uri": "https://localhost:8080/",
          "height": 424
        },
        "id": "qynn-MG1NpDW",
        "outputId": "1ce34624-2c0b-4028-88f6-d123cc03fff6"
      },
      "execution_count": 91,
      "outputs": [
        {
          "output_type": "execute_result",
          "data": {
            "text/plain": [
              "      File Size (MB)  Number of Pages  Word Count  Flesch Reading Ease  \\\n",
              "0           0.471933               10       11043                62.88   \n",
              "1           0.900510               15        6505                52.90   \n",
              "2           0.839485               14       16993                42.61   \n",
              "3           9.600061               25       31355                53.10   \n",
              "4           3.299664               19       66676                49.04   \n",
              "...              ...              ...         ...                  ...   \n",
              "1695        0.491359               16       86751                55.13   \n",
              "1696        0.236475               27       38798                44.03   \n",
              "1697        4.778409               36       47039                50.57   \n",
              "1698        1.225157               17       31894                53.71   \n",
              "1699        0.581980               16       25649                48.13   \n",
              "\n",
              "      New Dale-Chall  Abstract Section  Summary Section  Reference Section  \n",
              "0               7.35                 0                0                  0  \n",
              "1               7.93                 0                0                  0  \n",
              "2               8.20                 1                0                  0  \n",
              "3               7.40                 0                0                  0  \n",
              "4               6.88                 1                0                  0  \n",
              "...              ...               ...              ...                ...  \n",
              "1695            6.96                 1                0                  1  \n",
              "1696            7.58                 0                0                  0  \n",
              "1697            7.02                 0                0                  0  \n",
              "1698            7.86                 0                0                  0  \n",
              "1699            7.80                 0                0                  1  \n",
              "\n",
              "[1700 rows x 8 columns]"
            ],
            "text/html": [
              "\n",
              "  <div id=\"df-f655a4a1-b127-4211-89f0-d73d1c64fe67\">\n",
              "    <div class=\"colab-df-container\">\n",
              "      <div>\n",
              "<style scoped>\n",
              "    .dataframe tbody tr th:only-of-type {\n",
              "        vertical-align: middle;\n",
              "    }\n",
              "\n",
              "    .dataframe tbody tr th {\n",
              "        vertical-align: top;\n",
              "    }\n",
              "\n",
              "    .dataframe thead th {\n",
              "        text-align: right;\n",
              "    }\n",
              "</style>\n",
              "<table border=\"1\" class=\"dataframe\">\n",
              "  <thead>\n",
              "    <tr style=\"text-align: right;\">\n",
              "      <th></th>\n",
              "      <th>File Size (MB)</th>\n",
              "      <th>Number of Pages</th>\n",
              "      <th>Word Count</th>\n",
              "      <th>Flesch Reading Ease</th>\n",
              "      <th>New Dale-Chall</th>\n",
              "      <th>Abstract Section</th>\n",
              "      <th>Summary Section</th>\n",
              "      <th>Reference Section</th>\n",
              "    </tr>\n",
              "  </thead>\n",
              "  <tbody>\n",
              "    <tr>\n",
              "      <th>0</th>\n",
              "      <td>0.471933</td>\n",
              "      <td>10</td>\n",
              "      <td>11043</td>\n",
              "      <td>62.88</td>\n",
              "      <td>7.35</td>\n",
              "      <td>0</td>\n",
              "      <td>0</td>\n",
              "      <td>0</td>\n",
              "    </tr>\n",
              "    <tr>\n",
              "      <th>1</th>\n",
              "      <td>0.900510</td>\n",
              "      <td>15</td>\n",
              "      <td>6505</td>\n",
              "      <td>52.90</td>\n",
              "      <td>7.93</td>\n",
              "      <td>0</td>\n",
              "      <td>0</td>\n",
              "      <td>0</td>\n",
              "    </tr>\n",
              "    <tr>\n",
              "      <th>2</th>\n",
              "      <td>0.839485</td>\n",
              "      <td>14</td>\n",
              "      <td>16993</td>\n",
              "      <td>42.61</td>\n",
              "      <td>8.20</td>\n",
              "      <td>1</td>\n",
              "      <td>0</td>\n",
              "      <td>0</td>\n",
              "    </tr>\n",
              "    <tr>\n",
              "      <th>3</th>\n",
              "      <td>9.600061</td>\n",
              "      <td>25</td>\n",
              "      <td>31355</td>\n",
              "      <td>53.10</td>\n",
              "      <td>7.40</td>\n",
              "      <td>0</td>\n",
              "      <td>0</td>\n",
              "      <td>0</td>\n",
              "    </tr>\n",
              "    <tr>\n",
              "      <th>4</th>\n",
              "      <td>3.299664</td>\n",
              "      <td>19</td>\n",
              "      <td>66676</td>\n",
              "      <td>49.04</td>\n",
              "      <td>6.88</td>\n",
              "      <td>1</td>\n",
              "      <td>0</td>\n",
              "      <td>0</td>\n",
              "    </tr>\n",
              "    <tr>\n",
              "      <th>...</th>\n",
              "      <td>...</td>\n",
              "      <td>...</td>\n",
              "      <td>...</td>\n",
              "      <td>...</td>\n",
              "      <td>...</td>\n",
              "      <td>...</td>\n",
              "      <td>...</td>\n",
              "      <td>...</td>\n",
              "    </tr>\n",
              "    <tr>\n",
              "      <th>1695</th>\n",
              "      <td>0.491359</td>\n",
              "      <td>16</td>\n",
              "      <td>86751</td>\n",
              "      <td>55.13</td>\n",
              "      <td>6.96</td>\n",
              "      <td>1</td>\n",
              "      <td>0</td>\n",
              "      <td>1</td>\n",
              "    </tr>\n",
              "    <tr>\n",
              "      <th>1696</th>\n",
              "      <td>0.236475</td>\n",
              "      <td>27</td>\n",
              "      <td>38798</td>\n",
              "      <td>44.03</td>\n",
              "      <td>7.58</td>\n",
              "      <td>0</td>\n",
              "      <td>0</td>\n",
              "      <td>0</td>\n",
              "    </tr>\n",
              "    <tr>\n",
              "      <th>1697</th>\n",
              "      <td>4.778409</td>\n",
              "      <td>36</td>\n",
              "      <td>47039</td>\n",
              "      <td>50.57</td>\n",
              "      <td>7.02</td>\n",
              "      <td>0</td>\n",
              "      <td>0</td>\n",
              "      <td>0</td>\n",
              "    </tr>\n",
              "    <tr>\n",
              "      <th>1698</th>\n",
              "      <td>1.225157</td>\n",
              "      <td>17</td>\n",
              "      <td>31894</td>\n",
              "      <td>53.71</td>\n",
              "      <td>7.86</td>\n",
              "      <td>0</td>\n",
              "      <td>0</td>\n",
              "      <td>0</td>\n",
              "    </tr>\n",
              "    <tr>\n",
              "      <th>1699</th>\n",
              "      <td>0.581980</td>\n",
              "      <td>16</td>\n",
              "      <td>25649</td>\n",
              "      <td>48.13</td>\n",
              "      <td>7.80</td>\n",
              "      <td>0</td>\n",
              "      <td>0</td>\n",
              "      <td>1</td>\n",
              "    </tr>\n",
              "  </tbody>\n",
              "</table>\n",
              "<p>1700 rows × 8 columns</p>\n",
              "</div>\n",
              "      <button class=\"colab-df-convert\" onclick=\"convertToInteractive('df-f655a4a1-b127-4211-89f0-d73d1c64fe67')\"\n",
              "              title=\"Convert this dataframe to an interactive table.\"\n",
              "              style=\"display:none;\">\n",
              "        \n",
              "  <svg xmlns=\"http://www.w3.org/2000/svg\" height=\"24px\"viewBox=\"0 0 24 24\"\n",
              "       width=\"24px\">\n",
              "    <path d=\"M0 0h24v24H0V0z\" fill=\"none\"/>\n",
              "    <path d=\"M18.56 5.44l.94 2.06.94-2.06 2.06-.94-2.06-.94-.94-2.06-.94 2.06-2.06.94zm-11 1L8.5 8.5l.94-2.06 2.06-.94-2.06-.94L8.5 2.5l-.94 2.06-2.06.94zm10 10l.94 2.06.94-2.06 2.06-.94-2.06-.94-.94-2.06-.94 2.06-2.06.94z\"/><path d=\"M17.41 7.96l-1.37-1.37c-.4-.4-.92-.59-1.43-.59-.52 0-1.04.2-1.43.59L10.3 9.45l-7.72 7.72c-.78.78-.78 2.05 0 2.83L4 21.41c.39.39.9.59 1.41.59.51 0 1.02-.2 1.41-.59l7.78-7.78 2.81-2.81c.8-.78.8-2.07 0-2.86zM5.41 20L4 18.59l7.72-7.72 1.47 1.35L5.41 20z\"/>\n",
              "  </svg>\n",
              "      </button>\n",
              "      \n",
              "  <style>\n",
              "    .colab-df-container {\n",
              "      display:flex;\n",
              "      flex-wrap:wrap;\n",
              "      gap: 12px;\n",
              "    }\n",
              "\n",
              "    .colab-df-convert {\n",
              "      background-color: #E8F0FE;\n",
              "      border: none;\n",
              "      border-radius: 50%;\n",
              "      cursor: pointer;\n",
              "      display: none;\n",
              "      fill: #1967D2;\n",
              "      height: 32px;\n",
              "      padding: 0 0 0 0;\n",
              "      width: 32px;\n",
              "    }\n",
              "\n",
              "    .colab-df-convert:hover {\n",
              "      background-color: #E2EBFA;\n",
              "      box-shadow: 0px 1px 2px rgba(60, 64, 67, 0.3), 0px 1px 3px 1px rgba(60, 64, 67, 0.15);\n",
              "      fill: #174EA6;\n",
              "    }\n",
              "\n",
              "    [theme=dark] .colab-df-convert {\n",
              "      background-color: #3B4455;\n",
              "      fill: #D2E3FC;\n",
              "    }\n",
              "\n",
              "    [theme=dark] .colab-df-convert:hover {\n",
              "      background-color: #434B5C;\n",
              "      box-shadow: 0px 1px 3px 1px rgba(0, 0, 0, 0.15);\n",
              "      filter: drop-shadow(0px 1px 2px rgba(0, 0, 0, 0.3));\n",
              "      fill: #FFFFFF;\n",
              "    }\n",
              "  </style>\n",
              "\n",
              "      <script>\n",
              "        const buttonEl =\n",
              "          document.querySelector('#df-f655a4a1-b127-4211-89f0-d73d1c64fe67 button.colab-df-convert');\n",
              "        buttonEl.style.display =\n",
              "          google.colab.kernel.accessAllowed ? 'block' : 'none';\n",
              "\n",
              "        async function convertToInteractive(key) {\n",
              "          const element = document.querySelector('#df-f655a4a1-b127-4211-89f0-d73d1c64fe67');\n",
              "          const dataTable =\n",
              "            await google.colab.kernel.invokeFunction('convertToInteractive',\n",
              "                                                     [key], {});\n",
              "          if (!dataTable) return;\n",
              "\n",
              "          const docLinkHtml = 'Like what you see? Visit the ' +\n",
              "            '<a target=\"_blank\" href=https://colab.research.google.com/notebooks/data_table.ipynb>data table notebook</a>'\n",
              "            + ' to learn more about interactive tables.';\n",
              "          element.innerHTML = '';\n",
              "          dataTable['output_type'] = 'display_data';\n",
              "          await google.colab.output.renderOutput(dataTable, element);\n",
              "          const docLink = document.createElement('div');\n",
              "          docLink.innerHTML = docLinkHtml;\n",
              "          element.appendChild(docLink);\n",
              "        }\n",
              "      </script>\n",
              "    </div>\n",
              "  </div>\n",
              "  "
            ]
          },
          "metadata": {},
          "execution_count": 91
        }
      ]
    },
    {
      "cell_type": "code",
      "source": [
        "metadata = np.expand_dims(metadata, axis=2)"
      ],
      "metadata": {
        "id": "mEB2BveLNBYl"
      },
      "execution_count": 82,
      "outputs": []
    },
    {
      "cell_type": "code",
      "source": [
        "for i in range(3):\n",
        "    X_train, X_test, y_train, y_test = train_test_split(metadata.iloc[:1200, :],all_df.loc[:1199, 'success_marketcap_median'])\n",
        "    model.fit(X_train, y_train, epochs=3)\n",
        "    model.evaluate(X_test, y_test)\n",
        "    i+=1"
      ],
      "metadata": {
        "colab": {
          "base_uri": "https://localhost:8080/"
        },
        "id": "wUcVF9npLLHY",
        "outputId": "8d96795a-4c65-447a-a6d4-1ae11a680347"
      },
      "execution_count": 101,
      "outputs": [
        {
          "output_type": "stream",
          "name": "stdout",
          "text": [
            "Epoch 1/3\n",
            "29/29 [==============================] - 0s 11ms/step - loss: 0.6902 - accuracy: 0.5100 - precision: 0.5000 - recall: 0.0023\n",
            "Epoch 2/3\n",
            "29/29 [==============================] - 0s 11ms/step - loss: 0.6953 - accuracy: 0.5100 - precision: 0.5000 - recall: 0.0068\n",
            "Epoch 3/3\n",
            "29/29 [==============================] - 0s 11ms/step - loss: 0.6953 - accuracy: 0.5156 - precision: 0.6190 - recall: 0.0295\n",
            "10/10 [==============================] - 0s 3ms/step - loss: 0.6943 - accuracy: 0.4567 - precision: 0.0000e+00 - recall: 0.0000e+00\n",
            "Epoch 1/3\n",
            "29/29 [==============================] - 0s 11ms/step - loss: 0.6927 - accuracy: 0.5056 - precision: 0.8000 - recall: 0.0264\n",
            "Epoch 2/3\n",
            "29/29 [==============================] - 0s 11ms/step - loss: 0.6924 - accuracy: 0.4978 - precision: 0.5625 - recall: 0.0198\n",
            "Epoch 3/3\n",
            "29/29 [==============================] - 0s 12ms/step - loss: 0.6950 - accuracy: 0.4944 - precision: 0.4667 - recall: 0.0154\n",
            "10/10 [==============================] - 0s 4ms/step - loss: 0.6932 - accuracy: 0.5000 - precision: 0.0000e+00 - recall: 0.0000e+00\n",
            "Epoch 1/3\n",
            "29/29 [==============================] - 0s 11ms/step - loss: 0.6946 - accuracy: 0.4922 - precision: 0.4667 - recall: 0.0154\n",
            "Epoch 2/3\n",
            "29/29 [==============================] - 0s 11ms/step - loss: 0.6932 - accuracy: 0.4933 - precision: 0.5000 - recall: 0.0241\n",
            "Epoch 3/3\n",
            "29/29 [==============================] - 0s 11ms/step - loss: 0.6943 - accuracy: 0.4878 - precision: 0.2727 - recall: 0.0066\n",
            "10/10 [==============================] - 0s 4ms/step - loss: 0.6931 - accuracy: 0.5067 - precision: 0.0000e+00 - recall: 0.0000e+00\n"
          ]
        }
      ]
    },
    {
      "cell_type": "code",
      "source": [
        "y_predicted = model.predict(np.array(metadata.iloc[1200:, :]))\n",
        "y_predicted = y_predicted.flatten()\n",
        "y_predicted = np.where(y_predicted > 0.5, 1, 0)\n",
        "y_predicted\n",
        "cm = confusion_matrix(df.loc[1200:, 'success_marketcap_median'], y_predicted)\n",
        "cm"
      ],
      "metadata": {
        "colab": {
          "base_uri": "https://localhost:8080/"
        },
        "id": "LPCUIxroLeOC",
        "outputId": "ef2e06bc-5b0a-4f00-9a03-26e2c875a22f"
      },
      "execution_count": 102,
      "outputs": [
        {
          "output_type": "stream",
          "name": "stdout",
          "text": [
            "16/16 [==============================] - 0s 2ms/step\n"
          ]
        },
        {
          "output_type": "execute_result",
          "data": {
            "text/plain": [
              "array([[254,   0],\n",
              "       [246,   0]])"
            ]
          },
          "metadata": {},
          "execution_count": 102
        }
      ]
    },
    {
      "cell_type": "code",
      "source": [
        "print(classification_report(df.loc[1200:, 'success_marketcap_median'], y_predicted))"
      ],
      "metadata": {
        "colab": {
          "base_uri": "https://localhost:8080/"
        },
        "id": "XTnSwyrNOaWW",
        "outputId": "2f52eb0c-9470-4761-f2d1-1dd23b9955af"
      },
      "execution_count": 103,
      "outputs": [
        {
          "output_type": "stream",
          "name": "stdout",
          "text": [
            "              precision    recall  f1-score   support\n",
            "\n",
            "           0       0.51      1.00      0.67       254\n",
            "           1       0.00      0.00      0.00       246\n",
            "\n",
            "    accuracy                           0.51       500\n",
            "   macro avg       0.25      0.50      0.34       500\n",
            "weighted avg       0.26      0.51      0.34       500\n",
            "\n"
          ]
        },
        {
          "output_type": "stream",
          "name": "stderr",
          "text": [
            "/usr/local/lib/python3.8/dist-packages/sklearn/metrics/_classification.py:1318: UndefinedMetricWarning: Precision and F-score are ill-defined and being set to 0.0 in labels with no predicted samples. Use `zero_division` parameter to control this behavior.\n",
            "  _warn_prf(average, modifier, msg_start, len(result))\n",
            "/usr/local/lib/python3.8/dist-packages/sklearn/metrics/_classification.py:1318: UndefinedMetricWarning: Precision and F-score are ill-defined and being set to 0.0 in labels with no predicted samples. Use `zero_division` parameter to control this behavior.\n",
            "  _warn_prf(average, modifier, msg_start, len(result))\n",
            "/usr/local/lib/python3.8/dist-packages/sklearn/metrics/_classification.py:1318: UndefinedMetricWarning: Precision and F-score are ill-defined and being set to 0.0 in labels with no predicted samples. Use `zero_division` parameter to control this behavior.\n",
            "  _warn_prf(average, modifier, msg_start, len(result))\n"
          ]
        }
      ]
    },
    {
      "cell_type": "code",
      "source": [],
      "metadata": {
        "id": "rknqc-2IOm-m"
      },
      "execution_count": null,
      "outputs": []
    }
  ]
}