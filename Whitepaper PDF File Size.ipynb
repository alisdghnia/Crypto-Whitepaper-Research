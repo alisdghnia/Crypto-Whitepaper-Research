{
 "cells": [
  {
   "cell_type": "code",
   "execution_count": 146,
   "id": "a457ec44-153e-44e5-810d-edd0995d8f63",
   "metadata": {},
   "outputs": [],
   "source": [
    "import os\n",
    "import PyPDF2\n",
    "import numpy as np\n",
    "import dis\n",
    "from os.path import join\n",
    "import pandas as pd"
   ]
  },
  {
   "cell_type": "code",
   "execution_count": 3,
   "id": "752c3a07-1609-4ff8-a2fd-88c9dcdd1ba3",
   "metadata": {},
   "outputs": [
    {
     "name": "stdout",
     "output_type": "stream",
     "text": [
      "/Users/alisdghnia/Desktop\n"
     ]
    }
   ],
   "source": [
    "%cd '/Users/alisdghnia/Desktop'"
   ]
  },
  {
   "cell_type": "code",
   "execution_count": 6,
   "id": "4753a346-e7d7-484d-9518-deee3b46afd0",
   "metadata": {
    "scrolled": true,
    "tags": []
   },
   "outputs": [
    {
     "name": "stdout",
     "output_type": "stream",
     "text": [
      "['en_whitepaper.pdf', '216.pdf', 'SWIRLDS-TR-2016-01.pdf', '1910.11143.pdf', 'protocol.pdf', 'libra-move-a-language-with-programmable-resources.pdf', 'SyncFab_MFG_WP.pdf', '1153.pdf', 'bitcoin.pdf', 'EOS_An_Introduction.pdf', 'tenx_whitepaper_final.pdf', 'Binance_WhitePaper_en_v1.2.pdf', 'maymounkov-kademlia-lncs.pdf', 'Datum-WhitePaper.pdf', 'v2.1.pdf', 'Whitepaper - Eximchain.pdf', 'patientory_whitepaper.pdf', 'electra-white-paper_1.0.pdf', 'Polkadot-lightpaper-2020.pdf', 'MasterCoin Specification 1.1.pdf', 'aelf_whitepaper_v1.2.pdf', 'Design_Book_of_TRON_Architecture1.4.pdf', 'stellar-consensus-protocol.pdf', 'NAV-Coin-Whitepaper.pdf', 'request_whitepaper.pdf', 'UTRUST-whitepaper-en-2017-11-02.pdf', 'Binance_WhitePaper_en.pdf', 'defi-chain-modules.pdf', 'White_Paper_EN.pdf', '573.pdf', 'SWIRLDS-TR-2016-02.pdf', 'OriginTrail-White-Paper.pdf', 'Lunyr_White_Paper_ENG.pdf', 'Safecoin.pdf', 'WhitePaper 58.pdf', 'WhitePaperEn.pdf', 'Ethereum_white_paper.pdf', 'Dropil_White_Paper.pdf', 'WT_OP_ENG.pdf', 'QunQun_1.8.5_A_blockchain-based_incentive_community_platform_whitepaper.pdf', 'PRIVATIX-WHITEPAPER.pdf', 'AdEx-Whitepaper-v.7.pdf', 'mtpv12.pdf', 'coinmetro-wp-newspaper.pdf', 'Etherparty_White_Paper_EN.pdf', 'FunFair-Commercial-White-Paper.pdf', 'indahash_whitepaper_ico.pdf', 'Rentberry_Whitepaper_en.pdf', 'Karma. Economy of Trust. White paper. v.7.pdf', 'the-libra-blockchain.pdf', 'KyberNetworkWhitepaper.pdf', 'SPORTYFI-Whitepaper.pdf', 'WhitePaper 59.pdf', '180227_2_J8T_Pitch_Deck_ENG.pdf', 'TNB_business_white_paper_en.pdf', 'MediShares.Whitepaper.EN.pdf', 'stox-whitepaper.pdf', 'DATx+WHITEPAPER+(EN)+V1.1.pdf', 'RChainWhitepaper.pdf', 'White Paper_v.0.3.pdf', 'GBX-Whitepaper.pdf', 'Stipend-Light - Whitepaper.pdf', 'WhitePaper 61.pdf', 'whitepaper 49.pdf', 'abstract.pdf', '199.pdf', '.DS_Store', 'Kyvalion_Whitepaper＿en.pdf', '180104-GATCOIN-Whitepaper-ENG.pdf', 'aXpire_Whitepaper.pdf', 'WINGS_Whitepaper_V1.1.2_en.pdf', 'polyswarm-whitepaper.pdf', 'QRL_whitepaper.pdf', 'English_white_paper.pdf', 'rfc6330.pdf', 'ink_whitepaper_en.pdf', '2ndBitcoinWhitepaper.pdf', 'Brahma_Whitepaper_v1.0.0.pdf', 'Nexus-White-Paper-7-4-2017.pdf', 'Tech_white_paper_EN.md', 'qbao_fund_en.pdf', 'beigepaper.pdf', 'c281dc_1a323dad099b4464abc3ac212a9c3443.pdf', 'main.pdf', 'whitepaper 48.pdf', 'WhitePaper 60.pdf', 'SmartMeshWhitePaperEN.pdf', 'Agrello-Self-Aware_Whitepaper-English.pdf', 'bitqy_whitepaper_v1-4.pdf', 'Whitepaper-en1.pdf', 'DatabitsWhitepaper-v2.0-.pdf', 'nu-whitepaper-23_sept_2014-en.pdf', 'GJC_Terms_Conditions.pdf', 'ef2723f33deef1875ef17361f7c696ef.pdf', 'BSC_WHITEPAPER.md', 'filecoin.pdf', 'Terra_White_paper.pdf', 'Autonio_Whitepaper_v1.1.0.pdf', 'swissborg-technical-whitepaper.pdf', 'streamr-datacoin-whitepaper-2017-07-25-v1_0.pdf', 'Whitepaper-2.0.pdf', 'MasterCoin Specification.pdf', 'humaniq_wp_english.pdf', 'INT-whitepaper-release-EN.pdf', 'groestl-implementation-guide.pdf', 'MyBit_Whitepaper_v3.0.0.pdf', 'secure-names-bit-strings.pdf', 'swarm-whitepaper-v081.pdf', 'RefereumWhitepaper.pdf', 'Kin_Whitepaper_V1_English.pdf', 'Cindicator_WhitePaper_en.pdf', 'quoine-liquid_v1.9.pdf', 'vision.pdf', 'TechnicalWhitePaperCREDITSEng.pdf', 'holochain.pdf', 'bmc_whitepaper.pdf', 'TaaS-whitepaper.pdf', 'NulsWhitepaper1.1.pdf', 'PoSV.pdf', 'haven_protocol_whitepaper.61e75a42.pdf', 'whitepaper_v_2.01_eng.pdf', 'bitshares-financial-platform.pdf', 'business_plan.pdf', 'c281dc_67532f3f36574d528414b21d2ac01ca2.pdf', 'Ethereum_yellow_paper.pdf', 'Maecenas-WhitePaper.pdf', 'Covesting_White_Paper.pdf', 'CoinStarter WhitePaper v9.81.pdf', 'CloakCoin_Whitepaper_v2.1.pdf', 'FaradWhitepaperV2.pdf', 'whitepaper 38.pdf', 'whitepaper 10.pdf', 'NEXO-Token-Terms.pdf', 'appcoins_white_paper.pdf', 'Technical-Whitepaper-11-1.pdf', 'legolas-whitepaper-en.pdf', 'JeluridaWhitepaper.pdf', 'Delphy_Whitepaper_EN.pdf', 'vault.pdf', 'onepager.pdf', 'NeblioWhitepaper.pdf', 'Gridwhitepaper.pdf', 'en_whitepaper_simple_version.pdf', 'MRL-0004.pdf', 'StockChain_WhitePaper_EN.pdf', 'DATA_Draft_V1.52.pdf', 'selfkey_deck_en.pdf', '18-03-15_Blocknet_Design_Specification_v.1.0.pdf', 'lancer_whitepaper.pdf', 'ExchangeUnion-WhitePaper.pdf', 'MRL-0005.pdf', 'Darcrus-Use-Cases.pdf', 'presentation.pdf', 'cp-whitepaper.pdf', 'EN.pdf', 'Factom_Whitepaper.pdf', 'gnosis_whitepaper.pdf', 'overview.pdf', 'enjincoin_whitepaper.pdf', 'RIALTO.AI_Whitepaper.pdf', 'Project-Safe.md', 'whitepaper 11.pdf', 'whitepaper 39.pdf', 'SwapWhitepaper.pdf', 'WeTrustWhitePaper.pdf', 'NebulasTechnicalWhitepaper.pdf', 'spineless-tagless-gmachine.pdf', 'Quantstamp-Whitepaper.pdf', 'redpulse-whitepaper-en.pdf', 'Atlant_WP_publish.pdf', 'threshold-relay-blockchain-stanford.pdf', 'Rentberry_One_Pager_en.pdf', 'elastos_whitepaper_en.pdf', 'medibloc_whitepaper_en.pdf', 'BasicAttentionTokenWhitePaper-4.pdf', 'whitepaper 13.pdf', 'ZerocoinOakland.pdf', 'waltonchain whitepaper_en.pdf', 'Mixin-Draft-2017-12-25.pdf', 'Cappasity_WP_US_7.3.pdf', 'time-stamp-digital-document.pdf', 'bancor_protocol_whitepaper_en.pdf', 'STORM_Token_White_Paper_Market_Research_Network_Development_vFINAL_.pdf', 'EOS.IO Storage.pdf', 'Substratum-Whitepaper-English.pdf', 'effect_lightpaper.pdf', 'cosmos-whitepaper.pdf', 'osdi99.pdf', 'modum-whitepaper-v.-1.0.pdf', 'Bitcoin-DarkPaper.pdf', 'impactChoice-Earth-Token-Whitepaper.pdf', 'MRL-0006.pdf', 'dadi.business-overview.pdf', 'whitepaper 12.pdf', 'Boscoin_One Pager_EN.pdf', 'Project white paper_en-US.pdf', 'yellowpaper-en.pdf', 'WhitePaperEnV2_en-US.pdf', 'AeronWhitepaper.pdf', 'whitepaper 8.pdf', 'daneel-wp-latest.pdf', 'minereumwhitepaper.pdf', 'hpb_white_paper_en.pdf', 'whitepaper 16.pdf', 'rvt-white-paper-1.02.pdf', 'yellowpaper 2.pdf', 'BlitzPredictWhitepaper-en.86ddf3e9.pdf', 'Nexo-Overview.pdf', 'vslice_testing.pdf', 'MRL-0002.pdf', 'MOAC+-+White+Paper_+v1.0+-+050218.pdf', 'Cortex_AI_on_Blockchain_EN.pdf', 'Gulden_PoW2.pdf', 'whitepaper_en 3.pdf', 'Technical Whitepaper_en-US.pdf', 'STK_whitepaper_en.pdf', 'whitepaper2.pdf', 'openANX_White_Paper_ENU.pdf', 'Nano_Whitepaper_en.pdf', 'whitepaper_en 2.pdf', 'ixledger_whitepaper_v1.1.pdf', 'Karma.Economy-of-Trust.Presentation.EN.v.7.pdf', 'MRL-0003.pdf', 'TokesPlatform_WhitePaper.pdf', 'ODEM.IO-Whitepaper.pdf', 'WAX_White_Paper.pdf', 'Achain Whitepaper 2.0_EN.pdf', 'SpaceChain-0128-1.0-EN.pdf', 'whitepaper 17.pdf', '[EnergoLabs] whitepaperV1.1.3.pdf', 'Metaverse-white-paper-v2.1-EN.pdf', 'whitepaper 9.pdf', '514.pdf', 'decred.pdf', 'GJC_Whitepaper.pdf', 'TierionTokenSaleWhitePaper.pdf', 'Aurora-Labs-Whitepaper-V0.9.5.pdf', 'BitTorrent_Token_Whitepaper.pdf', 'Verge-Anonymity-Centric-CryptoCurrency.pdf', '1908.11810.pdf', 'Asch-Whitepaper-en.pdf', 'whitepaper 15.pdf', 'Aave_Protocol_Whitepaper_v1_0.pdf', 'white-paper3_en.pdf', 'whitepaper 29.pdf', 'The-Burst-Dymaxion-1.00.pdf', 'VeChainWhitepaper_2.0_en.pdf', 'whitepaper_en.pdf', 'XPA2.0_Whitepaper_en.pdf', 'MRL-0001.pdf', 'decentralized-private-marketplace-draft-0.1.pdf', 'SteemWhitePaper.pdf', 'PIVX-purple-paper-Technincal-Notes.pdf', 'tokencard_whitepaper.pdf', 'IOTA_Whitepaper.pdf', '180222_J8T_Token_Purchase_Agreement_ENG.pdf', 'Sentinel.Chain.Whitepaper.v0_31.1.pdf', 'Nexo-Whitepaper.pdf', 'NEM_techRef.pdf', 'Klaytn_PositionPaper_V2.1.0.pdf', 'DomRaider+ICO+Whitepaper+EN.pdf', 'whitepaper-voise.pdf', 'CUBEWhite_Paper-V1.3.pdf', 'bitsum.pdf', 'whitepaper 28.pdf', 'whitepaper_review.pdf', 'whitepaper 14.pdf', 'aion.network_technical-introduction_en.pdf', 'Crypti-Whitepaper.pdf', 'ZSC_Whitepaper_en.pdf', 'Mission_Statement - Markup TWP [20171002] - Kopie.pdf', 'PundiX_Whitepaper_EN_Ver.pdf', 'Stratis_Whitepaper.pdf', 'whitepaper 7.pdf', 'Polkadot-lightpaper.pdf', 'GXB_Blockchain_White_Paper_v1.2_EN.pdf', 'UQC - Whitepaper update 23-02-2018.pdf', 'whitepaper 19.pdf', 'LiskWhitepaper.md', 'primas-1.3.1-en.pdf', 'whitepaper 25.pdf', 'whitepaper 31.pdf', 'effect_whitepaper.pdf', 'CPChain_Whitepaper_English.pdf', 'Golemwhitepaper.pdf', 'ENGLISH_BELUGAPAY.pdf', 'InsurePal_whitepaper.pdf', 'Grayscale-Ethereum-Classic-Investment-Thesis.pdf', 'iconomi.pdf', 'peercoin-paper.pdf', 'Ambrosus-White-Paper-V8-1.pdf', '889.pdf', 'yellowpaper.pdf', 'FUSION Whitepaper V1.0.3.pdf', '2002.03087.pdf', 'whitepaper 30.pdf', 'aave-v2-whitepaper.pdf', 'whitepaper 24.pdf', 'whitepaper 18.pdf', 'Sonm1.pdf', 'a-distributed-consensus-algorithm-for-cryptocurrency-networks.pdf', 'sky-hash-a-hash-opinion-dynamics-model.pdf', 'whitepaper 6.pdf', 'onepager_icofriendz.pdf', 'zerocash-extended-20140518.pdf', 'Bodhi_English_White_Paper.pdf', 'sky-hash-an-opinion-dynamics-model-for-hash-consensus-over-p2-p-network.pdf', 'aeternity-whitepaper.pdf', 'whitepaper 4.pdf', 'Simple Token Technical White Paper.pdf', 'Metaverse-digital-identity-white-paper-v1.0-EN.pdf', 'MATRIXTechnicalWhitePaper.pdf', 'Bottos whitepaper English final.pdf', 'whitepaper 32.pdf', 'whitepaper 26.pdf', 'CivicTokenSaleWhitePaper.pdf', 'vite_en.pdf', 'Jibrel Network - White Paper (2nd Draft).pdf', 'cybervein-whitepaper.pdf', 'Wanchain-Whitepaper-EN-version.pdf', 'Centrality-Whitepaper-final-2018020.pdf', 'Whitepaper-Creativechain-1.2.pdf', 'sia.pdf', 'tw_en.pdf', 'White_Paper 2.pdf', 'improving-time-stamping.pdf', 'Santiment Whitepaper v7.pdf', 'TechnicalPaperENG.pdf', 'dfinity-consensus.pdf', 'WaBI_Whitepaper_ENG.pdf', 'light-paper.pdf', 'antshares.pdf', 'The NAGA Coin_Whitepaper_V1.0.9.pdf', 'Ethos_Whitepaper.pdf', 'Zen-White-Paper.pdf', 'whitepaper 27.pdf', 'CACM-1999.pdf', 'whitepaper 33.pdf', 'dadi.white-paper.pdf', 'commerceblock-whitepaper-ps.pdf', 'Dash-WhitepaperV1.pdf', 'whitepaper 5.pdf', 'Astronaut Capital (ASTRO) Whitepaper V1.01.pdf', 'SWFT WhitePaper.pdf', 'aeternity-blockchain-whitepaper.pdf', 'Hcash+Whitepaper+V0.8.1.pdf', 'hott-online-1132-g5052dbc.pdf', 'ATMChain_Whitepaper(Genesis_Edition).pdf', 'Hcash+Whitepaper+V0.8.5.pdf', 'WhitePaperDraft.pdf', 'TrueFlip_WP_1.1.pdf', 'NxtWhitepaper-v122-rev4.pdf', 'whitepaper 37.pdf', 'matryx-whitepaper.pdf', 'whitepaper 23.pdf', 'selfkey-whitepaper-en.pdf', '1907.03655.pdf', 'Whitepaper_1_31_En.pdf', 'OysterWhitepaper.pdf', 'horizon_state_white_paper.pdf', 'Aditus-Whitepaper.pdf', '1805.01457.pdf', 'TetherWhitePaper.pdf', 'Whitepaper_LykkeExchange.pdf', 'FYN-Business_Outline-2017.pdf', 'WINGS_Scientific.pdf', 'bankex-whitepaper-20171019-en.pdf', 'vechainthor_development_plan_and_whitepaper_en_v1.0.pdf', 'TBIS-White-Paper-v2.7.1.pdf', 'Docademic+ICO+White+Paper.pdf', 'BitquenceWhitePaper.pdf', 'coss-whitepaper-v3.pdf', 'white_paper_v_2_0.pdf', 'SIRINLABS_-_White_Paper.pdf', 'whitepaper 22.pdf', 'b2bx_white_paper-en.pdf', 'TronWhitepaper_en.pdf', 'Mobilego-Whitepaper-English.pdf', 'whitepaper 36.pdf', 'havven_whitepaper.pdf', 'EverexWP-Version-v0.31.pdf', 'BytomWhitePaperV1.0_En.pdf', 'secure-timestamping-service.pdf', 'Whitepaper-IPSX-05.pdf', 'whitepaper 2.pdf', 'whitepaper.bbff96f5.pdf', 'whitepaper 4.0 ENG-co link.pdf', 'byzantine.pdf', 'Bibox_Whitepaper_en.pdf', 'position_paper.pdf', 'centre-whitepaper.pdf', 'a2772efe4dc8ed1100319c6480195fb1.pdf', 'whitepaper 20.pdf', 'whitepaper 34.pdf', '20180330101035_5640.pdf', 'solana-whitepaper-en.pdf', '2004.04338.pdf', 'whitepaper_icofriendz.pdf', 'mcap-whitepaper.pdf', '899.pdf', 'DATA-OnePager_v1.18.pdf', 'BlitzPredictOnePager-en.52f711fe.pdf', 'XP-WhitePaper-v3.pdf', 'all_sports_blockchain_open_platform_white_paper.pdf', 'X16R-Whitepaper.pdf', '0x_white_paper.pdf', 'SophiaTX_Whitepaper_v1.9.pdf', 'TreatiseOnXaurum.pdf', 'CPChain_lightpaper_English.pdf', 'Vertcoin_Lyra2RE_Paper_11292014.pdf', 'Bankera_whitepaper.pdf', 'ClearCoin-1-23.pdf', 'emercoin.pdf', 'latoken-whitepaper-en.pdf', 'LibraWhitePaper_en_US.pdf', 'whitepaper 35.pdf', 'whitepaper 21.pdf', 'ripple_consensus_whitepaper.pdf', 'TON Technology.pdf', 'press_release_en.pdf', 'whitepaper 3.pdf', 'coindash-whitepaper.pdf', 'flixxo-white-paper_v0.5.pdf', 'PayPie-Whitepaper-English.pdf', 'Theta-white-paper-latest.pdf', 'whitepaper 46.pdf', 'populous_whitepaper.pdf', 'DeepBrainChainWhitepaper.pdf', 'theoretical.pdf', 'whitepaper 52.pdf', 'BitcoinGold-Roadmap.pdf', 'tenx_whitepaper_supplemental_2018.pdf', 'Dragonchain_Business_Summary.pdf', 'appcoins_protocol_definition.pdf', 'zerocash-oakland2014.pdf', 'sznajd2-a-community-aware-opinion-dynamics-model.pdf', 'Fortuna Whitepaper EN.pdf', 'whitepaper-en.pdf', 'ELECTRIFY_ICO_White_Paper_v1.8.2.4.pdf', 'singulardtv.pdf', 'GreenMed-Whitepaper.pdf', 'ITCWHITEPAPER.pdf', 'hoqu-whitepaper-en.pdf', 'WhitePaper-WePower.pdf', 'storj.pdf', 'ODYSSEY+WHITEPAPER+V1.3+EN.pdf', 'whitepaper 53.pdf', 'whitepaper 47.pdf', 'libra-consensus-state-machine-replication-in-the-libra-blockchain.pdf', 'district0x-whitepaper.pdf', 'Karma.Economy-Of-Trust.One-pager.v.5.0.EN.pdf', 'white-paper-eng.pdf', 'whitepaper_annotated.pdf', 'Byteball.pdf', 'whitepaper 51.pdf', 'public-key-cryptosystem.pdf', 'whitepaper 45.pdf', 'coinpoker-whitepaper.pdf', 'CVH_whitepaper_en.pdf', '963.pdf', 'overview_en.pdf', 'Ontology-Ecosystem-White-Paper-EN.pdf', 'white-paper.pdf', 'VibeHubWhitepaper2017.pdf', 'faq.pdf', 'GIFTO_Whitepaper_V2.0_20171204.pdf', 'Authorship+White+Paper+Authorship-White-Paper.pdf', 'c20-whitepaper.pdf', 'Polkastarter Whitepaper (October).pdf', 'WhitePaperofLinkEye.pdf', 'INS-ICO-Whitepaper.pdf', '1805.04548.pdf', '2005-Book-Reliable Distributed Systems.pdf', 'Auctus_Whitepaper.pdf', 'Coinlancer_Whitepaper.pdf', 'TON Whitepaper.pdf', 'Monetha_WP.pdf', 'vechain_ico_ideas_of_development_en.pdf', 'CoinMeet_Whitepaper_EN.pdf', 'BRD-whitepaper-EN.pdf', 'Electra Whitepaper v3.pdf', 'whitepaper 44.pdf', 'whitepaper 50.pdf', 'NulsYellowpaper1.1.pdf', 'wp_fantom_v1.6.pdf', 'Augur-A-Decentralized-Open-Source-Platform-for-Prediction-Markets.pdf', 'bitshares-stresstest.pdf', 'en-wp.pdf', 'monaco-whitepaper.pdf', '1810.10360.pdf', 'DENT_Whitepaper_v2_19.06.2017.pdf', 'MobileGo-Whitepaper.pdf', 'EchoLink_github.pdf', 'Aragon Whitepaper.pdf', 'RCN Whitepaper ENG.pdf', 'whitepaper_v1.5.1.pdf', 'Whitepaper 54.pdf', 'RaiBlocks_Whitepaper__English.pdf', 'whitepaper 40.pdf', 'Power-Ledger-Whitepaper-v3.pdf', '2018-02-14-Komodo-White-Paper-Full.pdf', 'TS-white-paper-EN.pdf', 'Theta-white-paper-2.0.pdf', 'algorand_agreement.pdf', '1905.04867.pdf', 'iExec-WPv2.0-English.pdf', 'EIDOO_Technology_White_Paper_v_0_2_Draft_EN.pdf', 'consensus.pdf', 'REBL-Whitepaper_v2-1_def.pdf', 'bluzelle-whitepaper-english1-4.pdf', 'kucoin_whitepaper_en.pdf', 'whitepaper_v0.pdf', 'bitshares-general.pdf', '180404_J8T_Whitepaper_ENG.pdf', 'ICON-Whitepaper-EN-Draft.pdf', 'positionpaper.pdf', 'THEKEY White Paper.pdf', 'Vertcoin-by-David-Muller.pdf', 'Embermine Whitepaper.pdf', 'Ontology-Introductory-White-Paper-EN.pdf', 'Polymath White Paper-updated_2018_02_23.pdf', 'EnTruechain.pdf', 'whitepaper 41.pdf', 'Whitepaper 55.pdf', 'wrapped-tokens-whitepaper.pdf', 'sky-an-opinion-dynamics-framework-and-model-for-consensus-over-p2-p-network.pdf', 'BitClave White Paper new design (current).pdf', 'DaiDec17WP.pdf', 'etheroll-whitepaper.pdf', 'PillarProjectGrayPaper.pdf', 'paypex-white-paper.pdf', 'whitepaper 43.pdf', 'Whitepaper 57.pdf', 'APEX-Development-Plan-eng.pdf', 'Ontology-technology-white-paper-EN.pdf', 'wpeng.pdf', 'LeadCoin White Paper.pdf', 'Rentberry_Terms_of_Token_Sale.pdf', 'white_paper.pdf', 'hashcash.pdf', 'PolkaDotPaper.pdf', 'wagerr_whitepaper_v1.pdf', 'one-pager.pdf', 'SafexBluePaperJan3.pdf', 'Vice_Industry_Token_Whitepaper.pdf', 'CentraWhitepaper.pdf', '180223_J8T_One_Pager_ENG.pdf', 'openANX_Technical_White_Paper_ENU.pdf', 'Crypterium Whitepaper ENG 1L 31.10.2017.pdf', 'ORME-WhitePaper-02082018.pdf', 'aXpire_Lightpaper.pdf', 'whitepaper-voise-0.9.pdf', 'whitepaper-en 2.pdf', 'melonprotocol.pdf', 'enigma_full.pdf', 'Whitepaper 56.pdf', 'WhitePaper.md', 'whitepaper 42.pdf', 'whitepaper.pdf', 'gilad.pdf', 'envion_whitepaper.pdf', 'GNX Token Allocation Statement.pdf']\n"
     ]
    }
   ],
   "source": [
    "folder_to_view = \"PDF Whitepapers\"\n",
    "print(os.listdir(folder_to_view))"
   ]
  },
  {
   "cell_type": "code",
   "execution_count": 119,
   "id": "883cf122-d69b-4165-b797-9725fa5bafca",
   "metadata": {},
   "outputs": [
    {
     "name": "stdout",
     "output_type": "stream",
     "text": [
      "/Users/alisdghnia/Desktop/PDF Whitepapers\n"
     ]
    }
   ],
   "source": [
    "%cd '/Users/alisdghnia/Desktop/PDF Whitepapers'"
   ]
  },
  {
   "cell_type": "code",
   "execution_count": 189,
   "id": "5d987248-7237-46b7-9a8c-c7f5db0cba23",
   "metadata": {},
   "outputs": [
    {
     "name": "stdout",
     "output_type": "stream",
     "text": [
      "     index                           Whitepaper Name          File Size (MB)\n",
      "0      456               [Coinlancer_Whitepaper.pdf]     [32.40780258178711]\n",
      "1      188                        [whitepaper 8.pdf]     [31.79231548309326]\n",
      "2      525                    [CentraWhitepaper.pdf]    [30.904322624206543]\n",
      "3      493           [180404_J8T_Whitepaper_ENG.pdf]    [30.297722816467285]\n",
      "4       50                       [WhitePaper 59.pdf]    [22.397189140319824]\n",
      "..     ...                                       ...                     ...\n",
      "536    397                       [whitepaper 35.pdf]   [0.05921459197998047]\n",
      "537    112  [haven_protocol_whitepaper.61e75a42.pdf]  [0.051708221435546875]\n",
      "538    401                    [press_release_en.pdf]  [0.040999412536621094]\n",
      "539    274                      [peercoin-paper.pdf]  [0.040027618408203125]\n",
      "540    497            [Vertcoin-by-David-Muller.pdf]   [0.03848075866699219]\n",
      "\n",
      "[541 rows x 3 columns]\n"
     ]
    }
   ],
   "source": [
    "os.chdir('/Users/alisdghnia/Desktop/PDF Whitepapers')\n",
    "all_data = []\n",
    "for (dirname,dirs,files) in os.walk('.'):\n",
    "    for filename in files:\n",
    "        if filename.endswith('.pdf'):\n",
    "            thefile = os.path.join(filename)\n",
    "            whitepaper_with_size = [thefile, os.path.getsize(thefile)/(1024*1024)]\n",
    "            ##print(whitepaper_with_size)\n",
    "            whitepaper = [whitepaper_with_size[0]]\n",
    "            size = [whitepaper_with_size[1]]\n",
    "            all_data.append([whitepaper, size])\n",
    "            ##new_df = list(zip(whitepaper, size))\n",
    "new_df = pd.DataFrame(all_data, columns = ['Whitepaper Name', 'File Size (MB)'])\n",
    "new_df = new_df.sort_values(by = 'File Size (MB)', ascending = False).reset_index()\n",
    "print(new_df)"
   ]
  },
  {
   "cell_type": "code",
   "execution_count": 190,
   "id": "210b06c5-6a5e-4b48-9212-7016ef640685",
   "metadata": {},
   "outputs": [],
   "source": [
    "os.chdir('/Users/alisdghnia/Desktop/Data CSV Files')\n",
    "new_df.to_csv('File Size.csv',\n",
    "            index = False)"
   ]
  },
  {
   "cell_type": "code",
   "execution_count": 187,
   "id": "ae35b6e3-544d-489f-88bd-4e14313bc9d8",
   "metadata": {},
   "outputs": [],
   "source": []
  },
  {
   "cell_type": "code",
   "execution_count": null,
   "id": "cc2d2087-a67c-4f7e-91d1-d5cb8e000e31",
   "metadata": {},
   "outputs": [],
   "source": []
  }
 ],
 "metadata": {
  "kernelspec": {
   "display_name": "Python 3 (ipykernel)",
   "language": "python",
   "name": "python3"
  },
  "language_info": {
   "codemirror_mode": {
    "name": "ipython",
    "version": 3
   },
   "file_extension": ".py",
   "mimetype": "text/x-python",
   "name": "python",
   "nbconvert_exporter": "python",
   "pygments_lexer": "ipython3",
   "version": "3.9.7"
  }
 },
 "nbformat": 4,
 "nbformat_minor": 5
}
