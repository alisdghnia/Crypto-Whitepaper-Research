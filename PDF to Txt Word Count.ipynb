{
 "cells": [
  {
   "cell_type": "code",
   "execution_count": 51,
   "id": "c98e9028-9307-4164-8b92-bf93d1699252",
   "metadata": {},
   "outputs": [
    {
     "name": "stdout",
     "output_type": "stream",
     "text": [
      "5611\n"
     ]
    }
   ],
   "source": [
    "from pdfminer.pdfinterp import PDFResourceManager, PDFPageInterpreter\n",
    "from pdfminer.layout import LAParams\n",
    "from pdfminer.converter import TextConverter\n",
    "from io import StringIO\n",
    "from pdfminer.pdfpage import PDFPage\n",
    "def get_pdf_file_content(path_to_pdf):\n",
    "    '''\n",
    "    path_to_pdf: is the parameter that will give access to the PDF File \n",
    "    we want to extract the content.\n",
    "    '''\n",
    "    '''\n",
    "    PDFResourceManager is used to store shared resources such as fonts or images that \n",
    "    we might encounter in the files. \n",
    "    '''\n",
    "    resource_manager = PDFResourceManager(caching=True)\n",
    "    '''\n",
    "    create a string object that will contain the final text the representation of the pdf. \n",
    "    '''\n",
    "    out_text = StringIO()\n",
    "    '''\n",
    "    UTF-8 is one of the most commonly used encodings, and Python often defaults to using it.\n",
    "    In our case, we are going to specify in order to avoid some encoding errors.\n",
    "    '''\n",
    "    codec = 'utf-8'\n",
    "    \"\"\"\n",
    "    LAParams is the object containing the Layout parameters with a certain default value. \n",
    "    \"\"\"\n",
    "    laParams = LAParams()\n",
    "    '''\n",
    "    Create a TextConverter Object, taking :\n",
    "    - ressource_manager,\n",
    "    - out_text \n",
    "    - layout parameters.\n",
    "    '''\n",
    "    text_converter = TextConverter(resource_manager, out_text, laparams=laParams)\n",
    "    fp = open(path_to_pdf, 'rb')\n",
    "    \n",
    "    '''\n",
    "    Create a PDF interpreter object taking: \n",
    "    - ressource_manager \n",
    "    - text_converter\n",
    "    '''\n",
    "    interpreter = PDFPageInterpreter(resource_manager, text_converter)\n",
    "    '''\n",
    "    We are going to process the content of each page of the original PDF File\n",
    "    '''\n",
    "    for page in PDFPage.get_pages(fp, pagenos=set(), maxpages=100000, password=\"\", caching=True, check_extractable=False):\n",
    "        interpreter.process_page(page)\n",
    "    '''\n",
    "    Retrieve the entire contents of the “file” at any time \n",
    "    before the StringIO object’s close() method is called.\n",
    "    '''\n",
    "    text = out_text.getvalue()\n",
    "    '''\n",
    "    Closing all the ressources we previously opened\n",
    "    '''\n",
    "    fp.close()\n",
    "    text_converter.close()\n",
    "    out_text.close()\n",
    "    '''\n",
    "    Return the final variable containing all the text of the PDF\n",
    "    '''\n",
    "    return text\n",
    "\n",
    "path_to_pdf = \"/Users/alisdghnia/Desktop/PDF Whitepapers/en_whitepaper.pdf\"\n",
    "Al=get_pdf_file_content(path_to_pdf)\n",
    "#print(Al.count(\"¶\"))\n",
    "#changer = Al.find(\"¶\")\n",
    "##Al = Al.replace(\"¶a\",\"á\")\n",
    "##Al = Al.replace(\"¶e\",\"é\")\n",
    "##Al = Al.replace(\"¶‡\",\"í\")\n",
    "##Al = Al.replace(\"¶o\",\"ó\")\n",
    "##Al = Al.replace(\"¶u\",\"ú\")\n",
    "##Al = Al.replace(\"~n\",\"ñ\")\n",
    "##Al = Al.replace(\"¶A\",\"Á\")\n",
    "##Al = Al.replace(\"\\\\\",'\"')\n",
    "#print(changer)\n",
    "#print(Al)\n",
    "##print(Al.count('\\\\'))\n",
    "##print(Al)\n",
    "\n",
    "words = Al.split()\n",
    "print(len(words))"
   ]
  },
  {
   "cell_type": "code",
   "execution_count": 121,
   "id": "f4554bca-1ba8-403c-8944-e68c1c59bec3",
   "metadata": {
    "tags": []
   },
   "outputs": [
    {
     "name": "stdout",
     "output_type": "stream",
     "text": [
      "     level_0  index                               Whitepaper Name Word Count\n",
      "0          0    463  [2005-Book-Reliable Distributed Systems.pdf]   [332886]\n",
      "1          1    337               [hott-online-1132-g5052dbc.pdf]   [222085]\n",
      "2          2    409                          [TON Technology.pdf]    [51040]\n",
      "3          3    378                               [byzantine.pdf]    [45748]\n",
      "4          4    419                             [theoretical.pdf]    [40365]\n",
      "..       ...    ...                                           ...        ...\n",
      "547      547    186                    [Boscoin_One Pager_EN.pdf]        [0]\n",
      "548      548    200                          [vslice_testing.pdf]        [0]\n",
      "549      549    478                                   [en-wp.pdf]        [0]\n",
      "550      550    110                         [TaaS-whitepaper.pdf]        [0]\n",
      "551      551    255                                  [bitsum.pdf]        [0]\n",
      "\n",
      "[552 rows x 4 columns]\n"
     ]
    }
   ],
   "source": [
    "import os\n",
    "import pandas as pd\n",
    "os.chdir('/Users/alisdghnia/Desktop/PDF Whitepapers')\n",
    "all_words = []\n",
    "for (dirname,dirs,files) in os.walk('.'):\n",
    "    for filename in files:\n",
    "        if filename.endswith('.pdf'):\n",
    "            thefile = os.path.join(filename)\n",
    "            path_to_pdf = thefile\n",
    "            content = get_pdf_file_content(path_to_pdf)\n",
    "            words = content.split()\n",
    "            whitepaper_with_words = [thefile, len(words)]\n",
    "            #####print(whitepaper_with_words)\n",
    "      #      print(whitepaper_with_words)\n",
    "            ##print(whitepaper_with_size)\n",
    "           ## whitepaper = [whitepaper_with_words[0]]\n",
    "         ##   total_words = [whitepaper_with_words[1]]\n",
    "            all_words.append(whitepaper_with_words)\n",
    "   #         ##new_df = list(zip(whitepaper, total_words))\n",
    "word_count = pd.DataFrame(all_words, columns = ('Whitepaper Name', 'Word Count'))\n",
    "word_count = new_df.sort_values(by = 'Word Count', ascending = False).reset_index()\n",
    "print(word_df)"
   ]
  },
  {
   "cell_type": "code",
   "execution_count": null,
   "id": "7852533f-5833-4b0a-810c-690d6cd924e5",
   "metadata": {},
   "outputs": [],
   "source": [
    "#########               word_df['Word Count'] = word_df['Word Count'].str.strip('[]').astype(int)\n",
    "#########               word_df['Whitepaper Name'] = word_df['Whitepaper Name'].str.strip('[]')"
   ]
  },
  {
   "cell_type": "code",
   "execution_count": 124,
   "id": "2160dcbf-14d7-4e4c-a5b0-a27fe793e77a",
   "metadata": {},
   "outputs": [],
   "source": [
    "os.chdir('/Users/alisdghnia/Desktop/Data CSV Files')\n",
    "word_count.to_csv('Word Count.csv',\n",
    "            index = False)"
   ]
  },
  {
   "cell_type": "code",
   "execution_count": null,
   "id": "6a708109-543d-4207-ad9a-41f876fa3598",
   "metadata": {},
   "outputs": [],
   "source": []
  }
 ],
 "metadata": {
  "kernelspec": {
   "display_name": "Python 3 (ipykernel)",
   "language": "python",
   "name": "python3"
  },
  "language_info": {
   "codemirror_mode": {
    "name": "ipython",
    "version": 3
   },
   "file_extension": ".py",
   "mimetype": "text/x-python",
   "name": "python",
   "nbconvert_exporter": "python",
   "pygments_lexer": "ipython3",
   "version": "3.9.7"
  }
 },
 "nbformat": 4,
 "nbformat_minor": 5
}
