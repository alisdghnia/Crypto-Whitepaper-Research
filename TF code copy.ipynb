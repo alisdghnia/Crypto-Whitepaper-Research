{
 "cells": [
  {
   "cell_type": "code",
   "execution_count": 2,
   "metadata": {
    "pycharm": {
     "name": "#%%\n"
    }
   },
   "outputs": [],
   "source": [
    "import pandas as pd\n",
    "import numpy as np\n",
    "from sklearn.feature_extraction.text import TfidfVectorizer\n",
    "from sklearn.feature_extraction.text import CountVectorizer\n",
    "from sklearn.feature_extraction.text import TfidfTransformer\n",
    "from sklearn.cluster import KMeans\n",
    "from sklearn.metrics import adjusted_rand_score\n",
    "import string\n",
    "from nltk.corpus import stopwords\n",
    "from nltk.tokenize import word_tokenize\n",
    "from nltk.tokenize import sent_tokenize\n",
    "import glob\n",
    "import re\n",
    "import os\n",
    "from io import StringIO\n",
    "from pdfminer.pdfpage import PDFPage\n",
    "from pdfminer.pdfinterp import PDFResourceManager, PDFPageInterpreter\n",
    "from pdfminer.layout import LAParams\n",
    "from pdfminer.converter import TextConverter\n",
    "import PyPDF2\n",
    "def get_pdf_file_content(path_to_pdf):\n",
    "    '''\n",
    "    path_to_pdf: is the parameter that will give access to the PDF File \n",
    "    we want to extract the content.\n",
    "    '''\n",
    "    '''\n",
    "    PDFResourceManager is used to store shared resources such as fonts or images that \n",
    "    we might encounter in the files. \n",
    "    '''\n",
    "    resource_manager = PDFResourceManager(caching=True)\n",
    "    '''\n",
    "    create a string object that will contain the final text the representation of the pdf. \n",
    "    '''\n",
    "    out_text = StringIO()\n",
    "    '''\n",
    "    UTF-8 is one of the most commonly used encodings, and Python often defaults to using it.\n",
    "    In our case, we are going to specify in order to avoid some encoding errors.\n",
    "    '''\n",
    "    codec = 'utf-8'\n",
    "    \"\"\"\n",
    "    LAParams is the object containing the Layout parameters with a certain default value. \n",
    "    \"\"\"\n",
    "    laParams = LAParams()\n",
    "    '''\n",
    "    Create a TextConverter Object, taking :\n",
    "    - ressource_manager,\n",
    "    - out_text \n",
    "    - layout parameters.\n",
    "    '''\n",
    "    text_converter = TextConverter(resource_manager, out_text, laparams=laParams)\n",
    "    fp = open(path_to_pdf, 'rb')\n",
    "    \n",
    "    '''\n",
    "    Create a PDF interpreter object taking: \n",
    "    - ressource_manager \n",
    "    - text_converter\n",
    "    '''\n",
    "    interpreter = PDFPageInterpreter(resource_manager, text_converter)\n",
    "    '''\n",
    "    We are going to process the content of each page of the original PDF File\n",
    "    '''\n",
    "    for page in PDFPage.get_pages(fp, pagenos=set(), maxpages=10000000, password=\"\", caching=True, check_extractable=False):\n",
    "        interpreter.process_page(page)\n",
    "    '''\n",
    "    Retrieve the entire contents of the “file” at any time \n",
    "    before the StringIO object’s close() method is called.\n",
    "    '''\n",
    "    text = out_text.getvalue()\n",
    "    '''\n",
    "    Closing all the ressources we previously opened\n",
    "    '''\n",
    "    fp.close()\n",
    "    text_converter.close()\n",
    "    out_text.close()\n",
    "    '''\n",
    "    Return the final variable containing all the text of the PDF\n",
    "    '''\n",
    "    return text\n",
    "\n",
    "path_to_pdf = \"/Users/alisdghnia/Desktop/Helium.pdf\"\n",
    "Al=get_pdf_file_content(path_to_pdf)\n",
    "#print(Al.count(\"¶\"))\n",
    "#changer = Al.find(\"¶\")\n",
    "Al = Al.replace(\"¶a\",\"á\")\n",
    "Al = Al.replace(\"¶e\",\"é\")\n",
    "Al = Al.replace(\"¶‡\",\"í\")\n",
    "Al = Al.replace(\"¶o\",\"ó\")\n",
    "Al = Al.replace(\"¶u\",\"ú\")\n",
    "Al = Al.replace(\"~n\",\"ñ\")\n",
    "Al = Al.replace(\"¶A\",\"Á\")\n",
    "Al = Al.replace(\"\\\\\",'\"')\n",
    "#print(changer)\n",
    "#print(Al)\n",
    "##print(Al.count('\\\\'))\n",
    "##print(Al)\n",
    "\n",
    "words = Al.split()"
   ]
  },
  {
   "cell_type": "code",
   "execution_count": 3,
   "metadata": {
    "pycharm": {
     "name": "#%%\n"
    }
   },
   "outputs": [],
   "source": [
    "def searchForWord(pdf_file, search):\n",
    "    pdfFileObj = open(pdf_file, 'rb')\n",
    "    pdfReader = PyPDF2.PdfFileReader(pdfFileObj)\n",
    "    pages = pdfReader.getNumPages()\n",
    "    allPages = []\n",
    "    for i in range(pages):\n",
    "        currentPage = pdfReader.getPage(i)\n",
    "        text = currentPage.extractText()\n",
    "        if re.findall(search, text):\n",
    "            words = len(re.findall(search, text))\n",
    "            allPages.append((words, i))\n",
    "            \n",
    "    total = sum([tup[0] for tup in allPages])\n",
    "    \n",
    "    return total"
   ]
  },
  {
   "cell_type": "code",
   "execution_count": 68,
   "metadata": {
    "pycharm": {
     "name": "#%%\n"
    }
   },
   "outputs": [],
   "source": [
    "def searchForWord(pdf_file, search):\n",
    "    text = get_pdf_file_content(pdf_file)\n",
    "    allPages = []\n",
    "    for i in text:\n",
    "        if re.findall(search, text):\n",
    "            words = len(re.findall(search, text))\n",
    "            allPages.append(words)\n",
    "            \n",
    "            total = len(allPages)\n",
    "            return total"
   ]
  },
  {
   "cell_type": "code",
   "execution_count": 65,
   "metadata": {
    "pycharm": {
     "name": "#%%\n"
    }
   },
   "outputs": [
    {
     "data": {
      "text/plain": [
       "1"
      ]
     },
     "execution_count": 65,
     "metadata": {},
     "output_type": "execute_result"
    }
   ],
   "source": [
    "searchForWord(path_to_pdf, 'Abstract')"
   ]
  },
  {
   "cell_type": "code",
   "execution_count": 45,
   "metadata": {
    "pycharm": {
     "name": "#%%\n"
    }
   },
   "outputs": [],
   "source": [
    "def wordCount(pdf_file):\n",
    "    text = get_pdf_file_content(pdf_file)\n",
    "    text = text.replace(\"¶a\",\"á\")\n",
    "    text = text.replace(\"¶e\",\"é\")\n",
    "    text = text.replace(\"¶‡\",\"í\")\n",
    "    text = text.replace(\"¶o\",\"ó\")\n",
    "    text = text.replace(\"¶u\",\"ú\")\n",
    "    text = text.replace(\"~n\",\"ñ\")\n",
    "    text = text.replace(\"¶A\",\"Á\")\n",
    "    text = text.replace(\"\\\\\",'\"')\n",
    "    word = text.split()\n",
    "    return len(word)"
   ]
  },
  {
   "cell_type": "code",
   "execution_count": 4,
   "metadata": {
    "pycharm": {
     "name": "#%%\n"
    }
   },
   "outputs": [],
   "source": [
    "def getPageCount(pdf_file):\n",
    "    pdfFileObj = open(pdf_file, 'rb')\n",
    "    pdfReader = PyPDF2.PdfFileReader(pdfFileObj)\n",
    "    pages = pdfReader.numPages\n",
    "    return pages\n",
    "\n",
    "\n",
    "def extractData(pdf_file):\n",
    "    pdfFileObj = open(pdf_file, 'rb')\n",
    "    pdfReader = PyPDF2.PdfFileReader(pdfFileObj)\n",
    "    pages = pdfReader.getNumPages()\n",
    "    for i in range(pages):\n",
    "        currentPage = pdfReader.getPage(i)\n",
    "        text = currentPage.extractText()\n",
    "        words = len(text)\n",
    "        return words\n",
    "\n",
    "def getwordCount(data):\n",
    "    count = data.split()\n",
    "    return count"
   ]
  },
  {
   "cell_type": "code",
   "execution_count": 5,
   "metadata": {
    "pycharm": {
     "name": "#%%\n"
    }
   },
   "outputs": [],
   "source": [
    "df = pd.read_csv('/Users/alisdghnia/Desktop/Top 10 Cryptocurrency IDF Words with Weights.csv')"
   ]
  },
  {
   "cell_type": "code",
   "execution_count": 29,
   "metadata": {
    "pycharm": {
     "name": "#%%\n"
    }
   },
   "outputs": [
    {
     "data": {
      "text/plain": [
       "2672"
      ]
     },
     "execution_count": 29,
     "metadata": {},
     "output_type": "execute_result"
    }
   ],
   "source": [
    "extractData('/Users/alisdghnia/Desktop/untitled folder/ripple-whitepaper.pdf')"
   ]
  },
  {
   "cell_type": "code",
   "execution_count": 15,
   "metadata": {
    "pycharm": {
     "name": "#%%\n"
    }
   },
   "outputs": [
    {
     "data": {
      "text/plain": "['WeTrust1.pdf',\n 'Libra4.pdf',\n 'B2BX1.pdf',\n 'Bytom1.pdf',\n 'Cindicator1.pdf',\n 'iXledger1.pdf',\n 'FARAD1.pdf',\n 'DomRaider1.pdf',\n 'Zeusshield1.pdf',\n 'Steem1.pdf',\n 'Blocknet1.pdf',\n 'Chronobank1.pdf',\n 'iExec1.pdf',\n 'Syscoin1.pdf',\n 'Gulden1.pdf',\n 'Winding-Tree2.pdf',\n 'maymounkov-kademlia-lncs.pdf',\n 'Cardano1.pdf',\n 'CoinDash1.pdf',\n 'Pundi-X1.pdf',\n 'vSlice1.pdf',\n 'ODYSSEY1.pdf',\n 'Iconomi1.pdf',\n 'Aeron1.pdf',\n 'Metal1.pdf',\n 'CoinStarter1.pdf',\n 'Bancor1.pdf',\n 'openANX1.pdf',\n 'Zilliqa2.pdf',\n 'Rebellious1.pdf',\n 'Minexcoin1.pdf',\n 'Numeraire1.pdf',\n 'Qbao1.pdf',\n 'Cappasity1.pdf',\n 'Privatix1.pdf',\n 'Streamr1.pdf',\n 'AirSwap1.pdf',\n 'Avalanche1.pdf',\n 'ICOS1.pdf',\n 'RIALTO.AI1.pdf',\n 'CyberVein1.pdf',\n 'Enigma1.pdf',\n 'WaBi1.pdf',\n 'Cardano3.pdf',\n 'Winding-Tree1.pdf',\n 'Synereo1.pdf',\n 'GATCOIN1.pdf',\n 'Monaco1.pdf',\n 'Cardano2.pdf',\n 'HOQU1.pdf',\n 'Nebulas1.pdf',\n 'Oyster1.pdf',\n 'DigiPulse1.pdf',\n 'openANX2.pdf',\n 'Zilliqa1.pdf',\n 'NAGA1.pdf',\n 'Earth-Token1.pdf',\n 'Curriculum-Vitae1.pdf',\n 'Kin1.pdf',\n 'Lamden1.pdf',\n 'Libra2.pdf',\n 'Blockport1.pdf',\n 'Ethereum-Classic1.pdf',\n 'Coinlancer1.pdf',\n 'Bounty0x1.pdf',\n 'Genesis-Vision1.pdf',\n 'MobileGo1.pdf',\n 'FundYourselfNow1.pdf',\n 'Opus1.pdf',\n 'DigitalNote1.pdf',\n 'CREDITS2.pdf',\n 'Komodo1.pdf',\n '199.pdf',\n 'COSS1.pdf',\n 'PayPie1.pdf',\n 'TrueChain1.pdf',\n 'Reddcoin1.pdf',\n 'Dragonchain1.pdf',\n 'Omni2.pdf',\n 'VeChain2.pdf',\n 'VeChain3.pdf',\n 'Omni3.pdf',\n 'rfc6330.pdf',\n 'aelf1.pdf',\n 'Melon1.pdf',\n 'Karma1.pdf',\n 'XPA1.pdf',\n 'Verge1.pdf',\n 'SelfKey1.pdf',\n 'DTR1.pdf',\n 'EchoLink1.pdf',\n 'NavCoin1.pdf',\n 'Libra3.pdf',\n 'Libra1.pdf',\n 'Aventus1.pdf',\n 'Blackmoon1.pdf',\n 'Verify1.pdf',\n 'MobileGo2.pdf',\n 'Civic1.pdf',\n 'Request-Network1.pdf',\n 'Experience-Points1.pdf',\n 'CREDITS1.pdf',\n 'secure-names-bit-strings.pdf',\n 'Karma3.pdf',\n 'TrueChain2.pdf',\n 'Eidoo1.pdf',\n 'Omni1.pdf',\n 'Ormeus1.pdf',\n 'VeChain1.pdf',\n 'Cardano5.pdf',\n 'Polymath1.pdf',\n 'Cardano4.pdf',\n 'Solana1.pdf',\n 'Karma2.pdf',\n 'Stipend1.pdf',\n 'CUBE1.pdf',\n 'SelfKey2.pdf',\n 'Matryx1.pdf',\n 'WePower1.pdf',\n 'InsurePal1.pdf',\n 'DFINITY4.pdf',\n 'Playkey1.pdf',\n 'trade.io1.pdf',\n 'LinkEye1.pdf',\n 'All-Sports1.pdf',\n 'FUSION1.pdf',\n 'Aditus1.pdf',\n 'TenX1.pdf',\n 'TomoChain1.pdf',\n 'Fantom1.pdf',\n 'Nexus1.pdf',\n 'Centra1.pdf',\n 'Ontology1.pdf',\n 'WAX1.pdf',\n 'Revain1.pdf',\n 'aXpire2.pdf',\n 'Maker1.pdf',\n 'Qtum1.pdf',\n 'Exchange-Union1.pdf',\n 'Haven-Protocol1.pdf',\n 'Target-Coin2.pdf',\n 'Groestlcoin1.pdf',\n 'Rivetz1.pdf',\n 'ArcBlock1.pdf',\n 'Wings2.pdf',\n 'Polkastarter1.pdf',\n 'spineless-tagless-gmachine.pdf',\n 'Authorship1.pdf',\n 'Cryptonote1.pdf',\n 'TRON1.pdf',\n 'Stratis1.pdf',\n 'TRON3.pdf',\n '0x1.pdf',\n 'AdEx1.pdf',\n 'Kyvalion1.pdf',\n 'Nano1.pdf',\n 'RChain1.pdf',\n 'TenX2.pdf',\n 'Fantom2.pdf',\n 'Ripio-Credit-Network1.pdf',\n 'Ontology2.pdf',\n 'aXpire1.pdf',\n 'time-stamp-digital-document.pdf',\n 'Delphy1.pdf',\n 'Primas1.pdf',\n 'Golem1.pdf',\n 'Wrapped-Bitcoin1.pdf',\n 'BitStation1.pdf',\n 'Grid+1.pdf',\n 'Zap1.pdf',\n 'Qtum2.pdf',\n 'CanYa1.pdf',\n 'osdi99.pdf',\n 'Paypex1.pdf',\n 'Eximchain1.pdf',\n 'SWFT1.pdf',\n 'Target-Coin1.pdf',\n 'adToken1.pdf',\n 'IP-Exchange1.pdf',\n 'APEX1.pdf',\n 'Ontology3.pdf',\n 'Dash1.pdf',\n 'Fantom3.pdf',\n 'Nework1.pdf',\n 'Decent.bet1.pdf',\n 'Databits1.pdf',\n 'Wings1.pdf',\n 'Bankera1.pdf',\n 'Zerocoin1.pdf',\n 'QASH1.pdf',\n 'Havven1.pdf',\n 'VIBE1.pdf',\n 'StockChain1.pdf',\n 'TRON2.pdf',\n 'DFINITY2.pdf',\n 'Creativecoin1.pdf',\n 'Gnosis1.pdf',\n 'MediShares1.pdf',\n 'CoinMeet1.pdf',\n 'Red-Pulse1.pdf',\n 'SpankChain1.pdf',\n 'Embermine1.pdf',\n 'Snovio1.pdf',\n 'SophiaTX1.pdf',\n 'Neblio1.pdf',\n 'CRYPTO201.pdf',\n 'GBX1.pdf',\n 'PiplShare1.pdf',\n 'Fantom6.pdf',\n 'Bitsum1.pdf',\n 'Waves1.pdf',\n 'Swirlds2.pdf',\n 'VOISE2.pdf',\n 'Zerocash1.pdf',\n 'Binance1.pdf',\n 'Monero8.pdf',\n 'FunFair1.pdf',\n 'Wagerr1.pdf',\n 'Polybius1.pdf',\n 'Dentacoin1.pdf',\n 'DFINITY3.pdf',\n 'Energo1.pdf',\n 'Mothership1.pdf',\n 'Ripple1.pdf',\n 'DFINITY1.pdf',\n 'Bluzelle1.pdf',\n 'Populous1.pdf',\n 'Achain1.pdf',\n 'LeadCoin1.pdf',\n 'Fantom4.pdf',\n 'Soar1.pdf',\n 'Stox1.pdf',\n 'IOTA1.pdf',\n 'Olympus-Labs1.pdf',\n 'Etherparty1.pdf',\n 'Bitcoin-Private2.pdf',\n 'Walton1.pdf',\n 'USD-Coin1.pdf',\n 'Docademic1.pdf',\n 'Swirlds1.pdf',\n 'Fantom5.pdf',\n 'Zerocash2.pdf',\n 'Binance2.pdf',\n 'VOISE1.pdf',\n 'SingularityNET1.pdf',\n 'Asch1.pdf',\n 'Crypti1.pdf',\n 'Emercoin1.pdf',\n 'Byteball1.pdf',\n 'SportyFi1.pdf',\n 'Ethereum2.pdf',\n 'aeternity2.pdf',\n 'Vertcoin2.pdf',\n 'JET84.pdf',\n 'Aurora1.pdf',\n 'Enjin1.pdf',\n 'Horizon-State1.pdf',\n 'BOScoin2.pdf',\n 'Monero6.pdf',\n 'ZenCash1.pdf',\n 'Fantom8.pdf',\n 'DigixDAO1.pdf',\n 'Leverj1.pdf',\n 'Algorand3.pdf',\n 'Nexo2.pdf',\n 'DATx1.pdf',\n 'BitClave1.pdf',\n 'Santiment1.pdf',\n 'SingularDTV1.pdf',\n 'WaykiChain1.pdf',\n 'TokenPay1.pdf',\n 'Algorand2.pdf',\n 'Nexo3.pdf',\n 'Mysterium1.pdf',\n 'DATA2.pdf',\n 'Fantom9.pdf',\n 'EOS1.pdf',\n 'BnKToTheFuture1.pdf',\n 'DADI2.pdf',\n 'Monero7.pdf',\n 'BOScoin3.pdf',\n 'Quantum-Resistant-Ledger1.pdf',\n 'Quantstamp1.pdf',\n 'KyberNetwork1.pdf',\n 'SONM1.pdf',\n 'Augur1.pdf',\n 'Ethereum3.pdf',\n 'BlitzPredict1.pdf',\n 'Ethereum1.pdf',\n 'aeternity1.pdf',\n 'Vertcoin1.pdf',\n 'Genaro-Network4.pdf',\n 'ICON1.pdf',\n 'IHT1.pdf',\n 'Astronaut1.pdf',\n 'Substratum1.pdf',\n 'MOAC1.pdf',\n 'Monero5.pdf',\n 'BOScoin1.pdf',\n 'Zcoin1.pdf',\n 'CommerceBlock1.pdf',\n 'Nexo1.pdf',\n 'Elastos1.pdf',\n 'Stellite1.pdf',\n 'STK1.pdf',\n 'Centrality1.pdf',\n 'improving-time-stamping.pdf',\n 'Vice-Industry-Token1.pdf',\n 'Algorand1.pdf',\n 'OmiseGO1.pdf',\n 'GXChain1.pdf',\n 'DATA1.pdf',\n 'EOS2.pdf',\n 'DADI1.pdf',\n 'Flixxo1.pdf',\n 'BnKToTheFuture2.pdf',\n 'Factom1.pdf',\n 'Darcrus1.pdf',\n 'Monero4.pdf',\n 'Envion1.pdf',\n 'Fantom10.pdf',\n 'CACM-1999.pdf',\n 'Cobinhood1.pdf',\n 'BlitzPredict2.pdf',\n 'Safex1.pdf',\n 'hott-online-1132-g5052dbc.pdf',\n 'Cosmos1.pdf',\n 'Cortex1.pdf',\n 'AppCoins1.pdf',\n 'bitqy1.pdf',\n 'JET82.pdf',\n 'Genaro-Network1.pdf',\n 'FoldingCoin1.pdf',\n 'BlockCAT1.pdf',\n 'Bezop1.pdf',\n 'BitTorrent1.pdf',\n 'TokenCard1.pdf',\n 'True-Flip1.pdf',\n 'Storiqa1.pdf',\n 'modum1.pdf',\n 'Universa1.pdf',\n 'Lympo1.pdf',\n 'Bloom1.pdf',\n 'ChainLink1.pdf',\n 'Zcash1.pdf',\n 'Algorand5.pdf',\n 'PolySwarm1.pdf',\n 'Storm1.pdf',\n 'Bitquence1.pdf',\n 'Patientory1.pdf',\n 'Friendz2.pdf',\n 'SyncFab1.pdf',\n 'Po.et1.pdf',\n 'ABBC1.pdf',\n 'Tokes1.pdf',\n 'Algorand4.pdf',\n 'MaidSafe1.pdf',\n 'Beluga-Pay1.pdf',\n 'CoinMetro1.pdf',\n 'Quantum1.pdf',\n 'Sentinel-Chain1.pdf',\n 'LATOKEN1.pdf',\n 'SwissBorg1.pdf',\n 'Monero1.pdf',\n 'Loopring2.pdf',\n 'UTRUST1.pdf',\n 'Ethos1.pdf',\n 'Legolas-Exchange1.pdf',\n 'Dent1.pdf',\n 'JET83.pdf',\n 'Metaverse1.pdf',\n 'SpaceChain1.pdf',\n 'Theta2.pdf',\n 'secure-timestamping-service.pdf',\n 'byzantine.pdf',\n 'AppCoins2.pdf',\n 'JET81.pdf',\n 'MATRIX1.pdf',\n 'Genaro-Network2.pdf',\n 'GIFTO1.pdf',\n 'Bezop2.pdf',\n 'TNB1.pdf',\n 'Monero3.pdf',\n 'INT1.pdf',\n 'UQUID1.pdf',\n 'Friendz1.pdf',\n 'Zcash3.pdf',\n 'ATLANT1.pdf',\n 'QunQun1.pdf',\n 'Tierion1.pdf',\n 'Tether1.pdf',\n 'Monero2.pdf',\n 'Cryptonex1.pdf',\n 'HPB1.pdf',\n 'Lykke1.pdf',\n 'Genaro-Network3.pdf',\n 'Loopring1.pdf',\n 'Filecoin1.pdf',\n 'SALT1.pdf',\n 'Metaverse2.pdf',\n 'Refereum1.pdf',\n 'Theta1.pdf',\n 'Mithril1.pdf',\n 'XTRABYTES1.pdf',\n 'Effect2.pdf',\n 'Swarm1.pdf',\n 'Polkadot2.pdf',\n 'MyBit1.pdf',\n 'Autonio1.pdf',\n 'PIVX1.pdf',\n 'CyberMiles2.pdf',\n 'Jibrel-Network1.pdf',\n 'Dropil1.pdf',\n 'SmartMesh1.pdf',\n 'CloakCoin1.pdf',\n 'BitShares2.pdf',\n 'Trinity1.pdf',\n 'BitShares3.pdf',\n 'Fortuna1.pdf',\n 'Brahma-OS1.pdf',\n 'ATMChain1.pdf',\n 'YOYOW1.pdf',\n 'Storj1.pdf',\n 'Covesting1.pdf',\n 'MCAP1.pdf',\n 'DeepBrain-Chain1.pdf',\n 'SIRIN-LABS1.pdf',\n 'AidCoin1.pdf',\n 'Crypterium1.pdf',\n 'Blocklancer1.pdf',\n 'Bibox1.pdf',\n 'Sky1.pdf',\n 'Change1.pdf',\n 'Tezos1.pdf',\n 'MediBloc1.pdf',\n 'Polkadot3.pdf',\n 'OriginTrail1.pdf',\n 'Neufund1.pdf',\n 'Zclassic2.pdf',\n 'CoinPoker1.pdf',\n 'Effect1.pdf',\n 'Holo1.pdf',\n 'Polkadot1.pdf',\n 'KuCoin1.pdf',\n 'public-key-cryptosystem.pdf',\n 'BitcoinDark1.pdf',\n 'Sky3.pdf',\n 'THEKEY1.pdf',\n 'Blocklancer3.pdf',\n 'Daneel1.pdf',\n 'ODEM1.pdf',\n 'CyberMiles1.pdf',\n 'BitShares1.pdf',\n 'PPCoin1.pdf',\n 'Agrello1.pdf',\n 'Simple-Token1.pdf',\n 'Paragon1.pdf',\n 'Burst1.pdf',\n '2005-Book-Reliable Distributed Systems.pdf',\n 'GreenMed1.pdf',\n 'AidCoin2.pdf',\n 'Bodhi1.pdf',\n 'Blocklancer2.pdf',\n 'Bitcoin1.pdf',\n 'INS1.pdf',\n 'Wanchain1.pdf',\n 'Sky2.pdf',\n 'Tezos2.pdf',\n 'Change2.pdf',\n 'Nxt1.pdf',\n 'Bread1.pdf',\n 'Edgeless1.pdf',\n 'Particl1.pdf',\n 'Terra1.pdf',\n 'Consensus2.pdf',\n 'Humaniq1.pdf',\n 'district0x1.pdf',\n 'Ambrosus1.pdf',\n 'Aave1.pdf',\n 'ARK1.pdf',\n 'Pillar1.pdf',\n 'TON2.pdf',\n 'Zeepin1.pdf',\n 'Stellar1.pdf',\n 'NEM1.pdf',\n 'Global-Jobcoin1.pdf',\n 'TaaS1.pdf',\n 'Bitcoin-Gold1.pdf',\n 'Aragon1.pdf',\n 'UnikoinGold1.pdf',\n 'Titanium1.pdf',\n 'REMME1.pdf',\n 'Maecenas1.pdf',\n 'AICHAIN1.pdf',\n 'NULS2.pdf',\n 'Mixin1.pdf',\n 'Power-Ledger1.pdf',\n 'Ardor1.pdf',\n 'Rentberry1.pdf',\n 'Aion1.pdf',\n 'Everex1.pdf',\n 'Hcash1.pdf',\n 'Antshares1.pdf',\n 'Electrify.Asia1.pdf',\n 'Etheroll1.pdf',\n 'Datum1.pdf',\n 'Decentraland1.pdf',\n 'NVO1.pdf',\n 'Electra2.pdf',\n 'CPChain2.pdf',\n 'Presearch1.pdf',\n 'BOTTOS1.pdf',\n 'Ethorse1.pdf',\n 'Nucleus-Vision2.pdf',\n 'BLOCKv1.pdf',\n 'Consensus1.pdf',\n 'Paxos-Standard1.pdf',\n 'Decred1.pdf',\n 'Aave2.pdf',\n 'Minereum1.pdf',\n 'Uniswap1.pdf',\n 'Sky5.pdf',\n 'Sia1.pdf',\n 'Klaytn1.pdf',\n 'TON1.pdf',\n 'Rentberry3.pdf',\n 'Basic-Attention-Token1.pdf',\n 'Global-Jobcoin2.pdf',\n 'hashcash.pdf',\n 'Xaurum1.pdf',\n 'ClearCoin1.pdf',\n 'VITE1.pdf',\n 'Moeda1.pdf',\n 'Lunyr1.pdf',\n 'Ink1.pdf',\n 'NULS1.pdf',\n 'AICHAIN2.pdf',\n 'RaiBlocks1.pdf',\n 'Hcash2.pdf',\n 'Rentberry2.pdf',\n 'Ravencoin1.pdf',\n 'Telcoin1.pdf',\n 'NuBits1.pdf',\n 'Electrify.Asia2.pdf',\n 'indaHash1.pdf',\n 'BANKEX1.pdf',\n 'Sky4.pdf',\n 'Auctus1.pdf',\n 'Monetha1.pdf',\n 'IoT-Chain1.pdf',\n 'Status1.pdf',\n 'CPChain1.pdf',\n 'Presearch2.pdf',\n 'Electra1.pdf',\n 'Blockmason1.pdf',\n 'Nucleus-Vision1.pdf']"
     },
     "execution_count": 15,
     "metadata": {},
     "output_type": "execute_result"
    }
   ],
   "source": [
    "[file for file in filenamelist]"
   ]
  },
  {
   "cell_type": "code",
   "execution_count": 14,
   "metadata": {
    "pycharm": {
     "name": "#%%\n"
    }
   },
   "outputs": [
    {
     "name": "stdout",
     "output_type": "stream",
     "text": [
      "['WeTrust1.pdf', 'Libra4.pdf', 'B2BX1.pdf', 'Bytom1.pdf', 'Cindicator1.pdf', 'iXledger1.pdf', 'FARAD1.pdf', 'DomRaider1.pdf', 'Zeusshield1.pdf', 'Steem1.pdf', 'Blocknet1.pdf', 'Chronobank1.pdf', 'iExec1.pdf', 'Syscoin1.pdf', 'Gulden1.pdf', 'Winding-Tree2.pdf', 'maymounkov-kademlia-lncs.pdf', 'Cardano1.pdf', 'CoinDash1.pdf', 'Pundi-X1.pdf', 'vSlice1.pdf', 'ODYSSEY1.pdf', 'Iconomi1.pdf', 'Aeron1.pdf', 'Metal1.pdf', 'CoinStarter1.pdf', 'Bancor1.pdf', 'openANX1.pdf', 'Zilliqa2.pdf', 'Rebellious1.pdf', 'Minexcoin1.pdf', 'Numeraire1.pdf', 'Qbao1.pdf', 'Cappasity1.pdf', 'Privatix1.pdf', 'Streamr1.pdf', 'AirSwap1.pdf', 'Avalanche1.pdf', 'ICOS1.pdf', 'RIALTO.AI1.pdf', 'CyberVein1.pdf', 'Enigma1.pdf', 'WaBi1.pdf', 'Cardano3.pdf', 'Winding-Tree1.pdf', 'Synereo1.pdf', 'GATCOIN1.pdf', 'Monaco1.pdf', 'Cardano2.pdf', 'HOQU1.pdf', 'Nebulas1.pdf', 'Oyster1.pdf', 'DigiPulse1.pdf', 'openANX2.pdf', 'Zilliqa1.pdf', 'NAGA1.pdf', 'Earth-Token1.pdf', 'Curriculum-Vitae1.pdf', 'Kin1.pdf', 'Lamden1.pdf', 'Libra2.pdf', 'Blockport1.pdf', 'Ethereum-Classic1.pdf', 'Coinlancer1.pdf', 'Bounty0x1.pdf', 'Genesis-Vision1.pdf', 'MobileGo1.pdf', 'FundYourselfNow1.pdf', 'Opus1.pdf', 'DigitalNote1.pdf', 'CREDITS2.pdf', 'Komodo1.pdf', '199.pdf', 'COSS1.pdf', 'PayPie1.pdf', 'TrueChain1.pdf', 'Reddcoin1.pdf', 'Dragonchain1.pdf', 'Omni2.pdf', 'VeChain2.pdf', 'VeChain3.pdf', 'Omni3.pdf', 'rfc6330.pdf', 'aelf1.pdf', 'Melon1.pdf', 'Karma1.pdf', 'XPA1.pdf', 'Verge1.pdf', 'SelfKey1.pdf', 'DTR1.pdf', 'EchoLink1.pdf', 'NavCoin1.pdf', 'Libra3.pdf', 'Libra1.pdf', 'Aventus1.pdf', 'Blackmoon1.pdf', 'Verify1.pdf', 'MobileGo2.pdf', 'Civic1.pdf', 'Request-Network1.pdf', 'Experience-Points1.pdf', 'CREDITS1.pdf', 'secure-names-bit-strings.pdf', 'Karma3.pdf', 'TrueChain2.pdf', 'Eidoo1.pdf', 'Omni1.pdf', 'Ormeus1.pdf', 'VeChain1.pdf', 'Cardano5.pdf', 'Polymath1.pdf', 'Cardano4.pdf', 'Solana1.pdf', 'Karma2.pdf', 'Stipend1.pdf', 'CUBE1.pdf', 'SelfKey2.pdf', 'Matryx1.pdf', 'WePower1.pdf', 'InsurePal1.pdf', 'DFINITY4.pdf', 'Playkey1.pdf', 'trade.io1.pdf', 'LinkEye1.pdf', 'All-Sports1.pdf', 'FUSION1.pdf', 'Aditus1.pdf', 'TenX1.pdf', 'TomoChain1.pdf', 'Fantom1.pdf', 'Nexus1.pdf', 'Centra1.pdf', 'Ontology1.pdf', 'WAX1.pdf', 'Revain1.pdf', 'aXpire2.pdf', 'Maker1.pdf', 'Qtum1.pdf', 'Exchange-Union1.pdf', 'Haven-Protocol1.pdf', 'Target-Coin2.pdf', 'Groestlcoin1.pdf', 'Rivetz1.pdf', 'ArcBlock1.pdf', 'Wings2.pdf', 'Polkastarter1.pdf', 'spineless-tagless-gmachine.pdf', 'Authorship1.pdf', 'Cryptonote1.pdf', 'TRON1.pdf', 'Stratis1.pdf', 'TRON3.pdf', '0x1.pdf', 'AdEx1.pdf', 'Kyvalion1.pdf', 'Nano1.pdf', 'RChain1.pdf', 'TenX2.pdf', 'Fantom2.pdf', 'Ripio-Credit-Network1.pdf', 'Ontology2.pdf', 'aXpire1.pdf', 'time-stamp-digital-document.pdf', 'Delphy1.pdf', 'Primas1.pdf', 'Golem1.pdf', 'Wrapped-Bitcoin1.pdf', 'BitStation1.pdf', 'Grid+1.pdf', 'Zap1.pdf', 'Qtum2.pdf', 'CanYa1.pdf', 'osdi99.pdf', 'Paypex1.pdf', 'Eximchain1.pdf', 'SWFT1.pdf', 'Target-Coin1.pdf', 'adToken1.pdf', 'IP-Exchange1.pdf', 'APEX1.pdf', 'Ontology3.pdf', 'Dash1.pdf', 'Fantom3.pdf', 'Nework1.pdf', 'Decent.bet1.pdf', 'Databits1.pdf', 'Wings1.pdf', 'Bankera1.pdf', 'Zerocoin1.pdf', 'QASH1.pdf', 'Havven1.pdf', 'VIBE1.pdf', 'StockChain1.pdf', 'TRON2.pdf', 'DFINITY2.pdf', 'Creativecoin1.pdf', 'Gnosis1.pdf', 'MediShares1.pdf', 'CoinMeet1.pdf', 'Red-Pulse1.pdf', 'SpankChain1.pdf', 'Embermine1.pdf', 'Snovio1.pdf', 'SophiaTX1.pdf', 'Neblio1.pdf', 'CRYPTO201.pdf', 'GBX1.pdf', 'PiplShare1.pdf', 'Fantom6.pdf', 'Bitsum1.pdf', 'Waves1.pdf', 'Swirlds2.pdf', 'VOISE2.pdf', 'Zerocash1.pdf', 'Binance1.pdf', 'Monero8.pdf', 'FunFair1.pdf', 'Wagerr1.pdf', 'Polybius1.pdf', 'Dentacoin1.pdf', 'DFINITY3.pdf', 'Energo1.pdf', 'Mothership1.pdf', 'Ripple1.pdf', 'DFINITY1.pdf', 'Bluzelle1.pdf', 'Populous1.pdf', 'Achain1.pdf', 'LeadCoin1.pdf', 'Fantom4.pdf', 'Soar1.pdf', 'Stox1.pdf', 'IOTA1.pdf', 'Olympus-Labs1.pdf', 'Etherparty1.pdf', 'Bitcoin-Private2.pdf', 'Walton1.pdf', 'USD-Coin1.pdf', 'Docademic1.pdf', 'Swirlds1.pdf', 'Fantom5.pdf', 'Zerocash2.pdf', 'Binance2.pdf', 'VOISE1.pdf', 'SingularityNET1.pdf', 'Asch1.pdf', 'Crypti1.pdf', 'Emercoin1.pdf', 'Byteball1.pdf', 'SportyFi1.pdf', 'Ethereum2.pdf', 'aeternity2.pdf', 'Vertcoin2.pdf', 'JET84.pdf', 'Aurora1.pdf', 'Enjin1.pdf', 'Horizon-State1.pdf', 'BOScoin2.pdf', 'Monero6.pdf', 'ZenCash1.pdf', 'Fantom8.pdf', 'DigixDAO1.pdf', 'Leverj1.pdf', 'Algorand3.pdf', 'Nexo2.pdf', 'DATx1.pdf', 'BitClave1.pdf', 'Santiment1.pdf', 'SingularDTV1.pdf', 'WaykiChain1.pdf', 'TokenPay1.pdf', 'Algorand2.pdf', 'Nexo3.pdf', 'Mysterium1.pdf', 'DATA2.pdf', 'Fantom9.pdf', 'EOS1.pdf', 'BnKToTheFuture1.pdf', 'DADI2.pdf', 'Monero7.pdf', 'BOScoin3.pdf', 'Quantum-Resistant-Ledger1.pdf', 'Quantstamp1.pdf', 'KyberNetwork1.pdf', 'SONM1.pdf', 'Augur1.pdf', 'Ethereum3.pdf', 'BlitzPredict1.pdf', 'Ethereum1.pdf', 'aeternity1.pdf', 'Vertcoin1.pdf', 'Genaro-Network4.pdf', 'ICON1.pdf', 'IHT1.pdf', 'Astronaut1.pdf', 'Substratum1.pdf', 'MOAC1.pdf', 'Monero5.pdf', 'BOScoin1.pdf', 'Zcoin1.pdf', 'CommerceBlock1.pdf', 'Nexo1.pdf', 'Elastos1.pdf', 'Stellite1.pdf', 'STK1.pdf', 'Centrality1.pdf', 'improving-time-stamping.pdf', 'Vice-Industry-Token1.pdf', 'Algorand1.pdf', 'OmiseGO1.pdf', 'GXChain1.pdf', 'DATA1.pdf', 'EOS2.pdf', 'DADI1.pdf', 'Flixxo1.pdf', 'BnKToTheFuture2.pdf', 'Factom1.pdf', 'Darcrus1.pdf', 'Monero4.pdf', 'Envion1.pdf', 'Fantom10.pdf', 'CACM-1999.pdf', 'Cobinhood1.pdf', 'BlitzPredict2.pdf', 'Safex1.pdf', 'hott-online-1132-g5052dbc.pdf', 'Cosmos1.pdf', 'Cortex1.pdf', 'AppCoins1.pdf', 'bitqy1.pdf', 'JET82.pdf', 'Genaro-Network1.pdf', 'FoldingCoin1.pdf', 'BlockCAT1.pdf', 'Bezop1.pdf', 'BitTorrent1.pdf', 'TokenCard1.pdf', 'True-Flip1.pdf', 'Storiqa1.pdf', 'modum1.pdf', 'Universa1.pdf', 'Lympo1.pdf', 'Bloom1.pdf', 'ChainLink1.pdf', 'Zcash1.pdf', 'Algorand5.pdf', 'PolySwarm1.pdf', 'Storm1.pdf', 'Bitquence1.pdf', 'Patientory1.pdf', 'Friendz2.pdf', 'SyncFab1.pdf', 'Po.et1.pdf', 'ABBC1.pdf', 'Tokes1.pdf', 'Algorand4.pdf', 'MaidSafe1.pdf', 'Beluga-Pay1.pdf', 'CoinMetro1.pdf', 'Quantum1.pdf', 'Sentinel-Chain1.pdf', 'LATOKEN1.pdf', 'SwissBorg1.pdf', 'Monero1.pdf', 'Loopring2.pdf', 'UTRUST1.pdf', 'Ethos1.pdf', 'Legolas-Exchange1.pdf', 'Dent1.pdf', 'JET83.pdf', 'Metaverse1.pdf', 'SpaceChain1.pdf', 'Theta2.pdf', 'secure-timestamping-service.pdf', 'byzantine.pdf', 'AppCoins2.pdf', 'JET81.pdf', 'MATRIX1.pdf', 'Genaro-Network2.pdf', 'GIFTO1.pdf', 'Bezop2.pdf', 'TNB1.pdf', 'Monero3.pdf', 'INT1.pdf', 'UQUID1.pdf', 'Friendz1.pdf', 'Zcash3.pdf', 'ATLANT1.pdf', 'QunQun1.pdf', 'Tierion1.pdf', 'Tether1.pdf', 'Monero2.pdf', 'Cryptonex1.pdf', 'HPB1.pdf', 'Lykke1.pdf', 'Genaro-Network3.pdf', 'Loopring1.pdf', 'Filecoin1.pdf', 'SALT1.pdf', 'Metaverse2.pdf', 'Refereum1.pdf', 'Theta1.pdf', 'Mithril1.pdf', 'XTRABYTES1.pdf', 'Effect2.pdf', 'Swarm1.pdf', 'Polkadot2.pdf', 'MyBit1.pdf', 'Autonio1.pdf', 'PIVX1.pdf', 'CyberMiles2.pdf', 'Jibrel-Network1.pdf', 'Dropil1.pdf', 'SmartMesh1.pdf', 'CloakCoin1.pdf', 'BitShares2.pdf', 'Trinity1.pdf', 'BitShares3.pdf', 'Fortuna1.pdf', 'Brahma-OS1.pdf', 'ATMChain1.pdf', 'YOYOW1.pdf', 'Storj1.pdf', 'Covesting1.pdf', 'MCAP1.pdf', 'DeepBrain-Chain1.pdf', 'SIRIN-LABS1.pdf', 'AidCoin1.pdf', 'Crypterium1.pdf', 'Blocklancer1.pdf', 'Bibox1.pdf', 'Sky1.pdf', 'Change1.pdf', 'Tezos1.pdf', 'MediBloc1.pdf', 'Polkadot3.pdf', 'OriginTrail1.pdf', 'Neufund1.pdf', 'Zclassic2.pdf', 'CoinPoker1.pdf', 'Effect1.pdf', 'Holo1.pdf', 'Polkadot1.pdf', 'KuCoin1.pdf', 'public-key-cryptosystem.pdf', 'BitcoinDark1.pdf', 'Sky3.pdf', 'THEKEY1.pdf', 'Blocklancer3.pdf', 'Daneel1.pdf', 'ODEM1.pdf', 'CyberMiles1.pdf', 'BitShares1.pdf', 'PPCoin1.pdf', 'Agrello1.pdf', 'Simple-Token1.pdf', 'Paragon1.pdf', 'Burst1.pdf', '2005-Book-Reliable Distributed Systems.pdf', 'GreenMed1.pdf', 'AidCoin2.pdf', 'Bodhi1.pdf', 'Blocklancer2.pdf', 'Bitcoin1.pdf', 'INS1.pdf', 'Wanchain1.pdf', 'Sky2.pdf', 'Tezos2.pdf', 'Change2.pdf', 'Nxt1.pdf', 'Bread1.pdf', 'Edgeless1.pdf', 'Particl1.pdf', 'Terra1.pdf', 'Consensus2.pdf', 'Humaniq1.pdf', 'district0x1.pdf', 'Ambrosus1.pdf', 'Aave1.pdf', 'ARK1.pdf', 'Pillar1.pdf', 'TON2.pdf', 'Zeepin1.pdf', 'Stellar1.pdf', 'NEM1.pdf', 'Global-Jobcoin1.pdf', 'TaaS1.pdf', 'Bitcoin-Gold1.pdf', 'Aragon1.pdf', 'UnikoinGold1.pdf', 'Titanium1.pdf', 'REMME1.pdf', 'Maecenas1.pdf', 'AICHAIN1.pdf', 'NULS2.pdf', 'Mixin1.pdf', 'Power-Ledger1.pdf', 'Ardor1.pdf', 'Rentberry1.pdf', 'Aion1.pdf', 'Everex1.pdf', 'Hcash1.pdf', 'Antshares1.pdf', 'Electrify.Asia1.pdf', 'Etheroll1.pdf', 'Datum1.pdf', 'Decentraland1.pdf', 'NVO1.pdf', 'Electra2.pdf', 'CPChain2.pdf', 'Presearch1.pdf', 'BOTTOS1.pdf', 'Ethorse1.pdf', 'Nucleus-Vision2.pdf', 'BLOCKv1.pdf', 'Consensus1.pdf', 'Paxos-Standard1.pdf', 'Decred1.pdf', 'Aave2.pdf', 'Minereum1.pdf', 'Uniswap1.pdf', 'Sky5.pdf', 'Sia1.pdf', 'Klaytn1.pdf', 'TON1.pdf', 'Rentberry3.pdf', 'Basic-Attention-Token1.pdf', 'Global-Jobcoin2.pdf', 'hashcash.pdf', 'Xaurum1.pdf', 'ClearCoin1.pdf', 'VITE1.pdf', 'Moeda1.pdf', 'Lunyr1.pdf', 'Ink1.pdf', 'NULS1.pdf', 'AICHAIN2.pdf', 'RaiBlocks1.pdf', 'Hcash2.pdf', 'Rentberry2.pdf', 'Ravencoin1.pdf', 'Telcoin1.pdf', 'NuBits1.pdf', 'Electrify.Asia2.pdf', 'indaHash1.pdf', 'BANKEX1.pdf', 'Sky4.pdf', 'Auctus1.pdf', 'Monetha1.pdf', 'IoT-Chain1.pdf', 'Status1.pdf', 'CPChain1.pdf', 'Presearch2.pdf', 'Electra1.pdf', 'Blockmason1.pdf', 'Nucleus-Vision1.pdf']\n"
     ]
    }
   ],
   "source": [
    "os.chdir('/Users/alisdghnia/Desktop/PDF Whitepapers Copy/')\n",
    "filenamelist = []\n",
    "for (dirname,dirs,files) in os.walk('.'):\n",
    "    for filename in files:\n",
    "        if filename.endswith('.pdf'):\n",
    "            thefile = os.path.join(filename)\n",
    "            filenamelist.append(filename)\n",
    "            \n",
    "print(filenamelist)"
   ]
  },
  {
   "cell_type": "code",
   "execution_count": 16,
   "metadata": {
    "pycharm": {
     "name": "#%%\n"
    }
   },
   "outputs": [],
   "source": [
    "names =  [file for file in filenamelist]"
   ]
  },
  {
   "cell_type": "code",
   "execution_count": 17,
   "metadata": {
    "pycharm": {
     "name": "#%%\n"
    }
   },
   "outputs": [
    {
     "data": {
      "text/plain": "['WeTrust1.pdf',\n 'Libra4.pdf',\n 'B2BX1.pdf',\n 'Bytom1.pdf',\n 'Cindicator1.pdf',\n 'iXledger1.pdf',\n 'FARAD1.pdf',\n 'DomRaider1.pdf',\n 'Zeusshield1.pdf',\n 'Steem1.pdf',\n 'Blocknet1.pdf',\n 'Chronobank1.pdf',\n 'iExec1.pdf',\n 'Syscoin1.pdf',\n 'Gulden1.pdf',\n 'Winding-Tree2.pdf',\n 'maymounkov-kademlia-lncs.pdf',\n 'Cardano1.pdf',\n 'CoinDash1.pdf',\n 'Pundi-X1.pdf',\n 'vSlice1.pdf',\n 'ODYSSEY1.pdf',\n 'Iconomi1.pdf',\n 'Aeron1.pdf',\n 'Metal1.pdf',\n 'CoinStarter1.pdf',\n 'Bancor1.pdf',\n 'openANX1.pdf',\n 'Zilliqa2.pdf',\n 'Rebellious1.pdf',\n 'Minexcoin1.pdf',\n 'Numeraire1.pdf',\n 'Qbao1.pdf',\n 'Cappasity1.pdf',\n 'Privatix1.pdf',\n 'Streamr1.pdf',\n 'AirSwap1.pdf',\n 'Avalanche1.pdf',\n 'ICOS1.pdf',\n 'RIALTO.AI1.pdf',\n 'CyberVein1.pdf',\n 'Enigma1.pdf',\n 'WaBi1.pdf',\n 'Cardano3.pdf',\n 'Winding-Tree1.pdf',\n 'Synereo1.pdf',\n 'GATCOIN1.pdf',\n 'Monaco1.pdf',\n 'Cardano2.pdf',\n 'HOQU1.pdf',\n 'Nebulas1.pdf',\n 'Oyster1.pdf',\n 'DigiPulse1.pdf',\n 'openANX2.pdf',\n 'Zilliqa1.pdf',\n 'NAGA1.pdf',\n 'Earth-Token1.pdf',\n 'Curriculum-Vitae1.pdf',\n 'Kin1.pdf',\n 'Lamden1.pdf',\n 'Libra2.pdf',\n 'Blockport1.pdf',\n 'Ethereum-Classic1.pdf',\n 'Coinlancer1.pdf',\n 'Bounty0x1.pdf',\n 'Genesis-Vision1.pdf',\n 'MobileGo1.pdf',\n 'FundYourselfNow1.pdf',\n 'Opus1.pdf',\n 'DigitalNote1.pdf',\n 'CREDITS2.pdf',\n 'Komodo1.pdf',\n '199.pdf',\n 'COSS1.pdf',\n 'PayPie1.pdf',\n 'TrueChain1.pdf',\n 'Reddcoin1.pdf',\n 'Dragonchain1.pdf',\n 'Omni2.pdf',\n 'VeChain2.pdf',\n 'VeChain3.pdf',\n 'Omni3.pdf',\n 'rfc6330.pdf',\n 'aelf1.pdf',\n 'Melon1.pdf',\n 'Karma1.pdf',\n 'XPA1.pdf',\n 'Verge1.pdf',\n 'SelfKey1.pdf',\n 'DTR1.pdf',\n 'EchoLink1.pdf',\n 'NavCoin1.pdf',\n 'Libra3.pdf',\n 'Libra1.pdf',\n 'Aventus1.pdf',\n 'Blackmoon1.pdf',\n 'Verify1.pdf',\n 'MobileGo2.pdf',\n 'Civic1.pdf',\n 'Request-Network1.pdf',\n 'Experience-Points1.pdf',\n 'CREDITS1.pdf',\n 'secure-names-bit-strings.pdf',\n 'Karma3.pdf',\n 'TrueChain2.pdf',\n 'Eidoo1.pdf',\n 'Omni1.pdf',\n 'Ormeus1.pdf',\n 'VeChain1.pdf',\n 'Cardano5.pdf',\n 'Polymath1.pdf',\n 'Cardano4.pdf',\n 'Solana1.pdf',\n 'Karma2.pdf',\n 'Stipend1.pdf',\n 'CUBE1.pdf',\n 'SelfKey2.pdf',\n 'Matryx1.pdf',\n 'WePower1.pdf',\n 'InsurePal1.pdf',\n 'DFINITY4.pdf',\n 'Playkey1.pdf',\n 'trade.io1.pdf',\n 'LinkEye1.pdf',\n 'All-Sports1.pdf',\n 'FUSION1.pdf',\n 'Aditus1.pdf',\n 'TenX1.pdf',\n 'TomoChain1.pdf',\n 'Fantom1.pdf',\n 'Nexus1.pdf',\n 'Centra1.pdf',\n 'Ontology1.pdf',\n 'WAX1.pdf',\n 'Revain1.pdf',\n 'aXpire2.pdf',\n 'Maker1.pdf',\n 'Qtum1.pdf',\n 'Exchange-Union1.pdf',\n 'Haven-Protocol1.pdf',\n 'Target-Coin2.pdf',\n 'Groestlcoin1.pdf',\n 'Rivetz1.pdf',\n 'ArcBlock1.pdf',\n 'Wings2.pdf',\n 'Polkastarter1.pdf',\n 'spineless-tagless-gmachine.pdf',\n 'Authorship1.pdf',\n 'Cryptonote1.pdf',\n 'TRON1.pdf',\n 'Stratis1.pdf',\n 'TRON3.pdf',\n '0x1.pdf',\n 'AdEx1.pdf',\n 'Kyvalion1.pdf',\n 'Nano1.pdf',\n 'RChain1.pdf',\n 'TenX2.pdf',\n 'Fantom2.pdf',\n 'Ripio-Credit-Network1.pdf',\n 'Ontology2.pdf',\n 'aXpire1.pdf',\n 'time-stamp-digital-document.pdf',\n 'Delphy1.pdf',\n 'Primas1.pdf',\n 'Golem1.pdf',\n 'Wrapped-Bitcoin1.pdf',\n 'BitStation1.pdf',\n 'Grid+1.pdf',\n 'Zap1.pdf',\n 'Qtum2.pdf',\n 'CanYa1.pdf',\n 'osdi99.pdf',\n 'Paypex1.pdf',\n 'Eximchain1.pdf',\n 'SWFT1.pdf',\n 'Target-Coin1.pdf',\n 'adToken1.pdf',\n 'IP-Exchange1.pdf',\n 'APEX1.pdf',\n 'Ontology3.pdf',\n 'Dash1.pdf',\n 'Fantom3.pdf',\n 'Nework1.pdf',\n 'Decent.bet1.pdf',\n 'Databits1.pdf',\n 'Wings1.pdf',\n 'Bankera1.pdf',\n 'Zerocoin1.pdf',\n 'QASH1.pdf',\n 'Havven1.pdf',\n 'VIBE1.pdf',\n 'StockChain1.pdf',\n 'TRON2.pdf',\n 'DFINITY2.pdf',\n 'Creativecoin1.pdf',\n 'Gnosis1.pdf',\n 'MediShares1.pdf',\n 'CoinMeet1.pdf',\n 'Red-Pulse1.pdf',\n 'SpankChain1.pdf',\n 'Embermine1.pdf',\n 'Snovio1.pdf',\n 'SophiaTX1.pdf',\n 'Neblio1.pdf',\n 'CRYPTO201.pdf',\n 'GBX1.pdf',\n 'PiplShare1.pdf',\n 'Fantom6.pdf',\n 'Bitsum1.pdf',\n 'Waves1.pdf',\n 'Swirlds2.pdf',\n 'VOISE2.pdf',\n 'Zerocash1.pdf',\n 'Binance1.pdf',\n 'Monero8.pdf',\n 'FunFair1.pdf',\n 'Wagerr1.pdf',\n 'Polybius1.pdf',\n 'Dentacoin1.pdf',\n 'DFINITY3.pdf',\n 'Energo1.pdf',\n 'Mothership1.pdf',\n 'Ripple1.pdf',\n 'DFINITY1.pdf',\n 'Bluzelle1.pdf',\n 'Populous1.pdf',\n 'Achain1.pdf',\n 'LeadCoin1.pdf',\n 'Fantom4.pdf',\n 'Soar1.pdf',\n 'Stox1.pdf',\n 'IOTA1.pdf',\n 'Olympus-Labs1.pdf',\n 'Etherparty1.pdf',\n 'Bitcoin-Private2.pdf',\n 'Walton1.pdf',\n 'USD-Coin1.pdf',\n 'Docademic1.pdf',\n 'Swirlds1.pdf',\n 'Fantom5.pdf',\n 'Zerocash2.pdf',\n 'Binance2.pdf',\n 'VOISE1.pdf',\n 'SingularityNET1.pdf',\n 'Asch1.pdf',\n 'Crypti1.pdf',\n 'Emercoin1.pdf',\n 'Byteball1.pdf',\n 'SportyFi1.pdf',\n 'Ethereum2.pdf',\n 'aeternity2.pdf',\n 'Vertcoin2.pdf',\n 'JET84.pdf',\n 'Aurora1.pdf',\n 'Enjin1.pdf',\n 'Horizon-State1.pdf',\n 'BOScoin2.pdf',\n 'Monero6.pdf',\n 'ZenCash1.pdf',\n 'Fantom8.pdf',\n 'DigixDAO1.pdf',\n 'Leverj1.pdf',\n 'Algorand3.pdf',\n 'Nexo2.pdf',\n 'DATx1.pdf',\n 'BitClave1.pdf',\n 'Santiment1.pdf',\n 'SingularDTV1.pdf',\n 'WaykiChain1.pdf',\n 'TokenPay1.pdf',\n 'Algorand2.pdf',\n 'Nexo3.pdf',\n 'Mysterium1.pdf',\n 'DATA2.pdf',\n 'Fantom9.pdf',\n 'EOS1.pdf',\n 'BnKToTheFuture1.pdf',\n 'DADI2.pdf',\n 'Monero7.pdf',\n 'BOScoin3.pdf',\n 'Quantum-Resistant-Ledger1.pdf',\n 'Quantstamp1.pdf',\n 'KyberNetwork1.pdf',\n 'SONM1.pdf',\n 'Augur1.pdf',\n 'Ethereum3.pdf',\n 'BlitzPredict1.pdf',\n 'Ethereum1.pdf',\n 'aeternity1.pdf',\n 'Vertcoin1.pdf',\n 'Genaro-Network4.pdf',\n 'ICON1.pdf',\n 'IHT1.pdf',\n 'Astronaut1.pdf',\n 'Substratum1.pdf',\n 'MOAC1.pdf',\n 'Monero5.pdf',\n 'BOScoin1.pdf',\n 'Zcoin1.pdf',\n 'CommerceBlock1.pdf',\n 'Nexo1.pdf',\n 'Elastos1.pdf',\n 'Stellite1.pdf',\n 'STK1.pdf',\n 'Centrality1.pdf',\n 'improving-time-stamping.pdf',\n 'Vice-Industry-Token1.pdf',\n 'Algorand1.pdf',\n 'OmiseGO1.pdf',\n 'GXChain1.pdf',\n 'DATA1.pdf',\n 'EOS2.pdf',\n 'DADI1.pdf',\n 'Flixxo1.pdf',\n 'BnKToTheFuture2.pdf',\n 'Factom1.pdf',\n 'Darcrus1.pdf',\n 'Monero4.pdf',\n 'Envion1.pdf',\n 'Fantom10.pdf',\n 'CACM-1999.pdf',\n 'Cobinhood1.pdf',\n 'BlitzPredict2.pdf',\n 'Safex1.pdf',\n 'hott-online-1132-g5052dbc.pdf',\n 'Cosmos1.pdf',\n 'Cortex1.pdf',\n 'AppCoins1.pdf',\n 'bitqy1.pdf',\n 'JET82.pdf',\n 'Genaro-Network1.pdf',\n 'FoldingCoin1.pdf',\n 'BlockCAT1.pdf',\n 'Bezop1.pdf',\n 'BitTorrent1.pdf',\n 'TokenCard1.pdf',\n 'True-Flip1.pdf',\n 'Storiqa1.pdf',\n 'modum1.pdf',\n 'Universa1.pdf',\n 'Lympo1.pdf',\n 'Bloom1.pdf',\n 'ChainLink1.pdf',\n 'Zcash1.pdf',\n 'Algorand5.pdf',\n 'PolySwarm1.pdf',\n 'Storm1.pdf',\n 'Bitquence1.pdf',\n 'Patientory1.pdf',\n 'Friendz2.pdf',\n 'SyncFab1.pdf',\n 'Po.et1.pdf',\n 'ABBC1.pdf',\n 'Tokes1.pdf',\n 'Algorand4.pdf',\n 'MaidSafe1.pdf',\n 'Beluga-Pay1.pdf',\n 'CoinMetro1.pdf',\n 'Quantum1.pdf',\n 'Sentinel-Chain1.pdf',\n 'LATOKEN1.pdf',\n 'SwissBorg1.pdf',\n 'Monero1.pdf',\n 'Loopring2.pdf',\n 'UTRUST1.pdf',\n 'Ethos1.pdf',\n 'Legolas-Exchange1.pdf',\n 'Dent1.pdf',\n 'JET83.pdf',\n 'Metaverse1.pdf',\n 'SpaceChain1.pdf',\n 'Theta2.pdf',\n 'secure-timestamping-service.pdf',\n 'byzantine.pdf',\n 'AppCoins2.pdf',\n 'JET81.pdf',\n 'MATRIX1.pdf',\n 'Genaro-Network2.pdf',\n 'GIFTO1.pdf',\n 'Bezop2.pdf',\n 'TNB1.pdf',\n 'Monero3.pdf',\n 'INT1.pdf',\n 'UQUID1.pdf',\n 'Friendz1.pdf',\n 'Zcash3.pdf',\n 'ATLANT1.pdf',\n 'QunQun1.pdf',\n 'Tierion1.pdf',\n 'Tether1.pdf',\n 'Monero2.pdf',\n 'Cryptonex1.pdf',\n 'HPB1.pdf',\n 'Lykke1.pdf',\n 'Genaro-Network3.pdf',\n 'Loopring1.pdf',\n 'Filecoin1.pdf',\n 'SALT1.pdf',\n 'Metaverse2.pdf',\n 'Refereum1.pdf',\n 'Theta1.pdf',\n 'Mithril1.pdf',\n 'XTRABYTES1.pdf',\n 'Effect2.pdf',\n 'Swarm1.pdf',\n 'Polkadot2.pdf',\n 'MyBit1.pdf',\n 'Autonio1.pdf',\n 'PIVX1.pdf',\n 'CyberMiles2.pdf',\n 'Jibrel-Network1.pdf',\n 'Dropil1.pdf',\n 'SmartMesh1.pdf',\n 'CloakCoin1.pdf',\n 'BitShares2.pdf',\n 'Trinity1.pdf',\n 'BitShares3.pdf',\n 'Fortuna1.pdf',\n 'Brahma-OS1.pdf',\n 'ATMChain1.pdf',\n 'YOYOW1.pdf',\n 'Storj1.pdf',\n 'Covesting1.pdf',\n 'MCAP1.pdf',\n 'DeepBrain-Chain1.pdf',\n 'SIRIN-LABS1.pdf',\n 'AidCoin1.pdf',\n 'Crypterium1.pdf',\n 'Blocklancer1.pdf',\n 'Bibox1.pdf',\n 'Sky1.pdf',\n 'Change1.pdf',\n 'Tezos1.pdf',\n 'MediBloc1.pdf',\n 'Polkadot3.pdf',\n 'OriginTrail1.pdf',\n 'Neufund1.pdf',\n 'Zclassic2.pdf',\n 'CoinPoker1.pdf',\n 'Effect1.pdf',\n 'Holo1.pdf',\n 'Polkadot1.pdf',\n 'KuCoin1.pdf',\n 'public-key-cryptosystem.pdf',\n 'BitcoinDark1.pdf',\n 'Sky3.pdf',\n 'THEKEY1.pdf',\n 'Blocklancer3.pdf',\n 'Daneel1.pdf',\n 'ODEM1.pdf',\n 'CyberMiles1.pdf',\n 'BitShares1.pdf',\n 'PPCoin1.pdf',\n 'Agrello1.pdf',\n 'Simple-Token1.pdf',\n 'Paragon1.pdf',\n 'Burst1.pdf',\n '2005-Book-Reliable Distributed Systems.pdf',\n 'GreenMed1.pdf',\n 'AidCoin2.pdf',\n 'Bodhi1.pdf',\n 'Blocklancer2.pdf',\n 'Bitcoin1.pdf',\n 'INS1.pdf',\n 'Wanchain1.pdf',\n 'Sky2.pdf',\n 'Tezos2.pdf',\n 'Change2.pdf',\n 'Nxt1.pdf',\n 'Bread1.pdf',\n 'Edgeless1.pdf',\n 'Particl1.pdf',\n 'Terra1.pdf',\n 'Consensus2.pdf',\n 'Humaniq1.pdf',\n 'district0x1.pdf',\n 'Ambrosus1.pdf',\n 'Aave1.pdf',\n 'ARK1.pdf',\n 'Pillar1.pdf',\n 'TON2.pdf',\n 'Zeepin1.pdf',\n 'Stellar1.pdf',\n 'NEM1.pdf',\n 'Global-Jobcoin1.pdf',\n 'TaaS1.pdf',\n 'Bitcoin-Gold1.pdf',\n 'Aragon1.pdf',\n 'UnikoinGold1.pdf',\n 'Titanium1.pdf',\n 'REMME1.pdf',\n 'Maecenas1.pdf',\n 'AICHAIN1.pdf',\n 'NULS2.pdf',\n 'Mixin1.pdf',\n 'Power-Ledger1.pdf',\n 'Ardor1.pdf',\n 'Rentberry1.pdf',\n 'Aion1.pdf',\n 'Everex1.pdf',\n 'Hcash1.pdf',\n 'Antshares1.pdf',\n 'Electrify.Asia1.pdf',\n 'Etheroll1.pdf',\n 'Datum1.pdf',\n 'Decentraland1.pdf',\n 'NVO1.pdf',\n 'Electra2.pdf',\n 'CPChain2.pdf',\n 'Presearch1.pdf',\n 'BOTTOS1.pdf',\n 'Ethorse1.pdf',\n 'Nucleus-Vision2.pdf',\n 'BLOCKv1.pdf',\n 'Consensus1.pdf',\n 'Paxos-Standard1.pdf',\n 'Decred1.pdf',\n 'Aave2.pdf',\n 'Minereum1.pdf',\n 'Uniswap1.pdf',\n 'Sky5.pdf',\n 'Sia1.pdf',\n 'Klaytn1.pdf',\n 'TON1.pdf',\n 'Rentberry3.pdf',\n 'Basic-Attention-Token1.pdf',\n 'Global-Jobcoin2.pdf',\n 'hashcash.pdf',\n 'Xaurum1.pdf',\n 'ClearCoin1.pdf',\n 'VITE1.pdf',\n 'Moeda1.pdf',\n 'Lunyr1.pdf',\n 'Ink1.pdf',\n 'NULS1.pdf',\n 'AICHAIN2.pdf',\n 'RaiBlocks1.pdf',\n 'Hcash2.pdf',\n 'Rentberry2.pdf',\n 'Ravencoin1.pdf',\n 'Telcoin1.pdf',\n 'NuBits1.pdf',\n 'Electrify.Asia2.pdf',\n 'indaHash1.pdf',\n 'BANKEX1.pdf',\n 'Sky4.pdf',\n 'Auctus1.pdf',\n 'Monetha1.pdf',\n 'IoT-Chain1.pdf',\n 'Status1.pdf',\n 'CPChain1.pdf',\n 'Presearch2.pdf',\n 'Electra1.pdf',\n 'Blockmason1.pdf',\n 'Nucleus-Vision1.pdf']"
     },
     "execution_count": 17,
     "metadata": {},
     "output_type": "execute_result"
    }
   ],
   "source": [
    "names"
   ]
  },
  {
   "cell_type": "code",
   "execution_count": 18,
   "metadata": {
    "pycharm": {
     "name": "#%%\n"
    }
   },
   "outputs": [],
   "source": [
    "searchwords = list(df['Words'])"
   ]
  },
  {
   "cell_type": "code",
   "execution_count": 9,
   "outputs": [
    {
     "data": {
      "text/plain": "    Unnamed: 0         Words  idf_weights\n0           30         goals     7.066495\n1           82     tolerance     7.066495\n2           85       trivial     7.066495\n3           36        larger     7.066495\n4           43      messages     7.066495\n..         ...           ...          ...\n89          84  transactions     5.331894\n90          86           unl     5.331894\n91          45       network     4.907010\n92          47         nodes     4.763910\n93          14     consensus     4.358445\n\n[94 rows x 3 columns]",
      "text/html": "<div>\n<style scoped>\n    .dataframe tbody tr th:only-of-type {\n        vertical-align: middle;\n    }\n\n    .dataframe tbody tr th {\n        vertical-align: top;\n    }\n\n    .dataframe thead th {\n        text-align: right;\n    }\n</style>\n<table border=\"1\" class=\"dataframe\">\n  <thead>\n    <tr style=\"text-align: right;\">\n      <th></th>\n      <th>Unnamed: 0</th>\n      <th>Words</th>\n      <th>idf_weights</th>\n    </tr>\n  </thead>\n  <tbody>\n    <tr>\n      <th>0</th>\n      <td>30</td>\n      <td>goals</td>\n      <td>7.066495</td>\n    </tr>\n    <tr>\n      <th>1</th>\n      <td>82</td>\n      <td>tolerance</td>\n      <td>7.066495</td>\n    </tr>\n    <tr>\n      <th>2</th>\n      <td>85</td>\n      <td>trivial</td>\n      <td>7.066495</td>\n    </tr>\n    <tr>\n      <th>3</th>\n      <td>36</td>\n      <td>larger</td>\n      <td>7.066495</td>\n    </tr>\n    <tr>\n      <th>4</th>\n      <td>43</td>\n      <td>messages</td>\n      <td>7.066495</td>\n    </tr>\n    <tr>\n      <th>...</th>\n      <td>...</td>\n      <td>...</td>\n      <td>...</td>\n    </tr>\n    <tr>\n      <th>89</th>\n      <td>84</td>\n      <td>transactions</td>\n      <td>5.331894</td>\n    </tr>\n    <tr>\n      <th>90</th>\n      <td>86</td>\n      <td>unl</td>\n      <td>5.331894</td>\n    </tr>\n    <tr>\n      <th>91</th>\n      <td>45</td>\n      <td>network</td>\n      <td>4.907010</td>\n    </tr>\n    <tr>\n      <th>92</th>\n      <td>47</td>\n      <td>nodes</td>\n      <td>4.763910</td>\n    </tr>\n    <tr>\n      <th>93</th>\n      <td>14</td>\n      <td>consensus</td>\n      <td>4.358445</td>\n    </tr>\n  </tbody>\n</table>\n<p>94 rows × 3 columns</p>\n</div>"
     },
     "execution_count": 9,
     "metadata": {},
     "output_type": "execute_result"
    }
   ],
   "source": [
    "df"
   ],
   "metadata": {
    "collapsed": false,
    "pycharm": {
     "name": "#%%\n"
    }
   }
  },
  {
   "cell_type": "code",
   "execution_count": 34,
   "metadata": {
    "pycharm": {
     "name": "#%%\n"
    }
   },
   "outputs": [
    {
     "data": {
      "text/plain": [
       "94"
      ]
     },
     "execution_count": 34,
     "metadata": {},
     "output_type": "execute_result"
    }
   ],
   "source": [
    "len(searchwords)"
   ]
  },
  {
   "cell_type": "code",
   "execution_count": 22,
   "outputs": [],
   "source": [
    "word_dict = dict(zip(df.Words, df.idf_weights))"
   ],
   "metadata": {
    "collapsed": false,
    "pycharm": {
     "name": "#%%\n"
    }
   }
  },
  {
   "cell_type": "code",
   "execution_count": 23,
   "outputs": [
    {
     "data": {
      "text/plain": "{'goals': 7.066494712957974,\n 'tolerance': 7.066494712957974,\n 'trivial': 7.066494712957974,\n 'larger': 7.066494712957974,\n 'messages': 7.066494712957974,\n 'nonfaulty': 7.066494712957974,\n 'note': 7.066494712957974,\n 'open': 7.066494712957974,\n 'rounds': 7.066494712957974,\n 'pro': 7.066494712957974,\n 'strong': 7.066494712957974,\n 'heuristics': 7.066494712957974,\n 'asynchronous': 7.066494712957974,\n 'guarantees': 7.066494712957974,\n 'secure': 7.066494712957974,\n 'formalization': 7.066494712957974,\n 'greater': 7.066494712957974,\n 'current': 7.066494712957974,\n 'known': 6.912344033130716,\n 'able': 6.912344033130716,\n 'long': 6.912344033130716,\n 'members': 6.912344033130716,\n 'given': 6.912344033130716,\n 'previous': 6.912344033130716,\n 'sets': 6.912344033130716,\n 'reached': 6.912344033130716,\n 'requirement': 6.912344033130716,\n 'result': 6.912344033130716,\n 'met': 6.912344033130716,\n 'ing': 6.912344033130716,\n 'generals': 6.912344033130716,\n 'fraudulent': 6.912344033130716,\n 'applied': 6.912344033130716,\n 'bounds': 6.912344033130716,\n 'connectivity': 6.912344033130716,\n 'time': 6.912344033130716,\n 'order': 6.778812640506193,\n 'votes': 6.778812640506193,\n 'threshold': 6.778812640506193,\n 'fork': 6.778812640506193,\n 'malicious': 6.778812640506193,\n 'user': 6.778812640506193,\n 'systems': 6.778812640506193,\n 'cliques': 6.778812640506193,\n 'achieve': 6.778812640506193,\n 'represents': 6.778812640506193,\n 'reach': 6.661029604849809,\n 'payment': 6.661029604849809,\n 'example': 6.661029604849809,\n 'sus': 6.661029604849809,\n 'consen': 6.661029604849809,\n 'users': 6.661029604849809,\n 'convergence': 6.661029604849809,\n 'different': 6.661029604849809,\n 'values': 6.661029604849809,\n 'faulty': 6.661029604849809,\n 'algorithms': 6.555669089191984,\n 'face': 6.555669089191984,\n 'number': 6.555669089191984,\n 'correct': 6.555669089191984,\n 'lastclosed': 6.555669089191984,\n 'case': 6.460358909387659,\n 'possible': 6.460358909387659,\n 'pc': 6.460358909387659,\n 'latency': 6.460358909387659,\n 'rpca': 6.460358909387659,\n 'size': 6.373347532398029,\n 'utility': 6.373347532398029,\n 'set': 6.373347532398029,\n 'work': 6.293304824724492,\n 'round': 6.219196852570771,\n 'required': 6.219196852570771,\n 'probability': 6.219196852570771,\n 'unls': 6.219196852570771,\n 'failures': 6.150203981083819,\n 'problem': 6.150203981083819,\n 'node': 6.150203981083819,\n 'server': 6.085665459946248,\n 'protocol': 5.967882424289864,\n 'bound': 5.967882424289864,\n 'transaction': 5.913815203019588,\n 'distributed': 5.913815203019588,\n 'algorithm': 5.862521908632038,\n 'process': 5.767211728827713,\n 'byzantine': 5.72275996625688,\n 'ripple': 5.5624173161817,\n 'ledger': 5.5624173161817,\n 'correctness': 5.5624173161817,\n 'agreement': 5.526049672010825,\n 'transactions': 5.331893657569868,\n 'unl': 5.331893657569868,\n 'network': 4.9070104636046015,\n 'nodes': 4.763909619963929,\n 'consensus': 4.358444511855764}"
     },
     "execution_count": 23,
     "metadata": {},
     "output_type": "execute_result"
    }
   ],
   "source": [
    "word_dict"
   ],
   "metadata": {
    "collapsed": false,
    "pycharm": {
     "name": "#%%\n"
    }
   }
  },
  {
   "cell_type": "code",
   "execution_count": 34,
   "metadata": {
    "pycharm": {
     "name": "#%%\n"
    }
   },
   "outputs": [
    {
     "name": "stdout",
     "output_type": "stream",
     "text": [
      "WeTrust1.pdf\n",
      "[['WeTrust1.pdf', 'goals', 2]]\n",
      "[['WeTrust1.pdf', 'goals', 2], ['WeTrust1.pdf', 'tolerance', 0]]\n",
      "[['WeTrust1.pdf', 'goals', 2], ['WeTrust1.pdf', 'tolerance', 0], ['WeTrust1.pdf', 'trivial', 0]]\n",
      "[['WeTrust1.pdf', 'goals', 2], ['WeTrust1.pdf', 'tolerance', 0], ['WeTrust1.pdf', 'trivial', 0], ['WeTrust1.pdf', 'larger', 3]]\n",
      "[['WeTrust1.pdf', 'goals', 2], ['WeTrust1.pdf', 'tolerance', 0], ['WeTrust1.pdf', 'trivial', 0], ['WeTrust1.pdf', 'larger', 3], ['WeTrust1.pdf', 'messages', 0]]\n",
      "[['WeTrust1.pdf', 'goals', 2], ['WeTrust1.pdf', 'tolerance', 0], ['WeTrust1.pdf', 'trivial', 0], ['WeTrust1.pdf', 'larger', 3], ['WeTrust1.pdf', 'messages', 0], ['WeTrust1.pdf', 'nonfaulty', 0]]\n"
     ]
    },
    {
     "ename": "KeyboardInterrupt",
     "evalue": "",
     "output_type": "error",
     "traceback": [
      "\u001B[0;31m---------------------------------------------------------------------------\u001B[0m",
      "\u001B[0;31mKeyboardInterrupt\u001B[0m                         Traceback (most recent call last)",
      "Input \u001B[0;32mIn [34]\u001B[0m, in \u001B[0;36m<cell line: 3>\u001B[0;34m()\u001B[0m\n\u001B[1;32m     11\u001B[0m \u001B[38;5;28;01mfor\u001B[39;00m search \u001B[38;5;129;01min\u001B[39;00m words:\n\u001B[1;32m     12\u001B[0m     \u001B[38;5;28;01mtry\u001B[39;00m:\n\u001B[0;32m---> 13\u001B[0m         TermCount \u001B[38;5;241m=\u001B[39m \u001B[43msearchForWord\u001B[49m\u001B[43m(\u001B[49m\u001B[43mfilename\u001B[49m\u001B[43m,\u001B[49m\u001B[43m \u001B[49m\u001B[43msearch\u001B[49m\u001B[43m)\u001B[49m\n\u001B[1;32m     14\u001B[0m         \u001B[38;5;66;03m#print(filename, search, TermCount)\u001B[39;00m\n\u001B[1;32m     15\u001B[0m         \u001B[38;5;66;03m#termcount.append([filename, search, TermCount])\u001B[39;00m\n\u001B[1;32m     16\u001B[0m         \u001B[38;5;66;03m#print(TermCount)\u001B[39;00m\n\u001B[1;32m     18\u001B[0m     \u001B[38;5;28;01mexcept\u001B[39;00m \u001B[38;5;167;01mException\u001B[39;00m:\n",
      "Input \u001B[0;32mIn [3]\u001B[0m, in \u001B[0;36msearchForWord\u001B[0;34m(pdf_file, search)\u001B[0m\n\u001B[1;32m      6\u001B[0m \u001B[38;5;28;01mfor\u001B[39;00m i \u001B[38;5;129;01min\u001B[39;00m \u001B[38;5;28mrange\u001B[39m(pages):\n\u001B[1;32m      7\u001B[0m     currentPage \u001B[38;5;241m=\u001B[39m pdfReader\u001B[38;5;241m.\u001B[39mgetPage(i)\n\u001B[0;32m----> 8\u001B[0m     text \u001B[38;5;241m=\u001B[39m \u001B[43mcurrentPage\u001B[49m\u001B[38;5;241;43m.\u001B[39;49m\u001B[43mextractText\u001B[49m\u001B[43m(\u001B[49m\u001B[43m)\u001B[49m\n\u001B[1;32m      9\u001B[0m     \u001B[38;5;28;01mif\u001B[39;00m re\u001B[38;5;241m.\u001B[39mfindall(search, text):\n\u001B[1;32m     10\u001B[0m         words \u001B[38;5;241m=\u001B[39m \u001B[38;5;28mlen\u001B[39m(re\u001B[38;5;241m.\u001B[39mfindall(search, text))\n",
      "File \u001B[0;32m~/opt/anaconda3/lib/python3.9/site-packages/PyPDF2/_page.py:1339\u001B[0m, in \u001B[0;36mPageObject.extractText\u001B[0;34m(self, Tj_sep, TJ_sep)\u001B[0m\n\u001B[1;32m   1333\u001B[0m \u001B[38;5;124;03m\"\"\"\u001B[39;00m\n\u001B[1;32m   1334\u001B[0m \u001B[38;5;124;03m.. deprecated:: 1.28.0\u001B[39;00m\n\u001B[1;32m   1335\u001B[0m \n\u001B[1;32m   1336\u001B[0m \u001B[38;5;124;03m    Use :meth:`extract_text` instead.\u001B[39;00m\n\u001B[1;32m   1337\u001B[0m \u001B[38;5;124;03m\"\"\"\u001B[39;00m\n\u001B[1;32m   1338\u001B[0m deprecate_with_replacement(\u001B[38;5;124m\"\u001B[39m\u001B[38;5;124mextractText\u001B[39m\u001B[38;5;124m\"\u001B[39m, \u001B[38;5;124m\"\u001B[39m\u001B[38;5;124mextract_text\u001B[39m\u001B[38;5;124m\"\u001B[39m)\n\u001B[0;32m-> 1339\u001B[0m \u001B[38;5;28;01mreturn\u001B[39;00m \u001B[38;5;28;43mself\u001B[39;49m\u001B[38;5;241;43m.\u001B[39;49m\u001B[43mextract_text\u001B[49m\u001B[43m(\u001B[49m\u001B[43mTj_sep\u001B[49m\u001B[38;5;241;43m=\u001B[39;49m\u001B[43mTj_sep\u001B[49m\u001B[43m,\u001B[49m\u001B[43m \u001B[49m\u001B[43mTJ_sep\u001B[49m\u001B[38;5;241;43m=\u001B[39;49m\u001B[43mTJ_sep\u001B[49m\u001B[43m)\u001B[49m\n",
      "File \u001B[0;32m~/opt/anaconda3/lib/python3.9/site-packages/PyPDF2/_page.py:1316\u001B[0m, in \u001B[0;36mPageObject.extract_text\u001B[0;34m(self, Tj_sep, TJ_sep, space_width)\u001B[0m\n\u001B[1;32m   1298\u001B[0m \u001B[38;5;28;01mdef\u001B[39;00m \u001B[38;5;21mextract_text\u001B[39m(\n\u001B[1;32m   1299\u001B[0m     \u001B[38;5;28mself\u001B[39m, Tj_sep: \u001B[38;5;28mstr\u001B[39m \u001B[38;5;241m=\u001B[39m \u001B[38;5;124m\"\u001B[39m\u001B[38;5;124m\"\u001B[39m, TJ_sep: \u001B[38;5;28mstr\u001B[39m \u001B[38;5;241m=\u001B[39m \u001B[38;5;124m\"\u001B[39m\u001B[38;5;124m\"\u001B[39m, space_width: \u001B[38;5;28mfloat\u001B[39m \u001B[38;5;241m=\u001B[39m \u001B[38;5;241m200.0\u001B[39m\n\u001B[1;32m   1300\u001B[0m ) \u001B[38;5;241m-\u001B[39m\u001B[38;5;241m>\u001B[39m \u001B[38;5;28mstr\u001B[39m:\n\u001B[1;32m   1301\u001B[0m     \u001B[38;5;124;03m\"\"\"\u001B[39;00m\n\u001B[1;32m   1302\u001B[0m \u001B[38;5;124;03m    Locate all text drawing commands, in the order they are provided in the\u001B[39;00m\n\u001B[1;32m   1303\u001B[0m \u001B[38;5;124;03m    content stream, and extract the text.\u001B[39;00m\n\u001B[0;32m   (...)\u001B[0m\n\u001B[1;32m   1314\u001B[0m \u001B[38;5;124;03m    :return: The extracted text\u001B[39;00m\n\u001B[1;32m   1315\u001B[0m \u001B[38;5;124;03m    \"\"\"\u001B[39;00m\n\u001B[0;32m-> 1316\u001B[0m     \u001B[38;5;28;01mreturn\u001B[39;00m \u001B[38;5;28;43mself\u001B[39;49m\u001B[38;5;241;43m.\u001B[39;49m\u001B[43m_extract_text\u001B[49m\u001B[43m(\u001B[49m\u001B[38;5;28;43mself\u001B[39;49m\u001B[43m,\u001B[49m\u001B[43m \u001B[49m\u001B[38;5;28;43mself\u001B[39;49m\u001B[38;5;241;43m.\u001B[39;49m\u001B[43mpdf\u001B[49m\u001B[43m,\u001B[49m\u001B[43m \u001B[49m\u001B[43mspace_width\u001B[49m\u001B[43m,\u001B[49m\u001B[43m \u001B[49m\u001B[43mPG\u001B[49m\u001B[38;5;241;43m.\u001B[39;49m\u001B[43mCONTENTS\u001B[49m\u001B[43m)\u001B[49m\n",
      "File \u001B[0;32m~/opt/anaconda3/lib/python3.9/site-packages/PyPDF2/_page.py:1138\u001B[0m, in \u001B[0;36mPageObject._extract_text\u001B[0;34m(self, obj, pdf, space_width, content_key)\u001B[0m\n\u001B[1;32m   1134\u001B[0m     content \u001B[38;5;241m=\u001B[39m (\n\u001B[1;32m   1135\u001B[0m         obj[content_key]\u001B[38;5;241m.\u001B[39mget_object() \u001B[38;5;28;01mif\u001B[39;00m \u001B[38;5;28misinstance\u001B[39m(content_key, \u001B[38;5;28mstr\u001B[39m) \u001B[38;5;28;01melse\u001B[39;00m obj\n\u001B[1;32m   1136\u001B[0m     )\n\u001B[1;32m   1137\u001B[0m     \u001B[38;5;28;01mif\u001B[39;00m \u001B[38;5;129;01mnot\u001B[39;00m \u001B[38;5;28misinstance\u001B[39m(content, ContentStream):\n\u001B[0;32m-> 1138\u001B[0m         content \u001B[38;5;241m=\u001B[39m \u001B[43mContentStream\u001B[49m\u001B[43m(\u001B[49m\u001B[43mcontent\u001B[49m\u001B[43m,\u001B[49m\u001B[43m \u001B[49m\u001B[43mpdf\u001B[49m\u001B[43m,\u001B[49m\u001B[43m \u001B[49m\u001B[38;5;124;43m\"\u001B[39;49m\u001B[38;5;124;43mbytes\u001B[39;49m\u001B[38;5;124;43m\"\u001B[39;49m\u001B[43m)\u001B[49m\n\u001B[1;32m   1139\u001B[0m \u001B[38;5;28;01mexcept\u001B[39;00m \u001B[38;5;167;01mKeyError\u001B[39;00m:  \u001B[38;5;66;03m# it means no content can be extracted(certainly empty page)\u001B[39;00m\n\u001B[1;32m   1140\u001B[0m     \u001B[38;5;28;01mreturn\u001B[39;00m \u001B[38;5;124m\"\u001B[39m\u001B[38;5;124m\"\u001B[39m\n",
      "File \u001B[0;32m~/opt/anaconda3/lib/python3.9/site-packages/PyPDF2/generic.py:1177\u001B[0m, in \u001B[0;36mContentStream.__init__\u001B[0;34m(self, stream, pdf, forced_encoding)\u001B[0m\n\u001B[1;32m   1175\u001B[0m     stream_bytes \u001B[38;5;241m=\u001B[39m BytesIO(stream_data_bytes)\n\u001B[1;32m   1176\u001B[0m \u001B[38;5;28mself\u001B[39m\u001B[38;5;241m.\u001B[39mforced_encoding \u001B[38;5;241m=\u001B[39m forced_encoding\n\u001B[0;32m-> 1177\u001B[0m \u001B[38;5;28;43mself\u001B[39;49m\u001B[38;5;241;43m.\u001B[39;49m\u001B[43m__parse_content_stream\u001B[49m\u001B[43m(\u001B[49m\u001B[43mstream_bytes\u001B[49m\u001B[43m)\u001B[49m\n",
      "File \u001B[0;32m~/opt/anaconda3/lib/python3.9/site-packages/PyPDF2/generic.py:1207\u001B[0m, in \u001B[0;36mContentStream.__parse_content_stream\u001B[0;34m(self, stream)\u001B[0m\n\u001B[1;32m   1205\u001B[0m         peek \u001B[38;5;241m=\u001B[39m stream\u001B[38;5;241m.\u001B[39mread(\u001B[38;5;241m1\u001B[39m)\n\u001B[1;32m   1206\u001B[0m \u001B[38;5;28;01melse\u001B[39;00m:\n\u001B[0;32m-> 1207\u001B[0m     operands\u001B[38;5;241m.\u001B[39mappend(\u001B[43mread_object\u001B[49m\u001B[43m(\u001B[49m\u001B[43mstream\u001B[49m\u001B[43m,\u001B[49m\u001B[43m \u001B[49m\u001B[38;5;28;43;01mNone\u001B[39;49;00m\u001B[43m,\u001B[49m\u001B[43m \u001B[49m\u001B[38;5;28;43mself\u001B[39;49m\u001B[38;5;241;43m.\u001B[39;49m\u001B[43mforced_encoding\u001B[49m\u001B[43m)\u001B[49m)\n",
      "File \u001B[0;32m~/opt/anaconda3/lib/python3.9/site-packages/PyPDF2/generic.py:1339\u001B[0m, in \u001B[0;36mread_object\u001B[0;34m(stream, pdf, forced_encoding)\u001B[0m\n\u001B[1;32m   1337\u001B[0m     \u001B[38;5;28;01mreturn\u001B[39;00m IndirectObject\u001B[38;5;241m.\u001B[39mread_from_stream(stream, pdf)\n\u001B[1;32m   1338\u001B[0m \u001B[38;5;28;01melse\u001B[39;00m:\n\u001B[0;32m-> 1339\u001B[0m     \u001B[38;5;28;01mreturn\u001B[39;00m \u001B[43mNumberObject\u001B[49m\u001B[38;5;241;43m.\u001B[39;49m\u001B[43mread_from_stream\u001B[49m\u001B[43m(\u001B[49m\u001B[43mstream\u001B[49m\u001B[43m)\u001B[49m\n",
      "File \u001B[0;32m~/opt/anaconda3/lib/python3.9/site-packages/PyPDF2/generic.py:370\u001B[0m, in \u001B[0;36mNumberObject.read_from_stream\u001B[0;34m(stream)\u001B[0m\n\u001B[1;32m    368\u001B[0m num \u001B[38;5;241m=\u001B[39m read_until_regex(stream, NumberObject\u001B[38;5;241m.\u001B[39mNumberPattern)\n\u001B[1;32m    369\u001B[0m \u001B[38;5;28;01mif\u001B[39;00m num\u001B[38;5;241m.\u001B[39mfind(\u001B[38;5;124mb\u001B[39m\u001B[38;5;124m\"\u001B[39m\u001B[38;5;124m.\u001B[39m\u001B[38;5;124m\"\u001B[39m) \u001B[38;5;241m!=\u001B[39m \u001B[38;5;241m-\u001B[39m\u001B[38;5;241m1\u001B[39m:\n\u001B[0;32m--> 370\u001B[0m     \u001B[38;5;28;01mreturn\u001B[39;00m \u001B[43mFloatObject\u001B[49m\u001B[43m(\u001B[49m\u001B[43mnum\u001B[49m\u001B[43m)\u001B[49m\n\u001B[1;32m    371\u001B[0m \u001B[38;5;28;01mreturn\u001B[39;00m NumberObject(num)\n",
      "File \u001B[0;32m~/opt/anaconda3/lib/python3.9/site-packages/PyPDF2/generic.py:306\u001B[0m, in \u001B[0;36mFloatObject.__new__\u001B[0;34m(cls, value, context)\u001B[0m\n\u001B[1;32m    302\u001B[0m \u001B[38;5;28;01mdef\u001B[39;00m \u001B[38;5;21m__new__\u001B[39m(\n\u001B[1;32m    303\u001B[0m     \u001B[38;5;28mcls\u001B[39m, value: Union[\u001B[38;5;28mstr\u001B[39m, Any] \u001B[38;5;241m=\u001B[39m \u001B[38;5;124m\"\u001B[39m\u001B[38;5;124m0\u001B[39m\u001B[38;5;124m\"\u001B[39m, context: Optional[Any] \u001B[38;5;241m=\u001B[39m \u001B[38;5;28;01mNone\u001B[39;00m\n\u001B[1;32m    304\u001B[0m ) \u001B[38;5;241m-\u001B[39m\u001B[38;5;241m>\u001B[39m \u001B[38;5;124m\"\u001B[39m\u001B[38;5;124mFloatObject\u001B[39m\u001B[38;5;124m\"\u001B[39m:\n\u001B[1;32m    305\u001B[0m     \u001B[38;5;28;01mtry\u001B[39;00m:\n\u001B[0;32m--> 306\u001B[0m         \u001B[38;5;28;01mreturn\u001B[39;00m \u001B[43mdecimal\u001B[49m\u001B[38;5;241;43m.\u001B[39;49m\u001B[43mDecimal\u001B[49m\u001B[38;5;241;43m.\u001B[39;49m\u001B[38;5;21;43m__new__\u001B[39;49m\u001B[43m(\u001B[49m\u001B[38;5;28;43mcls\u001B[39;49m\u001B[43m,\u001B[49m\u001B[43m \u001B[49m\u001B[43mstr_\u001B[49m\u001B[43m(\u001B[49m\u001B[43mvalue\u001B[49m\u001B[43m)\u001B[49m\u001B[43m,\u001B[49m\u001B[43m \u001B[49m\u001B[43mcontext\u001B[49m\u001B[43m)\u001B[49m\n\u001B[1;32m    307\u001B[0m     \u001B[38;5;28;01mexcept\u001B[39;00m \u001B[38;5;167;01mException\u001B[39;00m:\n\u001B[1;32m    308\u001B[0m         \u001B[38;5;28;01mtry\u001B[39;00m:\n",
      "\u001B[0;31mKeyboardInterrupt\u001B[0m: "
     ]
    }
   ],
   "source": [
    "os.chdir('/Users/alisdghnia/Desktop/PDF Whitepapers Copy/')\n",
    "termcount = []\n",
    "dict = {}\n",
    "for (dirname,dirs,files) in os.walk(r'/Users/alisdghnia/Desktop/PDF Whitepapers Copy'):\n",
    "\n",
    "    for filename in files:\n",
    "        print(filename)\n",
    "        if filename.endswith('.pdf'):\n",
    "            thefile = os.path.join(filename)\n",
    "            words = df['Words']\n",
    "            termcount = {}\n",
    "            for search in words:\n",
    "                try:\n",
    "                    TermCount = searchForWord(filename, search)\n",
    "                    #print(filename, search, TermCount)\n",
    "                    #termcount.append([filename, search, TermCount])\n",
    "                    #print(TermCount)\n",
    "\n",
    "                except Exception:\n",
    "                    pass\n",
    "                #print(TermCount)\n",
    "                termcount.append([filename, search, TermCount])\n",
    "                #print(termcount)\n",
    "                #print(termcount)\n",
    "                #termcount.extend([filename, search, TermCount])\n",
    "                print(termcount)\n",
    "                #termcount = termcount[-1][:]\n",
    "                #termcount = (list(termcount))\n",
    "                #print(termcount[-1])\n",
    "                #list1.append(termcount[-1][:])\n",
    "                #print(list1)\n",
    "                #list1.append(termcount)\n",
    "                #print(list1)\n",
    "                #list1.append([filename, words, TermCount])\n",
    "                #print(list1)\n",
    "                #for element in termcount[-1]:\n",
    "                    #list2.append(element)\n",
    "                    #print(element)\n",
    "                    #print(list2)\n",
    "                    \n",
    "                ###for count in termcount:\n",
    "                    ###print(search, count)\n",
    "                #print(filename, search, TermCount)\n",
    "                #termcount.append(TermCount)\n",
    "                #print(filename,termcount[3::1])\n",
    "                #df1 = pd.DataFrame(termcount[-1], index = names, columns = searchwords)\n",
    "                #df1 = pd.DataFrame(termcount[-1][:], index = searchwords, columns = names)\n",
    "                #print(df1)"
   ]
  },
  {
   "cell_type": "code",
   "execution_count": null,
   "metadata": {
    "pycharm": {
     "name": "#%%\n"
    }
   },
   "outputs": [
    {
     "name": "stdout",
     "output_type": "stream",
     "text": [
      "['goals', 'tolerance', 'trivial', 'larger', 'messages', 'nonfaulty', 'note', 'open', 'rounds', 'pro', 'strong', 'heuristics', 'asynchronous', 'guarantees', 'secure', 'formalization', 'greater', 'current', 'known', 'able', 'long', 'members', 'given', 'previous', 'sets', 'reached', 'requirement', 'result', 'met', 'ing', 'generals', 'fraudulent', 'applied', 'bounds', 'connectivity', 'time', 'order', 'votes', 'threshold', 'fork', 'malicious', 'user', 'systems', 'cliques', 'achieve', 'represents', 'reach', 'payment', 'example', 'sus', 'consen', 'users', 'convergence', 'different', 'values', 'faulty', 'algorithms', 'face', 'number', 'correct', 'lastclosed', 'case', 'possible', 'pc', 'latency', 'rpca', 'size', 'utility', 'set', 'work', 'round', 'required', 'probability', 'unls', 'failures', 'problem', 'node', 'server', 'protocol', 'bound', 'transaction', 'distributed', 'algorithm', 'process', 'byzantine', 'ripple', 'ledger', 'correctness', 'agreement', 'transactions', 'unl', 'network', 'nodes', 'consensus']\n"
     ]
    }
   ],
   "source": [
    "print(list(df['Words']))"
   ]
  },
  {
   "cell_type": "code",
   "execution_count": 34,
   "metadata": {
    "pycharm": {
     "name": "#%%\n"
    }
   },
   "outputs": [
    {
     "ename": "KeyboardInterrupt",
     "evalue": "",
     "output_type": "error",
     "traceback": [
      "\u001B[0;31m---------------------------------------------------------------------------\u001B[0m",
      "\u001B[0;31mKeyboardInterrupt\u001B[0m                         Traceback (most recent call last)",
      "\u001B[1;32m/Users/alisdghnia/Desktop/Crypto Research Repo Folder/Crypto-Whitepaper-Research-1/TF code.ipynb Cell 17\u001B[0m in \u001B[0;36m<cell line: 2>\u001B[0;34m()\u001B[0m\n\u001B[1;32m      <a href='vscode-notebook-cell:/Users/alisdghnia/Desktop/Crypto%20Research%20Repo%20Folder/Crypto-Whitepaper-Research-1/TF%20code.ipynb#X23sZmlsZQ%3D%3D?line=7'>8</a>\u001B[0m termcount \u001B[39m=\u001B[39m []\n\u001B[1;32m      <a href='vscode-notebook-cell:/Users/alisdghnia/Desktop/Crypto%20Research%20Repo%20Folder/Crypto-Whitepaper-Research-1/TF%20code.ipynb#X23sZmlsZQ%3D%3D?line=8'>9</a>\u001B[0m \u001B[39mfor\u001B[39;00m search \u001B[39min\u001B[39;00m words:\n\u001B[0;32m---> <a href='vscode-notebook-cell:/Users/alisdghnia/Desktop/Crypto%20Research%20Repo%20Folder/Crypto-Whitepaper-Research-1/TF%20code.ipynb#X23sZmlsZQ%3D%3D?line=9'>10</a>\u001B[0m     TermCount \u001B[39m=\u001B[39m searchForWord(filename, search)\n\u001B[1;32m     <a href='vscode-notebook-cell:/Users/alisdghnia/Desktop/Crypto%20Research%20Repo%20Folder/Crypto-Whitepaper-Research-1/TF%20code.ipynb#X23sZmlsZQ%3D%3D?line=10'>11</a>\u001B[0m     \u001B[39m#print(TermCount)\u001B[39;00m\n\u001B[1;32m     <a href='vscode-notebook-cell:/Users/alisdghnia/Desktop/Crypto%20Research%20Repo%20Folder/Crypto-Whitepaper-Research-1/TF%20code.ipynb#X23sZmlsZQ%3D%3D?line=11'>12</a>\u001B[0m termcount\u001B[39m.\u001B[39mappend([filename, search, TermCount])\n",
      "\u001B[1;32m/Users/alisdghnia/Desktop/Crypto Research Repo Folder/Crypto-Whitepaper-Research-1/TF code.ipynb Cell 17\u001B[0m in \u001B[0;36msearchForWord\u001B[0;34m(pdf_file, search)\u001B[0m\n\u001B[1;32m      <a href='vscode-notebook-cell:/Users/alisdghnia/Desktop/Crypto%20Research%20Repo%20Folder/Crypto-Whitepaper-Research-1/TF%20code.ipynb#X23sZmlsZQ%3D%3D?line=5'>6</a>\u001B[0m \u001B[39mfor\u001B[39;00m i \u001B[39min\u001B[39;00m \u001B[39mrange\u001B[39m(pages):\n\u001B[1;32m      <a href='vscode-notebook-cell:/Users/alisdghnia/Desktop/Crypto%20Research%20Repo%20Folder/Crypto-Whitepaper-Research-1/TF%20code.ipynb#X23sZmlsZQ%3D%3D?line=6'>7</a>\u001B[0m     currentPage \u001B[39m=\u001B[39m pdfReader\u001B[39m.\u001B[39mgetPage(i)\n\u001B[0;32m----> <a href='vscode-notebook-cell:/Users/alisdghnia/Desktop/Crypto%20Research%20Repo%20Folder/Crypto-Whitepaper-Research-1/TF%20code.ipynb#X23sZmlsZQ%3D%3D?line=7'>8</a>\u001B[0m     text \u001B[39m=\u001B[39m currentPage\u001B[39m.\u001B[39;49mextractText()\n\u001B[1;32m      <a href='vscode-notebook-cell:/Users/alisdghnia/Desktop/Crypto%20Research%20Repo%20Folder/Crypto-Whitepaper-Research-1/TF%20code.ipynb#X23sZmlsZQ%3D%3D?line=8'>9</a>\u001B[0m     \u001B[39mif\u001B[39;00m re\u001B[39m.\u001B[39mfindall(search, text):\n\u001B[1;32m     <a href='vscode-notebook-cell:/Users/alisdghnia/Desktop/Crypto%20Research%20Repo%20Folder/Crypto-Whitepaper-Research-1/TF%20code.ipynb#X23sZmlsZQ%3D%3D?line=9'>10</a>\u001B[0m         words \u001B[39m=\u001B[39m \u001B[39mlen\u001B[39m(re\u001B[39m.\u001B[39mfindall(search, text))\n",
      "File \u001B[0;32m~/opt/anaconda3/lib/python3.9/site-packages/PyPDF2/_page.py:1339\u001B[0m, in \u001B[0;36mPageObject.extractText\u001B[0;34m(self, Tj_sep, TJ_sep)\u001B[0m\n\u001B[1;32m   1333\u001B[0m \u001B[39m\"\"\"\u001B[39;00m\n\u001B[1;32m   1334\u001B[0m \u001B[39m.. deprecated:: 1.28.0\u001B[39;00m\n\u001B[1;32m   1335\u001B[0m \n\u001B[1;32m   1336\u001B[0m \u001B[39m    Use :meth:`extract_text` instead.\u001B[39;00m\n\u001B[1;32m   1337\u001B[0m \u001B[39m\"\"\"\u001B[39;00m\n\u001B[1;32m   1338\u001B[0m deprecate_with_replacement(\u001B[39m\"\u001B[39m\u001B[39mextractText\u001B[39m\u001B[39m\"\u001B[39m, \u001B[39m\"\u001B[39m\u001B[39mextract_text\u001B[39m\u001B[39m\"\u001B[39m)\n\u001B[0;32m-> 1339\u001B[0m \u001B[39mreturn\u001B[39;00m \u001B[39mself\u001B[39;49m\u001B[39m.\u001B[39;49mextract_text(Tj_sep\u001B[39m=\u001B[39;49mTj_sep, TJ_sep\u001B[39m=\u001B[39;49mTJ_sep)\n",
      "File \u001B[0;32m~/opt/anaconda3/lib/python3.9/site-packages/PyPDF2/_page.py:1316\u001B[0m, in \u001B[0;36mPageObject.extract_text\u001B[0;34m(self, Tj_sep, TJ_sep, space_width)\u001B[0m\n\u001B[1;32m   1298\u001B[0m \u001B[39mdef\u001B[39;00m \u001B[39mextract_text\u001B[39m(\n\u001B[1;32m   1299\u001B[0m     \u001B[39mself\u001B[39m, Tj_sep: \u001B[39mstr\u001B[39m \u001B[39m=\u001B[39m \u001B[39m\"\u001B[39m\u001B[39m\"\u001B[39m, TJ_sep: \u001B[39mstr\u001B[39m \u001B[39m=\u001B[39m \u001B[39m\"\u001B[39m\u001B[39m\"\u001B[39m, space_width: \u001B[39mfloat\u001B[39m \u001B[39m=\u001B[39m \u001B[39m200.0\u001B[39m\n\u001B[1;32m   1300\u001B[0m ) \u001B[39m-\u001B[39m\u001B[39m>\u001B[39m \u001B[39mstr\u001B[39m:\n\u001B[1;32m   1301\u001B[0m     \u001B[39m\"\"\"\u001B[39;00m\n\u001B[1;32m   1302\u001B[0m \u001B[39m    Locate all text drawing commands, in the order they are provided in the\u001B[39;00m\n\u001B[1;32m   1303\u001B[0m \u001B[39m    content stream, and extract the text.\u001B[39;00m\n\u001B[0;32m   (...)\u001B[0m\n\u001B[1;32m   1314\u001B[0m \u001B[39m    :return: The extracted text\u001B[39;00m\n\u001B[1;32m   1315\u001B[0m \u001B[39m    \"\"\"\u001B[39;00m\n\u001B[0;32m-> 1316\u001B[0m     \u001B[39mreturn\u001B[39;00m \u001B[39mself\u001B[39;49m\u001B[39m.\u001B[39;49m_extract_text(\u001B[39mself\u001B[39;49m, \u001B[39mself\u001B[39;49m\u001B[39m.\u001B[39;49mpdf, space_width, PG\u001B[39m.\u001B[39;49mCONTENTS)\n",
      "File \u001B[0;32m~/opt/anaconda3/lib/python3.9/site-packages/PyPDF2/_page.py:1138\u001B[0m, in \u001B[0;36mPageObject._extract_text\u001B[0;34m(self, obj, pdf, space_width, content_key)\u001B[0m\n\u001B[1;32m   1134\u001B[0m     content \u001B[39m=\u001B[39m (\n\u001B[1;32m   1135\u001B[0m         obj[content_key]\u001B[39m.\u001B[39mget_object() \u001B[39mif\u001B[39;00m \u001B[39misinstance\u001B[39m(content_key, \u001B[39mstr\u001B[39m) \u001B[39melse\u001B[39;00m obj\n\u001B[1;32m   1136\u001B[0m     )\n\u001B[1;32m   1137\u001B[0m     \u001B[39mif\u001B[39;00m \u001B[39mnot\u001B[39;00m \u001B[39misinstance\u001B[39m(content, ContentStream):\n\u001B[0;32m-> 1138\u001B[0m         content \u001B[39m=\u001B[39m ContentStream(content, pdf, \u001B[39m\"\u001B[39;49m\u001B[39mbytes\u001B[39;49m\u001B[39m\"\u001B[39;49m)\n\u001B[1;32m   1139\u001B[0m \u001B[39mexcept\u001B[39;00m \u001B[39mKeyError\u001B[39;00m:  \u001B[39m# it means no content can be extracted(certainly empty page)\u001B[39;00m\n\u001B[1;32m   1140\u001B[0m     \u001B[39mreturn\u001B[39;00m \u001B[39m\"\u001B[39m\u001B[39m\"\u001B[39m\n",
      "File \u001B[0;32m~/opt/anaconda3/lib/python3.9/site-packages/PyPDF2/generic.py:1177\u001B[0m, in \u001B[0;36mContentStream.__init__\u001B[0;34m(self, stream, pdf, forced_encoding)\u001B[0m\n\u001B[1;32m   1175\u001B[0m     stream_bytes \u001B[39m=\u001B[39m BytesIO(stream_data_bytes)\n\u001B[1;32m   1176\u001B[0m \u001B[39mself\u001B[39m\u001B[39m.\u001B[39mforced_encoding \u001B[39m=\u001B[39m forced_encoding\n\u001B[0;32m-> 1177\u001B[0m \u001B[39mself\u001B[39;49m\u001B[39m.\u001B[39;49m__parse_content_stream(stream_bytes)\n",
      "File \u001B[0;32m~/opt/anaconda3/lib/python3.9/site-packages/PyPDF2/generic.py:1188\u001B[0m, in \u001B[0;36mContentStream.__parse_content_stream\u001B[0;34m(self, stream)\u001B[0m\n\u001B[1;32m   1186\u001B[0m stream\u001B[39m.\u001B[39mseek(\u001B[39m-\u001B[39m\u001B[39m1\u001B[39m, \u001B[39m1\u001B[39m)\n\u001B[1;32m   1187\u001B[0m \u001B[39mif\u001B[39;00m peek\u001B[39m.\u001B[39misalpha() \u001B[39mor\u001B[39;00m peek \u001B[39min\u001B[39;00m (\u001B[39mb\u001B[39m\u001B[39m\"\u001B[39m\u001B[39m'\u001B[39m\u001B[39m\"\u001B[39m, \u001B[39mb\u001B[39m\u001B[39m'\u001B[39m\u001B[39m\"\u001B[39m\u001B[39m'\u001B[39m):\n\u001B[0;32m-> 1188\u001B[0m     operator \u001B[39m=\u001B[39m read_until_regex(stream, NameObject\u001B[39m.\u001B[39;49mdelimiter_pattern, \u001B[39mTrue\u001B[39;49;00m)\n\u001B[1;32m   1189\u001B[0m     \u001B[39mif\u001B[39;00m operator \u001B[39m==\u001B[39m \u001B[39mb\u001B[39m\u001B[39m\"\u001B[39m\u001B[39mBI\u001B[39m\u001B[39m\"\u001B[39m:\n\u001B[1;32m   1190\u001B[0m         \u001B[39m# begin inline image - a completely different parsing\u001B[39;00m\n\u001B[1;32m   1191\u001B[0m         \u001B[39m# mechanism is required, of course... thanks buddy...\u001B[39;00m\n\u001B[1;32m   1192\u001B[0m         \u001B[39massert\u001B[39;00m operands \u001B[39m==\u001B[39m []\n",
      "File \u001B[0;32m~/opt/anaconda3/lib/python3.9/site-packages/PyPDF2/_utils.py:148\u001B[0m, in \u001B[0;36mread_until_regex\u001B[0;34m(stream, regex, ignore_eof)\u001B[0m\n\u001B[1;32m    146\u001B[0m         \u001B[39mreturn\u001B[39;00m name\n\u001B[1;32m    147\u001B[0m     \u001B[39mraise\u001B[39;00m PdfStreamError(STREAM_TRUNCATED_PREMATURELY)\n\u001B[0;32m--> 148\u001B[0m m \u001B[39m=\u001B[39m regex\u001B[39m.\u001B[39;49msearch(tok)\n\u001B[1;32m    149\u001B[0m \u001B[39mif\u001B[39;00m m \u001B[39mis\u001B[39;00m \u001B[39mnot\u001B[39;00m \u001B[39mNone\u001B[39;00m:\n\u001B[1;32m    150\u001B[0m     name \u001B[39m+\u001B[39m\u001B[39m=\u001B[39m tok[: m\u001B[39m.\u001B[39mstart()]\n",
      "\u001B[0;31mKeyboardInterrupt\u001B[0m: "
     ]
    }
   ],
   "source": [
    "os.chdir('/Users/alisdghnia/Desktop/PDF Whitepapers Copy/')\n",
    "for (dirname,dirs,files) in os.walk('.'):\n",
    "    list1 = []\n",
    "    for filename in files:\n",
    "        if filename.endswith('.pdf'):\n",
    "            thefile = os.path.join(filename)\n",
    "            words = list(df['Words'])\n",
    "            termcount = []\n",
    "            for search in words:\n",
    "                TermCount = searchForWord(filename, search)\n",
    "                #print(TermCount)\n",
    "            termcount.append([filename, search, TermCount])\n",
    "            print(termcount)"
   ]
  },
  {
   "cell_type": "code",
   "execution_count": 12,
   "metadata": {
    "pycharm": {
     "name": "#%%\n"
    }
   },
   "outputs": [],
   "source": [
    "cv = CountVectorizer(stop_words= 'english',lowercase=True,\n",
    "                        max_df=0.8,\n",
    "                        min_df=5)"
   ]
  },
  {
   "cell_type": "code",
   "execution_count": 14,
   "metadata": {
    "pycharm": {
     "name": "#%%\n"
    }
   },
   "outputs": [
    {
     "ename": "ValueError",
     "evalue": "After pruning, no terms remain. Try a lower min_df or a higher max_df.",
     "output_type": "error",
     "traceback": [
      "\u001B[0;31m---------------------------------------------------------------------------\u001B[0m",
      "\u001B[0;31mValueError\u001B[0m                                Traceback (most recent call last)",
      "\u001B[1;32m/Users/alisdghnia/Desktop/Crypto Research Repo Folder/Crypto-Whitepaper-Research-1/TF code.ipynb Cell 19\u001B[0m in \u001B[0;36m<cell line: 1>\u001B[0;34m()\u001B[0m\n\u001B[0;32m----> <a href='vscode-notebook-cell:/Users/alisdghnia/Desktop/Crypto%20Research%20Repo%20Folder/Crypto-Whitepaper-Research-1/TF%20code.ipynb#X26sZmlsZQ%3D%3D?line=0'>1</a>\u001B[0m xtrain_cv \u001B[39m=\u001B[39m cv\u001B[39m.\u001B[39;49mfit_transform(words)\n",
      "File \u001B[0;32m~/opt/anaconda3/lib/python3.9/site-packages/sklearn/feature_extraction/text.py:1347\u001B[0m, in \u001B[0;36mCountVectorizer.fit_transform\u001B[0;34m(self, raw_documents, y)\u001B[0m\n\u001B[1;32m   1345\u001B[0m \u001B[39mif\u001B[39;00m max_features \u001B[39mis\u001B[39;00m \u001B[39mnot\u001B[39;00m \u001B[39mNone\u001B[39;00m:\n\u001B[1;32m   1346\u001B[0m     X \u001B[39m=\u001B[39m \u001B[39mself\u001B[39m\u001B[39m.\u001B[39m_sort_features(X, vocabulary)\n\u001B[0;32m-> 1347\u001B[0m X, \u001B[39mself\u001B[39m\u001B[39m.\u001B[39mstop_words_ \u001B[39m=\u001B[39m \u001B[39mself\u001B[39;49m\u001B[39m.\u001B[39;49m_limit_features(\n\u001B[1;32m   1348\u001B[0m     X, vocabulary, max_doc_count, min_doc_count, max_features\n\u001B[1;32m   1349\u001B[0m )\n\u001B[1;32m   1350\u001B[0m \u001B[39mif\u001B[39;00m max_features \u001B[39mis\u001B[39;00m \u001B[39mNone\u001B[39;00m:\n\u001B[1;32m   1351\u001B[0m     X \u001B[39m=\u001B[39m \u001B[39mself\u001B[39m\u001B[39m.\u001B[39m_sort_features(X, vocabulary)\n",
      "File \u001B[0;32m~/opt/anaconda3/lib/python3.9/site-packages/sklearn/feature_extraction/text.py:1179\u001B[0m, in \u001B[0;36mCountVectorizer._limit_features\u001B[0;34m(self, X, vocabulary, high, low, limit)\u001B[0m\n\u001B[1;32m   1177\u001B[0m kept_indices \u001B[39m=\u001B[39m np\u001B[39m.\u001B[39mwhere(mask)[\u001B[39m0\u001B[39m]\n\u001B[1;32m   1178\u001B[0m \u001B[39mif\u001B[39;00m \u001B[39mlen\u001B[39m(kept_indices) \u001B[39m==\u001B[39m \u001B[39m0\u001B[39m:\n\u001B[0;32m-> 1179\u001B[0m     \u001B[39mraise\u001B[39;00m \u001B[39mValueError\u001B[39;00m(\n\u001B[1;32m   1180\u001B[0m         \u001B[39m\"\u001B[39m\u001B[39mAfter pruning, no terms remain. Try a lower min_df or a higher max_df.\u001B[39m\u001B[39m\"\u001B[39m\n\u001B[1;32m   1181\u001B[0m     )\n\u001B[1;32m   1182\u001B[0m \u001B[39mreturn\u001B[39;00m X[:, kept_indices], removed_terms\n",
      "\u001B[0;31mValueError\u001B[0m: After pruning, no terms remain. Try a lower min_df or a higher max_df."
     ]
    }
   ],
   "source": [
    "xtrain_cv = cv.fit_transform(words)"
   ]
  },
  {
   "cell_type": "code",
   "execution_count": null,
   "metadata": {
    "pycharm": {
     "name": "#%%\n"
    }
   },
   "outputs": [],
   "source": []
  }
 ],
 "metadata": {
  "kernelspec": {
   "display_name": "Python 3.9.12 ('base')",
   "language": "python",
   "name": "python3"
  },
  "language_info": {
   "codemirror_mode": {
    "name": "ipython",
    "version": 3
   },
   "file_extension": ".py",
   "mimetype": "text/x-python",
   "name": "python",
   "nbconvert_exporter": "python",
   "pygments_lexer": "ipython3",
   "version": "3.9.12"
  },
  "orig_nbformat": 4,
  "vscode": {
   "interpreter": {
    "hash": "2d704a9c14a63e47be2984c875a301cfdf06b9deef3d7b2ea4277add99dfd70d"
   }
  }
 },
 "nbformat": 4,
 "nbformat_minor": 2
}